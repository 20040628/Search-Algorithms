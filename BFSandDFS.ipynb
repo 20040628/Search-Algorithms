{
 "cells": [
  {
   "cell_type": "code",
   "execution_count": null,
   "metadata": {
    "ExecuteTime": {
     "end_time": "2025-03-17T11:19:10.609078Z",
     "start_time": "2025-03-17T11:19:10.595630Z"
    },
    "colab": {
     "base_uri": "https://localhost:8080/"
    },
    "id": "ka6-us-52Xp-",
    "outputId": "bf5518ed-86fd-45f2-fc5d-fcc7f422d393"
   },
   "outputs": [],
   "source": [
    "from bbSearch import SearchProblem, search"
   ]
  },
  {
   "cell_type": "code",
   "execution_count": null,
   "metadata": {
    "id": "c6a4l5en38si"
   },
   "outputs": [],
   "source": [
    "import matplotlib.pyplot as plt\n",
    "import matplotlib.patches as patches\n",
    "from copy import deepcopy\n",
    "\n",
    "plt.ioff()  ## Turn off immediate display of plots\n",
    "\n",
    "COLORS = [\"lightgray\", \"red\", \"blue\", \"green\", \"yellow\",\n",
    "          \"orange\", \"purple\", \"pink\", \"brown\"]\n",
    "\n",
    "class BlockState:\n",
    "\n",
    "      # Specify mapping from directions to grid coordinate offsets:\n",
    "      neighbour_offset = {\"left\": (0,-1), \"right\": (0,+1), \"down\":(+1,0), \"up\":(-1,0)}\n",
    "\n",
    "      def __init__( self, blockstate, colors=COLORS ):\n",
    "        self.blockstate = blockstate\n",
    "        self.nrows = len(blockstate)\n",
    "        self.ncols = len(blockstate[0])\n",
    "        self.blocknums = set().union(*[set(row) for row in blockstate])\n",
    "        self.blocknums = self.blocknums - {0}\n",
    "        self.blocknumlist = list(self.blocknums)\n",
    "        self.colors = colors\n",
    "\n",
    "      def __repr__(self):\n",
    "        return( str( self.blockstate ))\n",
    "\n",
    "      # Find the cells occupied by a given number\n",
    "      def blockcells( self, blocknum ):\n",
    "          blockcells = []\n",
    "          for row in range(self.nrows):\n",
    "            for col in range(self.ncols):\n",
    "              if self.blockstate[row][col] == blocknum:\n",
    "                blockcells.append((row,col))\n",
    "          return blockcells\n",
    "\n",
    "      # Test if a cell is free (unblocked) in a given direction\n",
    "      # Free if not blocked by edge of grid or by a cell of different colour\n",
    "      def free_cell( self, direction, cell ):\n",
    "        row, col = cell\n",
    "        offrow, offcol = BlockState.neighbour_offset[direction]\n",
    "        neighrow, neighcol = (row + offrow, col + offcol)\n",
    "        if not (0 <= neighrow < self.nrows): return False #at top or bottom\n",
    "        if not (0 <= neighcol < self.ncols): return False #at left or right\n",
    "        neighval = self.blockstate[neighrow][neighcol]\n",
    "        # Neighboring cell must be empty or part of the same coloured block\n",
    "        return  (neighval==0 or neighval==self.blockstate[row][col])\n",
    "\n",
    "      def free_block( self, direction, blockn ):\n",
    "          blockcells = self.blockcells(blockn)\n",
    "          for cell in blockcells:\n",
    "            if not self.free_cell(direction, cell):\n",
    "              return False\n",
    "          return True\n",
    "\n",
    "      def possible_moves(self):\n",
    "        moves = []\n",
    "        for blocknum in self.blocknumlist:\n",
    "          for direction in [\"left\", \"right\", \"down\", \"up\"]:\n",
    "              if self.free_block(direction, blocknum):\n",
    "                  moves.append((blocknum, direction))\n",
    "        return moves\n",
    "\n",
    "      def next_state(self, move):\n",
    "          next_blockstate = deepcopy(self.blockstate)\n",
    "          blockno, direction = move\n",
    "          cells = self.blockcells(blockno)\n",
    "          ## first clear all cells of the block (set to 0)\n",
    "          for cell in cells:\n",
    "            row, col = cell\n",
    "            next_blockstate[row][col] = 0\n",
    "          rowoff, coloff = BlockState.neighbour_offset[direction]\n",
    "          ## now set all neighbour cells (in move direction) to be\n",
    "          ## cells with the blocknumber\n",
    "          for cell in cells:\n",
    "            row, col = cell\n",
    "            next_blockstate[row+rowoff][col+coloff] = blockno\n",
    "          return BlockState(next_blockstate)\n",
    "\n",
    "      def color_key(self):\n",
    "          return {b:self.colors[b] for b in self.blocknumlist}\n",
    "\n",
    "      def figure(self, scale=0.5):\n",
    "          nrows = self.nrows\n",
    "          ncols = self.ncols\n",
    "          fig, ax = plt.subplots(figsize=(ncols*scale+0.1,nrows*scale+0.1))\n",
    "          plt.close(fig)\n",
    "          ax.set_axis_off() # Don't show border lines and coordinate values\n",
    "\n",
    "          frame = patches.Rectangle((0,0),1,1, linewidth=5, edgecolor='k', facecolor='w')\n",
    "          ax.add_patch(frame)\n",
    "\n",
    "          for row in range(nrows):\n",
    "            for col in range(ncols):\n",
    "                greyrect = patches.Rectangle( (((col*0.9)/ncols)+0.05,\n",
    "                                               (((nrows-row-1)*0.9)/nrows)+0.05 ),\n",
    "                                            0.9/ncols, 0.9/nrows,\n",
    "                                            linewidth=1, edgecolor=\"gray\", facecolor=\"lightgray\")\n",
    "                ax.add_patch(greyrect)\n",
    "\n",
    "          for row in range(nrows):\n",
    "            for col in range(ncols):\n",
    "                cellval = self.blockstate[row][col]\n",
    "                if cellval > 0:\n",
    "                  cellcol = COLORS[cellval]\n",
    "                  rect = patches.Rectangle( (((col*0.9)/ncols)+0.05,\n",
    "                                             (((nrows-row-1)*0.9)/nrows)+0.05 ),\n",
    "                                            0.9/ncols, 0.9/nrows,\n",
    "                                            linewidth=0, edgecolor=cellcol, facecolor=cellcol)\n",
    "                  ax.add_patch(rect)\n",
    "          return fig\n",
    "\n",
    "      def display(self):\n",
    "          display(self.figure())"
   ]
  },
  {
   "cell_type": "code",
   "execution_count": null,
   "metadata": {
    "id": "tOD1uDf62snN"
   },
   "outputs": [],
   "source": [
    "from copy import deepcopy\n",
    "class SlidingBlocksPuzzle( SearchProblem ):\n",
    "\n",
    "    def __init__( self, initial_state, goal, colors=COLORS ):\n",
    "        \"\"\"\n",
    "        The __init__ method must set the initial state for the search.\n",
    "        Arguments could be added to __init__ and used to configure the\n",
    "        initial state and/or other aspects of a problem instance.\n",
    "        \"\"\"\n",
    "        self.initial_state = BlockState(initial_state, colors=colors)\n",
    "        self.colors = colors\n",
    "        self.goal = BlockState(goal)\n",
    "\n",
    "    def info(self):\n",
    "        print(\"Solve the following sliding blocks problem.\")\n",
    "        print(\"Get from this initial state:\")\n",
    "        self.initial_state.display()\n",
    "        print(\"To a state incorporating the following block position(s):\")\n",
    "        self.goal.display()\n",
    "        print(\"You need to slide the red block to cover the bottom right square.\")\n",
    "\n",
    "    def possible_actions(self, state):\n",
    "        return state.possible_moves()\n",
    "\n",
    "    def successor(self, state, action):\n",
    "        \"\"\"\n",
    "        This takes a state and an action and returns the new state resulting\n",
    "        from doing that action in that state. You can assume that the given\n",
    "        action is in the list of 'possible_actions' for that state.\n",
    "        \"\"\"\n",
    "        return state.next_state(action)\n",
    "\n",
    "    def goal_test(self, state):\n",
    "        \"\"\"\n",
    "        For the sliding blocks puzzles, the goal condition is reached when\n",
    "        all block possitions specified in the given goal state are satisfied by\n",
    "        the current state. But empty positions (ie 0s) in the goal are ignored,\n",
    "        so can be occupied by blocks in the current sate.\n",
    "        \"\"\"\n",
    "        for row in range(state.nrows):\n",
    "          for col in range(state.ncols):\n",
    "            goalnum = self.goal.blockstate[row][col]\n",
    "            if goalnum==0:\n",
    "              continue\n",
    "            if goalnum != state.blockstate[row][col]:\n",
    "              return False\n",
    "        return True\n",
    "\n",
    "\n",
    "    def cost(self, path, state):\n",
    "        \"\"\"\n",
    "        This is an optional method that you only need to define if you are using\n",
    "        a cost based algorithm such as \"uniform cost\" or \"A*\". It should return\n",
    "        the cost of reaching a given state via a given path.\n",
    "        If this is not re-defined, it will is assumed that each action costs one unit\n",
    "        of effort to perform, so it returns the length of the path.\n",
    "        \"\"\"\n",
    "        return len(path)\n",
    "\n",
    "    def display_action(self, action):\n",
    "        \"\"\"\n",
    "        You can set the way an action will be displayed in outputs.\n",
    "        \"\"\"\n",
    "        print((self.colors[action[0]], action[1]))\n",
    "\n",
    "    def display_state(self, state):\n",
    "        \"\"\"\n",
    "        You can set the way a state will be displayed in outputs.\n",
    "        \"\"\"\n",
    "        state.display()\n",
    "\n",
    "    def display_state_path( self, actions ):\n",
    "        \"\"\"\n",
    "        This defines output of a solution path when a list of actions\n",
    "        is applied to the initial state. It assumes it is a valid path\n",
    "        with all actions being possible in the preceeding state.\n",
    "        You probably don't need to override this.\n",
    "        \"\"\"\n",
    "        s = self.initial_state\n",
    "        self.display_state(s)\n",
    "        for a in actions:\n",
    "            self.display_action(a)\n",
    "            s = self.successor(s,a)\n",
    "            self.display_state(s)"
   ]
  },
  {
   "cell_type": "markdown",
   "metadata": {
    "id": "GChk6xAO5qJC"
   },
   "source": [
    "## easy_puzzle"
   ]
  },
  {
   "cell_type": "code",
   "execution_count": null,
   "metadata": {
    "id": "WNFNtxx7-pEQ"
   },
   "outputs": [],
   "source": [
    "small_initial = [[0,4,1,1],\n",
    "                 [0,0,1,3],\n",
    "                 [0,2,6,0],\n",
    "                 [2,2,6,0]]\n",
    "\n",
    "small_goal    = [[0,0,0,0],\n",
    "                 [0,0,0,0],\n",
    "                 [0,0,1,1],\n",
    "                 [0,0,1,0]]\n",
    "\n",
    "small_puzzle =  SlidingBlocksPuzzle( small_initial, small_goal )"
   ]
  },
  {
   "cell_type": "code",
   "execution_count": null,
   "metadata": {
    "colab": {
     "base_uri": "https://localhost:8080/",
     "height": 1000
    },
    "id": "oIl8zem76DE-",
    "outputId": "b3a27fbe-72b1-48fa-baab-efd9595c7847"
   },
   "outputs": [],
   "source": [
    "small_search = search( small_puzzle, 'BF/FIFO', 10000000, loop_check=True, randomise=False, show_state_path=True, return_info=True)"
   ]
  },
  {
   "cell_type": "code",
   "execution_count": null,
   "metadata": {
    "colab": {
     "base_uri": "https://localhost:8080/",
     "height": 237
    },
    "id": "oHZ3mE731kfK",
    "outputId": "4369549c-fe2e-4bfd-ec5d-6cb6c0ad460b"
   },
   "outputs": [],
   "source": [
    "small_search = search( small_puzzle, 'BF/FIFO', 10000000, loop_check=False, randomise=False, show_state_path=True, return_info=True)"
   ]
  },
  {
   "cell_type": "code",
   "execution_count": null,
   "metadata": {},
   "outputs": [],
   "source": [
    "small_search = search( small_puzzle, 'DF/LIFO', 10000000, loop_check=True, randomise=False, show_state_path=True, return_info=True)"
   ]
  },
  {
   "cell_type": "code",
   "execution_count": null,
   "metadata": {},
   "outputs": [],
   "source": [
    "small_search = search( small_puzzle, 'DF/LIFO', 10000000, loop_check=False, randomise=False, show_state_path=True, return_info=True)"
   ]
  },
  {
   "cell_type": "code",
   "execution_count": null,
   "metadata": {},
   "outputs": [],
   "source": [
    "small_search = search( small_puzzle, 'DF/LIFO', 10000000, loop_check=True, randomise=True, show_state_path=True, return_info=True)"
   ]
  },
  {
   "cell_type": "code",
   "execution_count": null,
   "metadata": {},
   "outputs": [],
   "source": [
    "small_search = search( small_puzzle, 'DF/LIFO', 10000000, loop_check=False, randomise=True, show_state_path=True, return_info=True)"
   ]
  },
  {
   "cell_type": "markdown",
   "metadata": {
    "id": "MPyAOUaE7ieD"
   },
   "source": [
    "## middle_puzzle"
   ]
  },
  {
   "cell_type": "code",
   "execution_count": null,
   "metadata": {
    "id": "TPnnG2fS-CeW"
   },
   "outputs": [],
   "source": [
    "big   = [[1,3,0,0,0,6,6],\n",
    "         [1,3,4,4,0,0,0],\n",
    "         [3,3,4,0,0,0,0],\n",
    "         [0,4,4,2,2,5,0],\n",
    "         [0,0,2,2,5,5,0]]\n",
    "\n",
    "hard_goal   = [[6,6,2,2,0,0,0],\n",
    "               [0,2,2,0,0,0,0],\n",
    "               [0,0,0,0,0,0,0],\n",
    "               [0,0,0,0,0,0,1],\n",
    "               [0,0,0,0,0,0,1]]\n",
    "\n",
    "hard_puzzle =  SlidingBlocksPuzzle( big, hard_goal )"
   ]
  },
  {
   "cell_type": "code",
   "execution_count": null,
   "metadata": {},
   "outputs": [],
   "source": [
    "big_search = search( hard_puzzle, 'BF/FIFO', 10000000,\n",
    "                     loop_check=True, randomise=False, show_state_path=True, return_info=True)"
   ]
  },
  {
   "cell_type": "code",
   "execution_count": null,
   "metadata": {},
   "outputs": [],
   "source": [
    "big_search = search( hard_puzzle, 'DF/LIFO', 10000000,\n",
    "                     loop_check=True, randomise=False, show_state_path=False, return_info=True)"
   ]
  },
  {
   "cell_type": "code",
   "execution_count": null,
   "metadata": {},
   "outputs": [],
   "source": [
    "big_search = search( hard_puzzle, 'DF/LIFO', 10000000,\n",
    "                     loop_check=True, randomise=True, show_state_path=False, return_info=True)"
   ]
  },
  {
   "cell_type": "code",
   "execution_count": null,
   "metadata": {},
   "outputs": [],
   "source": [
    "big_search = search( hard_puzzle, 'BF/FIFO', 10000000,\n",
    "                     loop_check=False, randomise=False, show_state_path=False, return_info=True)"
   ]
  },
  {
   "cell_type": "code",
   "execution_count": null,
   "metadata": {},
   "outputs": [],
   "source": [
    "big_search = search( hard_puzzle, 'DF/LIFO', 10000000,\n",
    "                     loop_check=False, randomise=False, show_state_path=False, return_info=True)"
   ]
  },
  {
   "cell_type": "code",
   "execution_count": null,
   "metadata": {},
   "outputs": [],
   "source": [
    "# big_search = search( hard_puzzle, 'DF/LIFO', 10000000,\n",
    "#                      loop_check=False, randomise=True, show_state_path=False, return_info=True)\n",
    "import threading\n",
    "def target():\n",
    "        result[0] = clever_search =  search( hard_puzzle, 'DF/LIFO', 10000000,\n",
    "                     loop_check=False, randomise=True, show_state_path=False, return_info=True)\n",
    "thread = threading.Thread(target=target)\n",
    "thread.start()\n",
    "thread.join(timeout=300) \n",
    "if thread.is_alive():  \n",
    "    print(\"The search times out\")\n",
    "else: \n",
    "    result[0]"
   ]
  },
  {
   "cell_type": "markdown",
   "metadata": {},
   "source": [
    "## hard_puzzle"
   ]
  },
  {
   "cell_type": "code",
   "execution_count": null,
   "metadata": {},
   "outputs": [],
   "source": [
    "most_big = [\n",
    "    [7, 3, 3, 0, 0, 0, 5, 5,5],\n",
    "    [7, 3, 3, 0, 0, 0, 0, 5,0],\n",
    "    [0, 3, 3, 0, 0, 6, 8, 8,0],\n",
    "    [0, 0, 0, 0, 0, 6, 6, 8,0],\n",
    "    [0, 2, 2, 0, 0, 0, 0, 8,0],\n",
    "    [4, 0, 2, 2, 0, 0, 0, 0,1],\n",
    "    [4, 0, 0, 0, 0, 4, 4, 0,1]    \n",
    "]\n",
    "\n",
    "most_big_goal = [\n",
    "    [1, 6, 5, 5, 5, 0, 0, 0, 0],\n",
    "    [1, 6, 6, 5, 0, 0, 0, 0, 0],\n",
    "    [0, 0, 0, 0, 0, 0, 0, 0, 0],\n",
    "    [0, 0, 0, 0, 0, 0, 0, 8, 8],\n",
    "    [0, 0, 0, 0, 0, 0, 3, 3, 8],\n",
    "    [0, 0, 2, 2, 0, 7, 3, 3, 8],\n",
    "    [0, 0, 0, 2, 2, 7, 3, 3, 0] \n",
    "]\n",
    "\n",
    "most_big_puzzle = SlidingBlocksPuzzle(most_big, most_big_goal)"
   ]
  },
  {
   "cell_type": "code",
   "execution_count": null,
   "metadata": {},
   "outputs": [],
   "source": [
    "most_big_search = search( most_big_puzzle, 'BF/FIFO', 100000000,\n",
    "                     loop_check=True, randomise=False, show_state_path=True, return_info=True)"
   ]
  },
  {
   "cell_type": "code",
   "execution_count": null,
   "metadata": {},
   "outputs": [],
   "source": [
    "big_search = search( most_big_puzzle, 'DF/LIFO', 10000000,\n",
    "                     loop_check=True, randomise=False, show_state_path=False, return_info=True)"
   ]
  },
  {
   "cell_type": "code",
   "execution_count": null,
   "metadata": {},
   "outputs": [],
   "source": [
    "import threading\n",
    "def target():\n",
    "        result[0] = big_search = search( most_big_puzzle, 'DF/LIFO', 10000000,\n",
    "                     loop_check=True, randomise=True, show_state_path=False, return_info=True)\n",
    "thread = threading.Thread(target=target)\n",
    "thread.start()\n",
    "thread.join(timeout=300) \n",
    "if thread.is_alive():  \n",
    "    print(\"The search times out\")\n",
    "else: \n",
    "    result[0]"
   ]
  },
  {
   "cell_type": "code",
   "execution_count": null,
   "metadata": {
    "id": "1Qms4JbneNFX"
   },
   "outputs": [],
   "source": [
    "\n",
    "TEST_RESULTS =[small_search, big_search, big_search_rr, hard_search, clever_search]\n",
    "\n",
    "# Specify symbols for termination conditions:\n",
    "short_tc = {\"GOAL_STATE_FOUND\"     : \"Y\",\n",
    "            \"NODE_LIMIT_EXCEEDED\"  : \"!\",\n",
    "            \"SEARH-SPACE_EXHAUSTED\": \"x\"}\n",
    "\n",
    "print(\"\\n                **TESTS SUMMARY**\\n\")\n",
    "\n",
    "print(\"Test    #max   Result   #gen     #inQ    Time s\")\n",
    "for i, test in enumerate(TEST_RESULTS):\n",
    "    max  = test['args']['max_nodes']\n",
    "    tc  = test['result']['termination_condition']\n",
    "    stc = short_tc[tc]\n",
    "\n",
    "    ng  = test['search_stats']['nodes_generated']\n",
    "    nq  = test['search_stats']['nodes_left_in_queue']\n",
    "    time = round( test['search_stats']['time_taken'], 2 )\n",
    "    print( f\"{i:>3}: {max:>8}    {stc}  {ng:>8} {nq:>8}     {time} \")"
   ]
  }
 ],
 "metadata": {
  "colab": {
   "provenance": []
  },
  "kernelspec": {
   "display_name": "Python 3 (ipykernel)",
   "language": "python",
   "name": "python3"
  },
  "language_info": {
   "codemirror_mode": {
    "name": "ipython",
    "version": 3
   },
   "file_extension": ".py",
   "mimetype": "text/x-python",
   "name": "python",
   "nbconvert_exporter": "python",
   "pygments_lexer": "ipython3",
   "version": "3.11.3"
  }
 },
 "nbformat": 4,
 "nbformat_minor": 1
}
