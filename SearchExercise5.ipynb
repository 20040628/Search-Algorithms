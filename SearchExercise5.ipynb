{
 "cells": [
  {
   "cell_type": "code",
   "execution_count": 1,
   "metadata": {
    "colab": {
     "base_uri": "https://localhost:8080/"
    },
    "id": "RnR9_Heq5nG_",
    "outputId": "0ed20914-994a-4b12-8ad9-4b27851729cb"
   },
   "outputs": [
    {
     "name": "stdout",
     "output_type": "stream",
     "text": [
      "Loading bbSearch Version 2.1 (at 19:37, Tue 01 Apr)\n",
      "Last module source code edit 9am Thursday 24th Feb 2022\n"
     ]
    }
   ],
   "source": [
    "from bbSearchRaw import SearchProblem, search, thecost"
   ]
  },
  {
   "cell_type": "code",
   "execution_count": 2,
   "metadata": {
    "id": "ngXq3qU75nHG"
   },
   "outputs": [],
   "source": [
    "class Robot:\n",
    "    def __init__(self, location, carried_items, strength):\n",
    "        self.location      = location\n",
    "        self.carried_items = carried_items\n",
    "        self.strength      = strength\n",
    "\n",
    "    def weight_carried(self):\n",
    "        return sum([ITEM_WEIGHT[i] for i in self.carried_items])\n",
    "\n",
    "    ## Define unique string representation for the state of the robot object\n",
    "    def __repr__(self):\n",
    "        return str( ( self.location,\n",
    "                      self.carried_items,\n",
    "                      self.strength ) )\n",
    "\n",
    "class Door:\n",
    "    def __init__(self, roomA, roomB, doorkey=None, locked=False):\n",
    "        self.goes_between = {roomA, roomB}\n",
    "        self.doorkey      = doorkey\n",
    "        self.locked       = locked\n",
    "        # Define handy dictionary to get room on other side of a door\n",
    "        self.other_loc = {roomA:roomB, roomB:roomA}\n",
    "\n",
    "    ## Define a unique string representation for a door object\n",
    "    def __repr__(self):\n",
    "        return str( (\"door\", self.goes_between, self.doorkey, self.locked) )"
   ]
  },
  {
   "cell_type": "code",
   "execution_count": 3,
   "metadata": {
    "id": "YAPNtW105nHJ"
   },
   "outputs": [],
   "source": [
    "class State:\n",
    "    def __init__( self, robot, doors, room_contents ):\n",
    "        self.robot = robot\n",
    "        self.doors = doors\n",
    "        self.room_contents = room_contents\n",
    "\n",
    "    ## Define a string representation that will be uniquely identify the state.\n",
    "    ## An easy way is to form a tuple of representations of the components of\n",
    "    ## the state, then form a string from that:\n",
    "    def __repr__(self):\n",
    "        return str( ( self.robot.__repr__(),\n",
    "                      [d.__repr__() for d in self.doors],\n",
    "                      self.room_contents ) )\n"
   ]
  },
  {
   "cell_type": "code",
   "execution_count": 4,
   "metadata": {
    "id": "cGVcn1h35nHP"
   },
   "outputs": [],
   "source": [
    "from copy import deepcopy\n",
    "\n",
    "class RobotWorker( SearchProblem ):\n",
    "\n",
    "    def __init__( self, state, goal_item_locations ):\n",
    "        self.initial_state = state\n",
    "        self.goal_item_locations = goal_item_locations\n",
    "\n",
    "    def possible_actions( self, state ):\n",
    "\n",
    "        robot_location = state.robot.location\n",
    "        strength       = state.robot.strength\n",
    "        weight_carried = state.robot.weight_carried()\n",
    "\n",
    "        actions = []\n",
    "        # Can put down any carried item\n",
    "        for i in state.robot.carried_items:\n",
    "            actions.append( (\"put down\", i) )\n",
    "\n",
    "        # Can pick up any item in room if strong enough修改\n",
    "        for i in state.room_contents[robot_location]:\n",
    "            if ITEM_WEIGHT[i]==0:\n",
    "                actions.append( (\"pick up\", i))\n",
    "            elif any(i in goal_items for goal_items in self.goal_item_locations.values()):\n",
    "                if strength >= weight_carried + ITEM_WEIGHT[i]:\n",
    "                    actions.append((\"pick up\", i))\n",
    "\n",
    "        # If there is an unlocked door between robot location and\n",
    "        # another location can move to that location\n",
    "#         print(state.doors)\n",
    "        for door in state.doors:\n",
    "            if  door.locked==False and robot_location in door.goes_between:\n",
    "                actions.append( (\"move to\", door.other_loc[robot_location]) )\n",
    "            elif door.locked==True and door.doorkey in state.robot.carried_items and robot_location in door.goes_between:\n",
    "#                 print(door)\n",
    "#                 print(robot_location)\n",
    "#                 print(door.doorkey)\n",
    "#                 print(door.other_loc[robot_location])\n",
    "                actions.append( (\"move to\", door.other_loc[robot_location]) )\n",
    "        # Now the actions list should contain all possible actions\n",
    "        return actions\n",
    "\n",
    "    def successor( self, state, action):\n",
    "        next_state = deepcopy(state)\n",
    "        act, target = action\n",
    "        if act== \"put down\":\n",
    "            next_state.robot.carried_items.remove(target)\n",
    "            next_state.room_contents[state.robot.location].add(target)\n",
    "\n",
    "        if act == \"pick up\":\n",
    "            next_state.robot.carried_items.append(target)\n",
    "            next_state.room_contents[state.robot.location].remove(target)\n",
    "\n",
    "        if act == \"move to\":\n",
    "            next_state.robot.location = target\n",
    "\n",
    "        return next_state\n",
    "\n",
    "    def goal_test(self, state):\n",
    "        #print(state.room_contents)\n",
    "        for room, contents in self.goal_item_locations.items():\n",
    "            for i in contents:\n",
    "                if not i in state.room_contents[room]:\n",
    "                    return False\n",
    "        return True\n",
    "\n",
    "    def display_state(self,state):\n",
    "        print(\"Robot location:\", state.robot.location)\n",
    "        print(\"Robot carrying:\", state.robot.carried_items)\n",
    "        print(\"Room contents:\", state.room_contents)"
   ]
  },
  {
   "cell_type": "markdown",
   "metadata": {},
   "source": [
    "## small"
   ]
  },
  {
   "cell_type": "code",
   "execution_count": null,
   "metadata": {},
   "outputs": [],
   "source": [
    "ROOM_CONTENTS = {\n",
    "    'workshop'     : {'key'},\n",
    "    'store room'   : {'bucket', 'suitcase'},\n",
    "    'tool cupboard' : {'hammer', 'anvil', 'saw', 'screwdriver'},\n",
    "}\n",
    "\n",
    "ITEM_WEIGHT = {\n",
    "    'key' : 0,\n",
    "    'bucket' : 2,\n",
    "    'suitcase' : 4,\n",
    "    'screwdriver' : 1,\n",
    "    'hammer' : 5,\n",
    "    'anvil' : 12,\n",
    "    'saw' : 2,\n",
    "}\n",
    "\n",
    "DOORS = [\n",
    "    Door('workshop', 'store room' ),\n",
    "    Door( 'store room', 'tool cupboard', doorkey='key', locked= False )\n",
    "]\n"
   ]
  },
  {
   "cell_type": "code",
   "execution_count": null,
   "metadata": {},
   "outputs": [],
   "source": [
    "rob = Robot('store room', [], 15 )\n",
    "\n",
    "state = State(rob, DOORS, ROOM_CONTENTS)\n",
    "\n",
    "goal_item_locations =  {\"store room\":{\"hammer\", \"screwdriver\", \"anvil\"}}\n",
    "\n",
    "RW_PROBLEM_1 = RobotWorker( state, goal_item_locations )"
   ]
  },
  {
   "cell_type": "markdown",
   "metadata": {},
   "source": [
    "## middle"
   ]
  },
  {
   "cell_type": "code",
   "execution_count": null,
   "metadata": {
    "id": "5k_U8vNi5nHM"
   },
   "outputs": [],
   "source": [
    "ROOM_CONTENTS = {\n",
    "    'workshop'     : {'key1'},\n",
    "    'store room'   : {'bucket', 'suitcase','key2'},\n",
    "    'tool cupboard' : {'hammer', 'anvil', 'saw', 'screwdriver'},\n",
    "    'warehouse': {'box', 'crate', 'container'}\n",
    "}\n",
    "\n",
    "ITEM_WEIGHT = {\n",
    "    'key1' : 0,\n",
    "    'bucket' : 2,\n",
    "    'suitcase' : 4,\n",
    "    'screwdriver' : 1,\n",
    "    'hammer' : 5,\n",
    "    'anvil' : 12,\n",
    "    'saw' : 2,\n",
    "    'box':3,\n",
    "    'crate':8,\n",
    "    'container':10,\n",
    "    'key2':0\n",
    "}\n",
    "\n",
    "DOORS = [\n",
    "    Door('workshop', 'store room' ),\n",
    "    Door( 'store room', 'tool cupboard', doorkey='key1', locked=True),\n",
    "    Door( 'workshop', 'warehouse', doorkey='key2', locked=True ),\n",
    "    Door('warehouse','tool cupboard')\n",
    "]"
   ]
  },
  {
   "cell_type": "code",
   "execution_count": null,
   "metadata": {
    "id": "GhVuYfAF5nHS"
   },
   "outputs": [],
   "source": [
    "rob = Robot('store room', [], 15 )\n",
    "\n",
    "state = State(rob, DOORS, ROOM_CONTENTS)\n",
    "\n",
    "goal_item_locations =  {\n",
    "    \"workshop\":{\"box\"},\n",
    "    \"store room\":{\"hammer\", \"screwdriver\", \"anvil\"},\n",
    "    \"warehouse\" :{\"bucket\"}\n",
    "}\n",
    "\n",
    "RW_PROBLEM_2 = RobotWorker( state, goal_item_locations )"
   ]
  },
  {
   "cell_type": "markdown",
   "metadata": {},
   "source": [
    "## hard"
   ]
  },
  {
   "cell_type": "code",
   "execution_count": 14,
   "metadata": {},
   "outputs": [],
   "source": [
    "ROOM_CONTENTS = {\n",
    "    'workshop'     : {'key1'},\n",
    "    'store room'   : {'bucket', 'suitcase','key2'},\n",
    "    'tool cupboard' : {'anvil', 'saw'},\n",
    "    'warehouse': {'box', 'crate', 'container','key4'},\n",
    "    'room1': {'thing1','thing2'},\n",
    "    'room2':{'thing3'},\n",
    "    'room3':{'key3'}\n",
    "}\n",
    "\n",
    "ITEM_WEIGHT = {\n",
    "    'key1' : 0,\n",
    "    'key2':0,\n",
    "    'key3':0,\n",
    "    'key4':0,\n",
    "    'bucket' : 2,\n",
    "    'suitcase' : 4,\n",
    "    'screwdriver' : 1,\n",
    "    'hammer' : 5,\n",
    "    'anvil' : 12,\n",
    "    'saw' : 2,\n",
    "    'box':3,\n",
    "    'crate':8,\n",
    "    'container':10,\n",
    "    'thing1': 6,\n",
    "    'thing2': 7,\n",
    "    'thing3': 3\n",
    "}\n",
    "\n",
    "DOORS = [\n",
    "    Door('workshop', 'store room' ),\n",
    "    Door('room3', 'room2' ),\n",
    "    Door('warehouse', 'room1' ),\n",
    "    Door( 'store room', 'room3', doorkey='key1', locked=True),\n",
    "    Door( 'workshop', 'warehouse', doorkey='key2', locked=True ),\n",
    "    Door( 'room1', 'tool cupboard', doorkey='key3', locked=True ),\n",
    "    Door( 'room2', 'tool cupboard', doorkey='key4', locked=True )\n",
    "]"
   ]
  },
  {
   "cell_type": "code",
   "execution_count": 5,
   "metadata": {},
   "outputs": [],
   "source": [
    "# ## 有锁无key\n",
    "# ROOM_CONTENTS = {\n",
    "#     'workshop'     : {'key1'},\n",
    "#     'store room'   : {'bucket', 'suitcase'},\n",
    "#     'tool cupboard' : {'anvil', 'saw'},\n",
    "#     'warehouse': {'box', 'crate', 'container','key4'},\n",
    "#     'room1': {'thing1','thing2'},\n",
    "#     'room2':{'thing3'},\n",
    "#     'room3':{'key2'}\n",
    "# }\n",
    "\n",
    "# ITEM_WEIGHT = {\n",
    "#     'key1' : 0,\n",
    "#     'key2':0,\n",
    "#     'key4':0,\n",
    "#     'bucket' : 2,\n",
    "#     'suitcase' : 4,\n",
    "#     'screwdriver' : 1,\n",
    "#     'hammer' : 5,\n",
    "#     'anvil' : 12,\n",
    "#     'saw' : 2,\n",
    "#     'box':3,\n",
    "#     'crate':8,\n",
    "#     'container':10,\n",
    "#     'thing1': 6,\n",
    "#     'thing2': 7,\n",
    "#     'thing3': 3\n",
    "# }\n",
    "\n",
    "# DOORS = [\n",
    "#     Door('workshop', 'store room' ),\n",
    "#     Door('room3', 'room2' ),\n",
    "#     Door('warehouse', 'room1' ),\n",
    "#     Door( 'store room', 'room3', doorkey='key1', locked=True),\n",
    "#     Door( 'workshop', 'warehouse', doorkey='key2', locked=True ),\n",
    "#     Door( 'room1', 'tool cupboard', doorkey='key3', locked=True ),\n",
    "#     Door( 'room2', 'tool cupboard', doorkey='key4', locked=True )\n",
    "# ]"
   ]
  },
  {
   "cell_type": "code",
   "execution_count": 15,
   "metadata": {},
   "outputs": [],
   "source": [
    "rob = Robot('store room', [], 15 )\n",
    "\n",
    "state = State(rob, DOORS, ROOM_CONTENTS)\n",
    "\n",
    "goal_item_locations =  {\n",
    "    \"store room\":{\"thing1\", \"thing2\", \"box\"},\n",
    "    \"room3\" :{\"saw\"},\n",
    "    'warehouse':{'bucket','suitcase'},\n",
    "    'room1':{'anvil'},\n",
    "    \"tool cupboard\":{'thing3'}\n",
    "}\n",
    "\n",
    "RW_PROBLEM_3 = RobotWorker( state, goal_item_locations )"
   ]
  },
  {
   "cell_type": "markdown",
   "metadata": {},
   "source": [
    "## 没有启发式"
   ]
  },
  {
   "cell_type": "code",
   "execution_count": null,
   "metadata": {},
   "outputs": [],
   "source": [
    "search( RW_PROBLEM_1, 'BF/FIFO', 10000000, loop_check=True, randomise=False)"
   ]
  },
  {
   "cell_type": "code",
   "execution_count": null,
   "metadata": {},
   "outputs": [],
   "source": [
    "search( RW_PROBLEM_1, 'BF/FIFO', 10000000, loop_check=False, randomise=False)"
   ]
  },
  {
   "cell_type": "code",
   "execution_count": null,
   "metadata": {},
   "outputs": [],
   "source": [
    "search( RW_PROBLEM_1, 'DF/LIFO', 10000000, loop_check=True, randomise=False)"
   ]
  },
  {
   "cell_type": "code",
   "execution_count": null,
   "metadata": {},
   "outputs": [],
   "source": [
    "search( RW_PROBLEM_1, 'DF/LIFO', 10000000, loop_check=False, randomise=False)"
   ]
  },
  {
   "cell_type": "code",
   "execution_count": null,
   "metadata": {},
   "outputs": [],
   "source": [
    "search( RW_PROBLEM_1, 'DF/LIFO', 10000000, loop_check=True, randomise=True)  "
   ]
  },
  {
   "cell_type": "code",
   "execution_count": null,
   "metadata": {},
   "outputs": [],
   "source": [
    "search( RW_PROBLEM_1, 'DF/LIFO', 10000000, loop_check=False, randomise=True)"
   ]
  },
  {
   "cell_type": "code",
   "execution_count": null,
   "metadata": {},
   "outputs": [],
   "source": [
    "# search( RW_PROBLEM_2, 'BF/FIFO', 10000000, loop_check=True, randomise=False)\n",
    "import threading\n",
    "def target():\n",
    "        result[0] = search( RW_PROBLEM_2, 'BF/FIFO', 10000000, loop_check=True, randomise=False)\n",
    "thread = threading.Thread(target=target)\n",
    "thread.start()\n",
    "thread.join(timeout=300) \n",
    "if thread.is_alive():  \n",
    "    print(\"The search times out\")\n",
    "else: \n",
    "    result[0]"
   ]
  },
  {
   "cell_type": "code",
   "execution_count": null,
   "metadata": {},
   "outputs": [],
   "source": [
    "search( RW_PROBLEM_2, 'BF/FIFO', 10000000, loop_check=False, randomise=False)"
   ]
  },
  {
   "cell_type": "code",
   "execution_count": null,
   "metadata": {},
   "outputs": [],
   "source": [
    "search( RW_PROBLEM_2, 'DF/LIFO', 10000000, loop_check=True, randomise=False)"
   ]
  },
  {
   "cell_type": "code",
   "execution_count": null,
   "metadata": {},
   "outputs": [],
   "source": [
    "search( RW_PROBLEM_2, 'DF/LIFO', 10000000, loop_check=False, randomise=False)"
   ]
  },
  {
   "cell_type": "code",
   "execution_count": null,
   "metadata": {},
   "outputs": [],
   "source": [
    "search( RW_PROBLEM_2, 'DF/LIFO', 10000000, loop_check=True, randomise=True)"
   ]
  },
  {
   "cell_type": "code",
   "execution_count": null,
   "metadata": {},
   "outputs": [],
   "source": [
    "search( RW_PROBLEM_2, 'DF/LIFO', 10000000, loop_check=False, randomise=True)"
   ]
  },
  {
   "cell_type": "code",
   "execution_count": null,
   "metadata": {},
   "outputs": [],
   "source": [
    "# search( RW_PROBLEM_3, 'BF/FIFO', 10000000, loop_check=True, randomise=False)\n",
    "import threading\n",
    "def target():\n",
    "        result[0] = search( RW_PROBLEM_3, 'BF/FIFO', 10000000, loop_check=True, randomise=False)\n",
    "thread = threading.Thread(target=target)\n",
    "thread.start()\n",
    "thread.join(timeout=300) \n",
    "if thread.is_alive():  \n",
    "    print(\"The search times out\")\n",
    "else: \n",
    "    result[0]"
   ]
  },
  {
   "cell_type": "code",
   "execution_count": null,
   "metadata": {},
   "outputs": [],
   "source": [
    "import threading\n",
    "def target():\n",
    "        result[0] = search( RW_PROBLEM_3, 'DF/LIFO', 10000000, loop_check=True, randomise=False)\n",
    "thread = threading.Thread(target=target)\n",
    "thread.start()\n",
    "thread.join(timeout=300) \n",
    "if thread.is_alive():  \n",
    "    print(\"The search times out\")\n",
    "else: \n",
    "    result[0]"
   ]
  },
  {
   "cell_type": "code",
   "execution_count": null,
   "metadata": {},
   "outputs": [
    {
     "name": "stdout",
     "output_type": "stream",
     "text": [
      "This is the general SearchProblem parent class\n",
      "You must extend this class to encode a particular search problem.\n",
      "\n",
      "** Running Brandon's Search Algorithm **\n",
      "Strategy: mode=DF/LIFO, cost=None, heuristic=None\n",
      "Max search nodes: 10000000  (max number added to queue)\n",
      "Searching (will output '.' each 1000 goal_tests)\n",
      "................................"
     ]
    }
   ],
   "source": [
    "search( RW_PROBLEM_3, 'DF/LIFO', 10000000, loop_check=True, randomise=True)"
   ]
  },
  {
   "cell_type": "markdown",
   "metadata": {},
   "source": [
    "## 启发式"
   ]
  },
  {
   "cell_type": "code",
   "execution_count": 8,
   "metadata": {},
   "outputs": [],
   "source": [
    "def misplace (state,goal_position):\n",
    "    total_distance=0\n",
    "    for room, contents in goal_position.items():\n",
    "            for i in contents:\n",
    "                if not i in state.room_contents[room]:\n",
    "                    total_distance +=1 \n",
    "    return total_distance*2"
   ]
  },
  {
   "cell_type": "code",
   "execution_count": null,
   "metadata": {},
   "outputs": [],
   "source": [
    "search( RW_PROBLEM_1, 'BF/FIFO', 10000000, loop_check=True, heuristic=misplace)"
   ]
  },
  {
   "cell_type": "code",
   "execution_count": null,
   "metadata": {},
   "outputs": [],
   "source": [
    "search( RW_PROBLEM_1, 'BF/FIFO', 10000000, loop_check=False, heuristic=misplace)"
   ]
  },
  {
   "cell_type": "code",
   "execution_count": null,
   "metadata": {},
   "outputs": [],
   "source": [
    "search( RW_PROBLEM_1, 'BF/FIFO', 10000000, loop_check=True, heuristic=misplace, cost=thecost)"
   ]
  },
  {
   "cell_type": "code",
   "execution_count": null,
   "metadata": {},
   "outputs": [],
   "source": [
    "search( RW_PROBLEM_1, 'BF/FIFO', 10000000, loop_check=False, heuristic=misplace, cost=thecost)"
   ]
  },
  {
   "cell_type": "code",
   "execution_count": null,
   "metadata": {},
   "outputs": [],
   "source": [
    "search( RW_PROBLEM_2, 'BF/FIFO', 10000000, loop_check=True, heuristic=misplace)"
   ]
  },
  {
   "cell_type": "code",
   "execution_count": null,
   "metadata": {},
   "outputs": [],
   "source": [
    "search( RW_PROBLEM_2, 'BF/FIFO', 10000000, loop_check=False, heuristic=misplace)"
   ]
  },
  {
   "cell_type": "code",
   "execution_count": null,
   "metadata": {},
   "outputs": [],
   "source": [
    "search( RW_PROBLEM_2, 'BF/FIFO', 10000000, loop_check=True, heuristic=misplace, cost=thecost)"
   ]
  },
  {
   "cell_type": "code",
   "execution_count": null,
   "metadata": {},
   "outputs": [],
   "source": [
    "search( RW_PROBLEM_2, 'BF/FIFO', 10000000, loop_check=False, heuristic=misplace, cost=thecost)"
   ]
  },
  {
   "cell_type": "code",
   "execution_count": 9,
   "metadata": {},
   "outputs": [
    {
     "name": "stdout",
     "output_type": "stream",
     "text": [
      "This is the general SearchProblem parent class\n",
      "You must extend this class to encode a particular search problem.\n",
      "\n",
      "** Running Brandon's Search Algorithm **\n",
      "Strategy: mode=BF/FIFO, cost=None, heuristic=misplace\n",
      "Max search nodes: 10000000  (max number added to queue)\n",
      "Searching (will output '.' each 1000 goal_tests)\n",
      "....\n",
      ":-)) *SUCCESS* ((-:\n",
      "\n",
      "Path length = 56\n",
      "Goal state is:\n",
      "Robot location: room1\n",
      "Robot carrying: ['key1', 'key2', 'key4']\n",
      "Room contents: {'workshop': set(), 'store room': {'thing1', 'box', 'thing2'}, 'tool cupboard': {'thing3'}, 'warehouse': {'container', 'crate', 'suitcase', 'bucket'}, 'room1': {'anvil'}, 'room2': set(), 'room3': {'saw'}}\n",
      "The action path to the solution is:\n",
      "    ('pick up', 'suitcase')\n",
      "    ('move to', 'workshop')\n",
      "    ('pick up', 'key1')\n",
      "    ('move to', 'store room')\n",
      "    ('move to', 'room3')\n",
      "    ('pick up', 'key2')\n",
      "    ('move to', 'store room')\n",
      "    ('move to', 'workshop')\n",
      "    ('move to', 'warehouse')\n",
      "    ('put down', 'suitcase')\n",
      "    ('pick up', 'box')\n",
      "    ('move to', 'workshop')\n",
      "    ('move to', 'store room')\n",
      "    ('put down', 'box')\n",
      "    ('pick up', 'bucket')\n",
      "    ('move to', 'workshop')\n",
      "    ('move to', 'warehouse')\n",
      "    ('put down', 'bucket')\n",
      "    ('move to', 'room1')\n",
      "    ('pick up', 'thing1')\n",
      "    ('move to', 'warehouse')\n",
      "    ('move to', 'workshop')\n",
      "    ('move to', 'store room')\n",
      "    ('put down', 'thing1')\n",
      "    ('move to', 'workshop')\n",
      "    ('move to', 'warehouse')\n",
      "    ('move to', 'room1')\n",
      "    ('pick up', 'thing2')\n",
      "    ('move to', 'warehouse')\n",
      "    ('move to', 'workshop')\n",
      "    ('move to', 'store room')\n",
      "    ('put down', 'thing2')\n",
      "    ('move to', 'workshop')\n",
      "    ('move to', 'warehouse')\n",
      "    ('pick up', 'key4')\n",
      "    ('move to', 'workshop')\n",
      "    ('move to', 'store room')\n",
      "    ('move to', 'room3')\n",
      "    ('move to', 'room2')\n",
      "    ('pick up', 'thing3')\n",
      "    ('move to', 'tool cupboard')\n",
      "    ('put down', 'thing3')\n",
      "    ('pick up', 'saw')\n",
      "    ('move to', 'room2')\n",
      "    ('move to', 'room3')\n",
      "    ('put down', 'saw')\n",
      "    ('move to', 'room2')\n",
      "    ('move to', 'tool cupboard')\n",
      "    ('pick up', 'anvil')\n",
      "    ('move to', 'room2')\n",
      "    ('move to', 'room3')\n",
      "    ('move to', 'store room')\n",
      "    ('move to', 'workshop')\n",
      "    ('move to', 'warehouse')\n",
      "    ('move to', 'room1')\n",
      "    ('put down', 'anvil')\n",
      "\n",
      "\n",
      "SEARCH SPACE STATS:\n",
      "Total nodes generated          =    20552  (includes start)\n",
      "Nodes discarded by loop_check  =    10004  (10548 distinct states added to queue)\n",
      "Nodes tested (by goal_test)    =     4478  (4477 expanded + 1 goal)\n",
      "Nodes left in queue            =     6070\n",
      "\n",
      "Time taken = 3.9293 seconds\n",
      "\n"
     ]
    },
    {
     "data": {
      "text/plain": [
       "'GOAL_STATE_FOUND'"
      ]
     },
     "execution_count": 9,
     "metadata": {},
     "output_type": "execute_result"
    }
   ],
   "source": [
    "search( RW_PROBLEM_3, 'BF/FIFO', 10000000, loop_check=True, heuristic=misplace)"
   ]
  },
  {
   "cell_type": "code",
   "execution_count": 10,
   "metadata": {},
   "outputs": [
    {
     "name": "stdout",
     "output_type": "stream",
     "text": [
      "This is the general SearchProblem parent class\n",
      "You must extend this class to encode a particular search problem.\n",
      "\n",
      "** Running Brandon's Search Algorithm **\n",
      "Strategy: mode=BF/FIFO, cost=thecost, heuristic=misplace\n",
      "Max search nodes: 10000000  (max number added to queue)\n",
      "Searching (will output '.' each 1000 goal_tests)\n",
      ".................................................................................................... (100000)\n",
      ".................................................................................................... (200000)\n",
      ".................................................................................................... (300000)\n"
     ]
    },
    {
     "ename": "KeyboardInterrupt",
     "evalue": "",
     "output_type": "error",
     "traceback": [
      "\u001b[1;31m---------------------------------------------------------------------------\u001b[0m",
      "\u001b[1;31mKeyboardInterrupt\u001b[0m                         Traceback (most recent call last)",
      "Cell \u001b[1;32mIn[10], line 1\u001b[0m\n\u001b[1;32m----> 1\u001b[0m search( RW_PROBLEM_3, \u001b[38;5;124m'\u001b[39m\u001b[38;5;124mBF/FIFO\u001b[39m\u001b[38;5;124m'\u001b[39m, \u001b[38;5;241m10000000\u001b[39m, loop_check\u001b[38;5;241m=\u001b[39m\u001b[38;5;28;01mTrue\u001b[39;00m, heuristic\u001b[38;5;241m=\u001b[39mmisplace, cost\u001b[38;5;241m=\u001b[39mthecost)\n",
      "File \u001b[1;32m~\\AICW1\\bbSearchRaw.py:435\u001b[0m, in \u001b[0;36msearch\u001b[1;34m(problem, mode, max_nodes, loop_check, randomise, cost, heuristic, show_path, show_state_path, dots, return_info)\u001b[0m\n\u001b[0;32m    433\u001b[0m         weight\u001b[38;5;241m=\u001b[39mweight_function(extended_path,suc)\n\u001b[0;32m    434\u001b[0m         \u001b[38;5;66;03m#print(\"weight=\", weight)\u001b[39;00m\n\u001b[1;32m--> 435\u001b[0m         queue\u001b[38;5;241m.\u001b[39minsert((extended_path,suc), \n\u001b[0;32m    436\u001b[0m                      weight\u001b[38;5;241m=\u001b[39mweight)\n\u001b[0;32m    438\u001b[0m \u001b[38;5;28;01mif\u001b[39;00m termination_condition \u001b[38;5;241m==\u001b[39m \u001b[38;5;124m\"\u001b[39m\u001b[38;5;124mGOAL_STATE_FOUND\u001b[39m\u001b[38;5;124m\"\u001b[39m:\n\u001b[0;32m    439\u001b[0m     \u001b[38;5;28mprint\u001b[39m( \u001b[38;5;124m\"\u001b[39m\u001b[38;5;130;01m\\n\u001b[39;00m\u001b[38;5;124m:-)) *SUCCESS* ((-:\u001b[39m\u001b[38;5;130;01m\\n\u001b[39;00m\u001b[38;5;124m\"\u001b[39m )\n",
      "\u001b[1;31mKeyboardInterrupt\u001b[0m: "
     ]
    }
   ],
   "source": [
    "search( RW_PROBLEM_3, 'BF/FIFO', 10000000, loop_check=True, heuristic=misplace, cost=thecost)"
   ]
  },
  {
   "cell_type": "code",
   "execution_count": 12,
   "metadata": {},
   "outputs": [],
   "source": [
    "def carry_item (state, goal_position):\n",
    "    total_distance = 0\n",
    "    robot_location = state.robot.location\n",
    "    carried_items = state.robot.carried_items\n",
    "\n",
    "    for room, contents in goal_position.items():\n",
    "        for item in contents:\n",
    "            if item not in carried_items and item not in state.room_contents[room] :\n",
    "                total_distance += 1\n",
    "            # If the target item is on the robot and the robot is not in the target room, \n",
    "            # the robot may need to go back and put the item\n",
    "            elif item in carried_items:\n",
    "                if robot_location != room:\n",
    "                    total_distance += 1 \n",
    "    return total_distance"
   ]
  },
  {
   "cell_type": "code",
   "execution_count": null,
   "metadata": {},
   "outputs": [],
   "source": [
    "search( RW_PROBLEM_1, 'BF/FIFO', 10000000, loop_check=True, heuristic=carry_item)"
   ]
  },
  {
   "cell_type": "code",
   "execution_count": null,
   "metadata": {},
   "outputs": [],
   "source": [
    "search( RW_PROBLEM_1, 'BF/FIFO', 10000000, loop_check=False, heuristic=carry_item)"
   ]
  },
  {
   "cell_type": "code",
   "execution_count": null,
   "metadata": {},
   "outputs": [],
   "source": [
    "search( RW_PROBLEM_1, 'BF/FIFO', 10000000, loop_check=True, heuristic=carry_item,cost=thecost)"
   ]
  },
  {
   "cell_type": "code",
   "execution_count": null,
   "metadata": {},
   "outputs": [],
   "source": [
    "search( RW_PROBLEM_1, 'BF/FIFO', 10000000, loop_check=False, heuristic=carry_item, cost=thecost)"
   ]
  },
  {
   "cell_type": "code",
   "execution_count": null,
   "metadata": {},
   "outputs": [],
   "source": [
    "search( RW_PROBLEM_2, 'BF/FIFO', 10000000, loop_check=True, heuristic=carry_item)"
   ]
  },
  {
   "cell_type": "code",
   "execution_count": null,
   "metadata": {},
   "outputs": [],
   "source": [
    "search( RW_PROBLEM_2, 'BF/FIFO', 10000000, loop_check=False, heuristic=carry_item)"
   ]
  },
  {
   "cell_type": "code",
   "execution_count": null,
   "metadata": {},
   "outputs": [],
   "source": [
    "search( RW_PROBLEM_2, 'BF/FIFO', 10000000, loop_check=True, heuristic=carry_item, cost=thecost)"
   ]
  },
  {
   "cell_type": "code",
   "execution_count": null,
   "metadata": {},
   "outputs": [],
   "source": [
    "search( RW_PROBLEM_2, 'BF/FIFO', 10000000, loop_check=False, heuristic=carry_item, cost=thecost)"
   ]
  },
  {
   "cell_type": "code",
   "execution_count": null,
   "metadata": {},
   "outputs": [],
   "source": [
    "search( RW_PROBLEM_3, 'BF/FIFO', 10000000, loop_check=True, heuristic=carry_item)"
   ]
  },
  {
   "cell_type": "code",
   "execution_count": 16,
   "metadata": {},
   "outputs": [
    {
     "name": "stdout",
     "output_type": "stream",
     "text": [
      "This is the general SearchProblem parent class\n",
      "You must extend this class to encode a particular search problem.\n",
      "\n",
      "** Running Brandon's Search Algorithm **\n",
      "Strategy: mode=BF/FIFO, cost=thecost, heuristic=carry_item\n",
      "Max search nodes: 10000000  (max number added to queue)\n",
      "Searching (will output '.' each 1000 goal_tests)\n",
      ".................................................................................................... (100000)\n",
      "........................................................"
     ]
    },
    {
     "ename": "KeyboardInterrupt",
     "evalue": "",
     "output_type": "error",
     "traceback": [
      "\u001b[1;31m---------------------------------------------------------------------------\u001b[0m",
      "\u001b[1;31mKeyboardInterrupt\u001b[0m                         Traceback (most recent call last)",
      "Cell \u001b[1;32mIn[16], line 1\u001b[0m\n\u001b[1;32m----> 1\u001b[0m search( RW_PROBLEM_3, \u001b[38;5;124m'\u001b[39m\u001b[38;5;124mBF/FIFO\u001b[39m\u001b[38;5;124m'\u001b[39m, \u001b[38;5;241m10000000\u001b[39m, loop_check\u001b[38;5;241m=\u001b[39m\u001b[38;5;28;01mTrue\u001b[39;00m, heuristic\u001b[38;5;241m=\u001b[39mcarry_item, cost\u001b[38;5;241m=\u001b[39mthecost)\n",
      "File \u001b[1;32m~\\AICW1\\bbSearchRaw.py:433\u001b[0m, in \u001b[0;36msearch\u001b[1;34m(problem, mode, max_nodes, loop_check, randomise, cost, heuristic, show_path, show_state_path, dots, return_info)\u001b[0m\n\u001b[0;32m    431\u001b[0m extended_path \u001b[38;5;241m=\u001b[39m path\u001b[38;5;241m+\u001b[39m[a]\n\u001b[0;32m    432\u001b[0m \u001b[38;5;66;03m#print(\"Making node with path:\", extended_path)\u001b[39;00m\n\u001b[1;32m--> 433\u001b[0m weight\u001b[38;5;241m=\u001b[39mweight_function(extended_path,suc)\n\u001b[0;32m    434\u001b[0m \u001b[38;5;66;03m#print(\"weight=\", weight)\u001b[39;00m\n\u001b[0;32m    435\u001b[0m queue\u001b[38;5;241m.\u001b[39minsert((extended_path,suc), \n\u001b[0;32m    436\u001b[0m              weight\u001b[38;5;241m=\u001b[39mweight)\n",
      "File \u001b[1;32m~\\AICW1\\bbSearchRaw.py:528\u001b[0m, in \u001b[0;36mnode_weight_function.<locals>.<lambda>\u001b[1;34m(p, s)\u001b[0m\n\u001b[0;32m    526\u001b[0m     \u001b[38;5;28;01mreturn\u001b[39;00m \u001b[38;5;28;01mlambda\u001b[39;00m p,s: (heuristic(s,goal_position))\n\u001b[0;32m    527\u001b[0m \u001b[38;5;28;01mif\u001b[39;00m cost \u001b[38;5;129;01mand\u001b[39;00m heuristic:\n\u001b[1;32m--> 528\u001b[0m     \u001b[38;5;28;01mreturn\u001b[39;00m \u001b[38;5;28;01mlambda\u001b[39;00m p,s:(cost(p,s)\u001b[38;5;241m+\u001b[39mheuristic(s,goal_position))\n",
      "Cell \u001b[1;32mIn[12], line 9\u001b[0m, in \u001b[0;36mcarry_item\u001b[1;34m(state, goal_position)\u001b[0m\n\u001b[0;32m      7\u001b[0m \u001b[38;5;28;01mfor\u001b[39;00m item \u001b[38;5;129;01min\u001b[39;00m contents:\n\u001b[0;32m      8\u001b[0m     \u001b[38;5;28;01mif\u001b[39;00m item \u001b[38;5;129;01mnot\u001b[39;00m \u001b[38;5;129;01min\u001b[39;00m carried_items \u001b[38;5;129;01mand\u001b[39;00m item \u001b[38;5;129;01mnot\u001b[39;00m \u001b[38;5;129;01min\u001b[39;00m state\u001b[38;5;241m.\u001b[39mroom_contents[room] :\n\u001b[1;32m----> 9\u001b[0m         total_distance \u001b[38;5;241m+\u001b[39m\u001b[38;5;241m=\u001b[39m \u001b[38;5;241m1\u001b[39m\n\u001b[0;32m     10\u001b[0m     \u001b[38;5;66;03m# If the target item is on the robot and the robot is not in the target room, \u001b[39;00m\n\u001b[0;32m     11\u001b[0m     \u001b[38;5;66;03m# the robot may need to go back and put the item\u001b[39;00m\n\u001b[0;32m     12\u001b[0m     \u001b[38;5;28;01melif\u001b[39;00m item \u001b[38;5;129;01min\u001b[39;00m carried_items:\n",
      "\u001b[1;31mKeyboardInterrupt\u001b[0m: "
     ]
    }
   ],
   "source": [
    "search( RW_PROBLEM_3, 'BF/FIFO', 10000000, loop_check=True, heuristic=carry_item, cost=thecost)"
   ]
  },
  {
   "cell_type": "code",
   "execution_count": null,
   "metadata": {},
   "outputs": [],
   "source": []
  }
 ],
 "metadata": {
  "colab": {
   "provenance": []
  },
  "kernelspec": {
   "display_name": "Python 3 (ipykernel)",
   "language": "python",
   "name": "python3"
  },
  "language_info": {
   "codemirror_mode": {
    "name": "ipython",
    "version": 3
   },
   "file_extension": ".py",
   "mimetype": "text/x-python",
   "name": "python",
   "nbconvert_exporter": "python",
   "pygments_lexer": "ipython3",
   "version": "3.11.3"
  }
 },
 "nbformat": 4,
 "nbformat_minor": 1
}
