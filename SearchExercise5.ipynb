{
 "cells": [
  {
   "cell_type": "code",
   "execution_count": 1,
   "metadata": {
    "colab": {
     "base_uri": "https://localhost:8080/"
    },
    "id": "RnR9_Heq5nG_",
    "outputId": "0ed20914-994a-4b12-8ad9-4b27851729cb"
   },
   "outputs": [
    {
     "name": "stdout",
     "output_type": "stream",
     "text": [
      "Loading bbSearch Version 2.1 (at 21:37, Tue 01 Apr)\n",
      "Last module source code edit 9am Thursday 24th Feb 2022\n"
     ]
    }
   ],
   "source": [
    "from bbSearchRaw import SearchProblem, search, thecost"
   ]
  },
  {
   "cell_type": "code",
   "execution_count": 2,
   "metadata": {
    "id": "ngXq3qU75nHG"
   },
   "outputs": [],
   "source": [
    "class Robot:\n",
    "    def __init__(self, location, carried_items, strength):\n",
    "        self.location      = location\n",
    "        self.carried_items = carried_items\n",
    "        self.strength      = strength\n",
    "\n",
    "    def weight_carried(self):\n",
    "        return sum([ITEM_WEIGHT[i] for i in self.carried_items])\n",
    "\n",
    "    ## Define unique string representation for the state of the robot object\n",
    "    def __repr__(self):\n",
    "        return str( ( self.location,\n",
    "                      self.carried_items,\n",
    "                      self.strength ) )\n",
    "\n",
    "class Door:\n",
    "    def __init__(self, roomA, roomB, doorkey=None, locked=False):\n",
    "        self.goes_between = {roomA, roomB}\n",
    "        self.doorkey      = doorkey\n",
    "        self.locked       = locked\n",
    "        # Define handy dictionary to get room on other side of a door\n",
    "        self.other_loc = {roomA:roomB, roomB:roomA}\n",
    "\n",
    "    ## Define a unique string representation for a door object\n",
    "    def __repr__(self):\n",
    "        return str( (\"door\", self.goes_between, self.doorkey, self.locked) )"
   ]
  },
  {
   "cell_type": "code",
   "execution_count": 3,
   "metadata": {
    "id": "YAPNtW105nHJ"
   },
   "outputs": [],
   "source": [
    "class State:\n",
    "    def __init__( self, robot, doors, room_contents ):\n",
    "        self.robot = robot\n",
    "        self.doors = doors\n",
    "        self.room_contents = room_contents\n",
    "\n",
    "    ## Define a string representation that will be uniquely identify the state.\n",
    "    ## An easy way is to form a tuple of representations of the components of\n",
    "    ## the state, then form a string from that:\n",
    "    def __repr__(self):\n",
    "        return str( ( self.robot.__repr__(),\n",
    "                      [d.__repr__() for d in self.doors],\n",
    "                      self.room_contents ) )\n"
   ]
  },
  {
   "cell_type": "code",
   "execution_count": 4,
   "metadata": {
    "id": "cGVcn1h35nHP"
   },
   "outputs": [],
   "source": [
    "from copy import deepcopy\n",
    "\n",
    "class RobotWorker( SearchProblem ):\n",
    "\n",
    "    def __init__( self, state, goal_item_locations ):\n",
    "        self.initial_state = state\n",
    "        self.goal_item_locations = goal_item_locations\n",
    "\n",
    "    def possible_actions( self, state ):\n",
    "\n",
    "        robot_location = state.robot.location\n",
    "        strength       = state.robot.strength\n",
    "        weight_carried = state.robot.weight_carried()\n",
    "\n",
    "        actions = []\n",
    "        # Can put down any carried item\n",
    "        for i in state.robot.carried_items:\n",
    "            actions.append( (\"put down\", i) )\n",
    "\n",
    "        # Can pick up any item in room if strong enough修改\n",
    "        for i in state.room_contents[robot_location]:\n",
    "            if ITEM_WEIGHT[i]==0:\n",
    "                actions.append( (\"pick up\", i))\n",
    "            elif any(i in goal_items for goal_items in self.goal_item_locations.values()):\n",
    "                if strength >= weight_carried + ITEM_WEIGHT[i]:\n",
    "                    actions.append((\"pick up\", i))\n",
    "\n",
    "        # If there is an unlocked door between robot location and\n",
    "        # another location can move to that location\n",
    "#         print(state.doors)\n",
    "        for door in state.doors:\n",
    "            if  door.locked==False and robot_location in door.goes_between:\n",
    "                actions.append( (\"move to\", door.other_loc[robot_location]) )\n",
    "            elif door.locked==True and door.doorkey in state.robot.carried_items and robot_location in door.goes_between:\n",
    "#                 print(door)\n",
    "#                 print(robot_location)\n",
    "#                 print(door.doorkey)\n",
    "#                 print(door.other_loc[robot_location])\n",
    "                actions.append( (\"move to\", door.other_loc[robot_location]) )\n",
    "        # Now the actions list should contain all possible actions\n",
    "        return actions\n",
    "\n",
    "    def successor( self, state, action):\n",
    "        next_state = deepcopy(state)\n",
    "        act, target = action\n",
    "        if act== \"put down\":\n",
    "            next_state.robot.carried_items.remove(target)\n",
    "            next_state.room_contents[state.robot.location].add(target)\n",
    "\n",
    "        if act == \"pick up\":\n",
    "            next_state.robot.carried_items.append(target)\n",
    "            next_state.room_contents[state.robot.location].remove(target)\n",
    "\n",
    "        if act == \"move to\":\n",
    "            next_state.robot.location = target\n",
    "\n",
    "        return next_state\n",
    "\n",
    "    def goal_test(self, state):\n",
    "        #print(state.room_contents)\n",
    "        for room, contents in self.goal_item_locations.items():\n",
    "            for i in contents:\n",
    "                if not i in state.room_contents[room]:\n",
    "                    return False\n",
    "        return True\n",
    "\n",
    "    def display_state(self,state):\n",
    "        print(\"Robot location:\", state.robot.location)\n",
    "        print(\"Robot carrying:\", state.robot.carried_items)\n",
    "        print(\"Room contents:\", state.room_contents)"
   ]
  },
  {
   "cell_type": "markdown",
   "metadata": {},
   "source": [
    "## small"
   ]
  },
  {
   "cell_type": "code",
   "execution_count": 27,
   "metadata": {},
   "outputs": [],
   "source": [
    "ROOM_CONTENTS = {\n",
    "    'workshop'     : {'key'},\n",
    "    'store room'   : {'bucket', 'suitcase'},\n",
    "    'tool cupboard' : {'hammer', 'anvil', 'saw', 'screwdriver'},\n",
    "}\n",
    "\n",
    "ITEM_WEIGHT = {\n",
    "    'key' : 0,\n",
    "    'bucket' : 2,\n",
    "    'suitcase' : 4,\n",
    "    'screwdriver' : 1,\n",
    "    'hammer' : 5,\n",
    "    'anvil' : 12,\n",
    "    'saw' : 2,\n",
    "}\n",
    "\n",
    "DOORS = [\n",
    "    Door('workshop', 'store room' ),\n",
    "    Door( 'store room', 'tool cupboard', doorkey='key', locked= False )\n",
    "]\n"
   ]
  },
  {
   "cell_type": "code",
   "execution_count": 28,
   "metadata": {},
   "outputs": [],
   "source": [
    "rob = Robot('store room', [], 15 )\n",
    "\n",
    "state = State(rob, DOORS, ROOM_CONTENTS)\n",
    "\n",
    "goal_item_locations =  {\"store room\":{\"hammer\", \"screwdriver\", \"anvil\"}}\n",
    "\n",
    "RW_PROBLEM_1 = RobotWorker( state, goal_item_locations )"
   ]
  },
  {
   "cell_type": "markdown",
   "metadata": {},
   "source": [
    "## middle"
   ]
  },
  {
   "cell_type": "code",
   "execution_count": 42,
   "metadata": {
    "id": "5k_U8vNi5nHM"
   },
   "outputs": [],
   "source": [
    "ROOM_CONTENTS = {\n",
    "    'workshop'     : {'key1'},\n",
    "    'store room'   : {'bucket', 'suitcase','key2'},\n",
    "    'tool cupboard' : {'hammer', 'anvil', 'saw', 'screwdriver'},\n",
    "    'warehouse': {'box', 'crate', 'container'}\n",
    "}\n",
    "\n",
    "ITEM_WEIGHT = {\n",
    "    'key1' : 0,\n",
    "    'bucket' : 2,\n",
    "    'suitcase' : 4,\n",
    "    'screwdriver' : 1,\n",
    "    'hammer' : 5,\n",
    "    'anvil' : 12,\n",
    "    'saw' : 2,\n",
    "    'box':3,\n",
    "    'crate':8,\n",
    "    'container':10,\n",
    "    'key2':0\n",
    "}\n",
    "\n",
    "DOORS = [\n",
    "    Door('workshop', 'store room' ),\n",
    "    Door( 'store room', 'tool cupboard', doorkey='key1', locked=True),\n",
    "    Door( 'workshop', 'warehouse', doorkey='key2', locked=True ),\n",
    "    Door('warehouse','tool cupboard')\n",
    "]"
   ]
  },
  {
   "cell_type": "code",
   "execution_count": 43,
   "metadata": {
    "id": "GhVuYfAF5nHS"
   },
   "outputs": [],
   "source": [
    "rob = Robot('store room', [], 15 )\n",
    "\n",
    "state = State(rob, DOORS, ROOM_CONTENTS)\n",
    "\n",
    "goal_item_locations =  {\n",
    "    \"workshop\":{\"box\"},\n",
    "    \"store room\":{\"hammer\", \"screwdriver\", \"anvil\"},\n",
    "    \"warehouse\" :{\"bucket\"}\n",
    "}\n",
    "\n",
    "RW_PROBLEM_2 = RobotWorker( state, goal_item_locations )"
   ]
  },
  {
   "cell_type": "markdown",
   "metadata": {},
   "source": [
    "## hard"
   ]
  },
  {
   "cell_type": "code",
   "execution_count": 5,
   "metadata": {},
   "outputs": [],
   "source": [
    "# ROOM_CONTENTS = {\n",
    "#     'workshop'     : {'key1'},\n",
    "#     'store room'   : {'bucket', 'suitcase','key2'},\n",
    "#     'tool cupboard' : {'anvil', 'saw','thing3'},\n",
    "#     'warehouse': {'box', 'crate', 'container'},\n",
    "#     'room1': {'thing1','thing2'},\n",
    "#     'room3':{'key3'}\n",
    "# }\n",
    "\n",
    "# ITEM_WEIGHT = {\n",
    "#     'key1' : 0,\n",
    "#     'key2':0,\n",
    "#     'key3':0,\n",
    "#     'bucket' : 2,\n",
    "#     'suitcase' : 4,\n",
    "#     'screwdriver' : 1,\n",
    "#     'hammer' : 5,\n",
    "#     'anvil' : 12,\n",
    "#     'saw' : 2,\n",
    "#     'box':3,\n",
    "#     'crate':8,\n",
    "#     'container':10,\n",
    "#     'thing1': 6,\n",
    "#     'thing2': 4,\n",
    "#     'thing3': 3\n",
    "# }\n",
    "\n",
    "# DOORS = [\n",
    "#     Door('workshop', 'store room' ),\n",
    "#     Door('room3', 'tool cupboard' ),\n",
    "#     Door('warehouse', 'room1' ),\n",
    "#     Door( 'store room', 'room3', doorkey='key1', locked=True),\n",
    "#     Door( 'workshop', 'warehouse', doorkey='key2', locked=True ),\n",
    "#     Door( 'room1', 'tool cupboard', doorkey='key3', locked=True )\n",
    "# ]"
   ]
  },
  {
   "cell_type": "code",
   "execution_count": 52,
   "metadata": {},
   "outputs": [],
   "source": [
    "## 有锁无key\n",
    "ROOM_CONTENTS = {\n",
    "    'workshop'     : {'key1'},\n",
    "    'store room'   : {'bucket', 'suitcase'},\n",
    "    'tool cupboard' : {'anvil', 'saw'},\n",
    "    'warehouse': {'box', 'crate', 'container','key4'},\n",
    "    'room1': {'thing1','thing2'},\n",
    "    'room2':{'thing3'},\n",
    "    'room3':{'key2'}\n",
    "}\n",
    "\n",
    "ITEM_WEIGHT = {\n",
    "    'key1' : 0,\n",
    "    'key2':0,\n",
    "    'key4':0,\n",
    "    'bucket' : 2,\n",
    "    'suitcase' : 4,\n",
    "    'screwdriver' : 1,\n",
    "    'hammer' : 5,\n",
    "    'anvil' : 12,\n",
    "    'saw' : 2,\n",
    "    'box':3,\n",
    "    'crate':8,\n",
    "    'container':10,\n",
    "    'thing1': 6,\n",
    "    'thing2': 7,\n",
    "    'thing3': 3\n",
    "}\n",
    "\n",
    "DOORS = [\n",
    "    Door('workshop', 'store room' ),\n",
    "    Door('room3', 'room2' ),\n",
    "    Door('warehouse', 'room1' ),\n",
    "    Door( 'store room', 'room3', doorkey='key1', locked=True),\n",
    "    Door( 'workshop', 'warehouse', doorkey='key2', locked=True ),\n",
    "    Door( 'room1', 'tool cupboard', doorkey='key3', locked=True ),\n",
    "    Door( 'room2', 'tool cupboard', doorkey='key4', locked=True )\n",
    "]"
   ]
  },
  {
   "cell_type": "code",
   "execution_count": 53,
   "metadata": {},
   "outputs": [],
   "source": [
    "# rob = Robot('store room', [], 15 )\n",
    "\n",
    "# state = State(rob, DOORS, ROOM_CONTENTS)\n",
    "\n",
    "# goal_item_locations =  {\n",
    "#     \"store room\":{\"thing1\", \"box\"},\n",
    "#     \"room3\" :{\"saw\"},\n",
    "#     'warehouse':{'bucket','suitcase'},\n",
    "#     'room1':{'anvil'}\n",
    "# }\n",
    "\n",
    "# RW_PROBLEM_3 = RobotWorker( state, goal_item_locations )\n",
    "rob = Robot('store room', [], 15 )\n",
    "\n",
    "state = State(rob, DOORS, ROOM_CONTENTS)\n",
    "\n",
    "goal_item_locations =  {\n",
    "    \"store room\":{\"thing1\", \"thing2\", \"box\"},\n",
    "    \"room3\" :{\"saw\"},\n",
    "    'warehouse':{'bucket','suitcase'},\n",
    "    'room1':{'anvil'},\n",
    "    \"tool cupboard\":{'thing3'}\n",
    "}\n",
    "\n",
    "RW_PROBLEM_3 = RobotWorker( state, goal_item_locations )"
   ]
  },
  {
   "cell_type": "markdown",
   "metadata": {},
   "source": [
    "## 没有启发式"
   ]
  },
  {
   "cell_type": "code",
   "execution_count": null,
   "metadata": {},
   "outputs": [],
   "source": [
    "search( RW_PROBLEM_1, 'BF/FIFO', 10000000, loop_check=True, randomise=False)"
   ]
  },
  {
   "cell_type": "code",
   "execution_count": null,
   "metadata": {},
   "outputs": [],
   "source": [
    "search( RW_PROBLEM_1, 'BF/FIFO', 10000000, loop_check=False, randomise=False)"
   ]
  },
  {
   "cell_type": "code",
   "execution_count": null,
   "metadata": {},
   "outputs": [],
   "source": [
    "search( RW_PROBLEM_1, 'DF/LIFO', 10000000, loop_check=True, randomise=False)"
   ]
  },
  {
   "cell_type": "code",
   "execution_count": null,
   "metadata": {},
   "outputs": [],
   "source": [
    "search( RW_PROBLEM_1, 'DF/LIFO', 10000000, loop_check=False, randomise=False)"
   ]
  },
  {
   "cell_type": "code",
   "execution_count": null,
   "metadata": {},
   "outputs": [],
   "source": [
    "search( RW_PROBLEM_1, 'DF/LIFO', 10000000, loop_check=True, randomise=True)  "
   ]
  },
  {
   "cell_type": "code",
   "execution_count": null,
   "metadata": {},
   "outputs": [],
   "source": [
    "search( RW_PROBLEM_1, 'DF/LIFO', 10000000, loop_check=False, randomise=True)"
   ]
  },
  {
   "cell_type": "code",
   "execution_count": 60,
   "metadata": {},
   "outputs": [
    {
     "name": "stdout",
     "output_type": "stream",
     "text": [
      "This is the general SearchProblem parent class\n",
      "You must extend this class to encode a particular search problem.\n",
      "\n",
      "** Running Brandon's Search Algorithm **\n",
      "Strategy: mode=BF/FIFO, cost=None, heuristic=None\n",
      "Max search nodes: 10000000  (max number added to queue)\n",
      "Searching (will output '.' each 1000 goal_tests)\n",
      ".................................................................................................... (100000)\n",
      ".................................................................................................... (200000)\n",
      ".................................................................................................... (300000)\n",
      "...................................................................................................The search times out\n",
      ". (400000)\n",
      "................."
     ]
    }
   ],
   "source": [
    "# search( RW_PROBLEM_2, 'BF/FIFO', 10000000, loop_check=True, randomise=False)\n",
    "import threading\n",
    "def target():\n",
    "        result[0] = search( RW_PROBLEM_2, 'BF/FIFO', 10000000, loop_check=True, randomise=False)\n",
    "thread = threading.Thread(target=target)\n",
    "thread.start()\n",
    "thread.join(timeout=300) \n",
    "if thread.is_alive():  \n",
    "    print(\"The search times out\")\n",
    "else: \n",
    "    result[0]"
   ]
  },
  {
   "cell_type": "code",
   "execution_count": null,
   "metadata": {},
   "outputs": [],
   "source": [
    "search( RW_PROBLEM_2, 'BF/FIFO', 10000000, loop_check=False, randomise=False)"
   ]
  },
  {
   "cell_type": "code",
   "execution_count": null,
   "metadata": {},
   "outputs": [],
   "source": [
    "search( RW_PROBLEM_2, 'DF/LIFO', 10000000, loop_check=True, randomise=False)"
   ]
  },
  {
   "cell_type": "code",
   "execution_count": null,
   "metadata": {},
   "outputs": [],
   "source": [
    "search( RW_PROBLEM_2, 'DF/LIFO', 10000000, loop_check=False, randomise=False)"
   ]
  },
  {
   "cell_type": "code",
   "execution_count": null,
   "metadata": {},
   "outputs": [],
   "source": [
    "search( RW_PROBLEM_2, 'DF/LIFO', 10000000, loop_check=True, randomise=True)"
   ]
  },
  {
   "cell_type": "code",
   "execution_count": null,
   "metadata": {},
   "outputs": [],
   "source": [
    "search( RW_PROBLEM_2, 'DF/LIFO', 10000000, loop_check=False, randomise=True)"
   ]
  },
  {
   "cell_type": "code",
   "execution_count": null,
   "metadata": {},
   "outputs": [],
   "source": [
    "# search( RW_PROBLEM_3, 'BF/FIFO', 10000000, loop_check=True, randomise=False)\n",
    "import threading\n",
    "def target():\n",
    "        result[0] = search( RW_PROBLEM_3, 'BF/FIFO', 10000000, loop_check=True, randomise=False)\n",
    "thread = threading.Thread(target=target)\n",
    "thread.start()\n",
    "thread.join(timeout=300) \n",
    "if thread.is_alive():  \n",
    "    print(\"The search times out\")\n",
    "else: \n",
    "    result[0]"
   ]
  },
  {
   "cell_type": "code",
   "execution_count": null,
   "metadata": {},
   "outputs": [],
   "source": [
    "import threading\n",
    "def target():\n",
    "        result[0] = search( RW_PROBLEM_3, 'DF/LIFO', 10000000, loop_check=True, randomise=False)\n",
    "thread = threading.Thread(target=target)\n",
    "thread.start()\n",
    "thread.join(timeout=300) \n",
    "if thread.is_alive():  \n",
    "    print(\"The search times out\")\n",
    "else: \n",
    "    result[0]"
   ]
  },
  {
   "cell_type": "code",
   "execution_count": null,
   "metadata": {},
   "outputs": [],
   "source": [
    "search( RW_PROBLEM_3, 'DF/LIFO', 10000000, loop_check=True, randomise=True)"
   ]
  },
  {
   "cell_type": "markdown",
   "metadata": {},
   "source": [
    "## 启发式"
   ]
  },
  {
   "cell_type": "code",
   "execution_count": 31,
   "metadata": {},
   "outputs": [],
   "source": [
    "def misplace (state,goal_position):\n",
    "    total_distance=0\n",
    "    for room, contents in goal_position.items():\n",
    "            for i in contents:\n",
    "                if not i in state.room_contents[room]:\n",
    "                    total_distance +=1 \n",
    "    return total_distance*4"
   ]
  },
  {
   "cell_type": "code",
   "execution_count": 32,
   "metadata": {},
   "outputs": [
    {
     "name": "stdout",
     "output_type": "stream",
     "text": [
      "This is the general SearchProblem parent class\n",
      "You must extend this class to encode a particular search problem.\n",
      "\n",
      "** Running Brandon's Search Algorithm **\n",
      "Strategy: mode=BF/FIFO, cost=None, heuristic=misplace\n",
      "Max search nodes: 10000000  (max number added to queue)\n",
      "Searching (will output '.' each 1000 goal_tests)\n",
      "\n",
      ":-)) *SUCCESS* ((-:\n",
      "\n",
      "Path length = 12\n",
      "Goal state is:\n",
      "Robot location: store room\n",
      "Robot carrying: []\n",
      "Room contents: {'workshop': {'key'}, 'store room': {'suitcase', 'bucket', 'screwdriver', 'anvil', 'hammer'}, 'tool cupboard': {'saw'}}\n",
      "The action path to the solution is:\n",
      "    ('move to', 'tool cupboard')\n",
      "    ('pick up', 'hammer')\n",
      "    ('move to', 'store room')\n",
      "    ('put down', 'hammer')\n",
      "    ('move to', 'tool cupboard')\n",
      "    ('pick up', 'anvil')\n",
      "    ('move to', 'store room')\n",
      "    ('put down', 'anvil')\n",
      "    ('move to', 'tool cupboard')\n",
      "    ('pick up', 'screwdriver')\n",
      "    ('move to', 'store room')\n",
      "    ('put down', 'screwdriver')\n",
      "\n",
      "\n",
      "SEARCH SPACE STATS:\n",
      "Total nodes generated          =       78  (includes start)\n",
      "Nodes discarded by loop_check  =       27  (51 distinct states added to queue)\n",
      "Nodes tested (by goal_test)    =       27  (26 expanded + 1 goal)\n",
      "Nodes left in queue            =       24\n",
      "\n",
      "Time taken = 0.0072 seconds\n",
      "\n"
     ]
    },
    {
     "data": {
      "text/plain": [
       "'GOAL_STATE_FOUND'"
      ]
     },
     "execution_count": 32,
     "metadata": {},
     "output_type": "execute_result"
    }
   ],
   "source": [
    "search( RW_PROBLEM_1, 'BF/FIFO', 10000000, loop_check=True, heuristic=misplace)"
   ]
  },
  {
   "cell_type": "code",
   "execution_count": 33,
   "metadata": {},
   "outputs": [
    {
     "name": "stdout",
     "output_type": "stream",
     "text": [
      "This is the general SearchProblem parent class\n",
      "You must extend this class to encode a particular search problem.\n",
      "\n",
      "** Running Brandon's Search Algorithm **\n",
      "Strategy: mode=BF/FIFO, cost=None, heuristic=misplace\n",
      "Max search nodes: 10000000  (max number added to queue)\n",
      "Searching (will output '.' each 1000 goal_tests)\n",
      "\n",
      ":-)) *SUCCESS* ((-:\n",
      "\n",
      "Path length = 12\n",
      "Goal state is:\n",
      "Robot location: store room\n",
      "Robot carrying: []\n",
      "Room contents: {'workshop': {'key'}, 'store room': {'suitcase', 'bucket', 'screwdriver', 'anvil', 'hammer'}, 'tool cupboard': {'saw'}}\n",
      "The action path to the solution is:\n",
      "    ('move to', 'tool cupboard')\n",
      "    ('pick up', 'hammer')\n",
      "    ('move to', 'store room')\n",
      "    ('put down', 'hammer')\n",
      "    ('move to', 'tool cupboard')\n",
      "    ('pick up', 'anvil')\n",
      "    ('move to', 'store room')\n",
      "    ('put down', 'anvil')\n",
      "    ('move to', 'tool cupboard')\n",
      "    ('pick up', 'screwdriver')\n",
      "    ('move to', 'store room')\n",
      "    ('put down', 'screwdriver')\n",
      "\n",
      "\n",
      "SEARCH SPACE STATS:\n",
      "Total nodes generated          =      126  (includes start)\n",
      "Nodes tested (by goal_test)    =       45  (44 expanded + 1 goal)\n",
      "Nodes left in queue            =       81\n",
      "\n",
      "Time taken = 0.0093 seconds\n",
      "\n"
     ]
    },
    {
     "data": {
      "text/plain": [
       "'GOAL_STATE_FOUND'"
      ]
     },
     "execution_count": 33,
     "metadata": {},
     "output_type": "execute_result"
    }
   ],
   "source": [
    "search( RW_PROBLEM_1, 'BF/FIFO', 10000000, loop_check=False, heuristic=misplace)"
   ]
  },
  {
   "cell_type": "code",
   "execution_count": 34,
   "metadata": {},
   "outputs": [
    {
     "name": "stdout",
     "output_type": "stream",
     "text": [
      "This is the general SearchProblem parent class\n",
      "You must extend this class to encode a particular search problem.\n",
      "\n",
      "** Running Brandon's Search Algorithm **\n",
      "Strategy: mode=BF/FIFO, cost=thecost, heuristic=misplace\n",
      "Max search nodes: 10000000  (max number added to queue)\n",
      "Searching (will output '.' each 1000 goal_tests)\n",
      "\n",
      ":-)) *SUCCESS* ((-:\n",
      "\n",
      "Path length = 12\n",
      "Goal state is:\n",
      "Robot location: store room\n",
      "Robot carrying: []\n",
      "Room contents: {'workshop': {'key'}, 'store room': {'suitcase', 'bucket', 'screwdriver', 'anvil', 'hammer'}, 'tool cupboard': {'saw'}}\n",
      "Cost of reaching goal: 12\n",
      "The action path to the solution is:\n",
      "    ('move to', 'tool cupboard')\n",
      "    ('pick up', 'hammer')\n",
      "    ('move to', 'store room')\n",
      "    ('put down', 'hammer')\n",
      "    ('move to', 'tool cupboard')\n",
      "    ('pick up', 'anvil')\n",
      "    ('move to', 'store room')\n",
      "    ('put down', 'anvil')\n",
      "    ('move to', 'tool cupboard')\n",
      "    ('pick up', 'screwdriver')\n",
      "    ('move to', 'store room')\n",
      "    ('put down', 'screwdriver')\n",
      "\n",
      "\n",
      "SEARCH SPACE STATS:\n",
      "Total nodes generated          =      183  (includes start)\n",
      "Nodes discarded by loop_check  =       82  (101 distinct states added to queue)\n",
      "Nodes tested (by goal_test)    =       64  (63 expanded + 1 goal)\n",
      "Nodes left in queue            =       37\n",
      "\n",
      "Time taken = 0.015 seconds\n",
      "\n"
     ]
    },
    {
     "data": {
      "text/plain": [
       "'GOAL_STATE_FOUND'"
      ]
     },
     "execution_count": 34,
     "metadata": {},
     "output_type": "execute_result"
    }
   ],
   "source": [
    "search( RW_PROBLEM_1, 'BF/FIFO', 10000000, loop_check=True, heuristic=misplace, cost=thecost)"
   ]
  },
  {
   "cell_type": "code",
   "execution_count": 35,
   "metadata": {},
   "outputs": [
    {
     "name": "stdout",
     "output_type": "stream",
     "text": [
      "This is the general SearchProblem parent class\n",
      "You must extend this class to encode a particular search problem.\n",
      "\n",
      "** Running Brandon's Search Algorithm **\n",
      "Strategy: mode=BF/FIFO, cost=thecost, heuristic=misplace\n",
      "Max search nodes: 10000000  (max number added to queue)\n",
      "Searching (will output '.' each 1000 goal_tests)\n",
      "\n",
      ":-)) *SUCCESS* ((-:\n",
      "\n",
      "Path length = 12\n",
      "Goal state is:\n",
      "Robot location: store room\n",
      "Robot carrying: []\n",
      "Room contents: {'workshop': {'key'}, 'store room': {'suitcase', 'bucket', 'screwdriver', 'anvil', 'hammer'}, 'tool cupboard': {'saw'}}\n",
      "Cost of reaching goal: 12\n",
      "The action path to the solution is:\n",
      "    ('move to', 'tool cupboard')\n",
      "    ('pick up', 'hammer')\n",
      "    ('move to', 'store room')\n",
      "    ('put down', 'hammer')\n",
      "    ('move to', 'tool cupboard')\n",
      "    ('pick up', 'anvil')\n",
      "    ('move to', 'store room')\n",
      "    ('put down', 'anvil')\n",
      "    ('move to', 'tool cupboard')\n",
      "    ('pick up', 'screwdriver')\n",
      "    ('move to', 'store room')\n",
      "    ('put down', 'screwdriver')\n",
      "\n",
      "\n",
      "SEARCH SPACE STATS:\n",
      "Total nodes generated          =      377  (includes start)\n",
      "Nodes tested (by goal_test)    =      132  (131 expanded + 1 goal)\n",
      "Nodes left in queue            =      245\n",
      "\n",
      "Time taken = 0.0278 seconds\n",
      "\n"
     ]
    },
    {
     "data": {
      "text/plain": [
       "'GOAL_STATE_FOUND'"
      ]
     },
     "execution_count": 35,
     "metadata": {},
     "output_type": "execute_result"
    }
   ],
   "source": [
    "search( RW_PROBLEM_1, 'BF/FIFO', 10000000, loop_check=False, heuristic=misplace, cost=thecost)"
   ]
  },
  {
   "cell_type": "code",
   "execution_count": 44,
   "metadata": {},
   "outputs": [
    {
     "name": "stdout",
     "output_type": "stream",
     "text": [
      "This is the general SearchProblem parent class\n",
      "You must extend this class to encode a particular search problem.\n",
      "\n",
      "** Running Brandon's Search Algorithm **\n",
      "Strategy: mode=BF/FIFO, cost=None, heuristic=misplace\n",
      "Max search nodes: 10000000  (max number added to queue)\n",
      "Searching (will output '.' each 1000 goal_tests)\n",
      "\n",
      ":-)) *SUCCESS* ((-:\n",
      "\n",
      "Path length = 22\n",
      "Goal state is:\n",
      "Robot location: store room\n",
      "Robot carrying: ['key2', 'key1']\n",
      "Room contents: {'workshop': {'box'}, 'store room': {'hammer', 'suitcase', 'anvil', 'screwdriver'}, 'tool cupboard': {'saw'}, 'warehouse': {'crate', 'container', 'bucket'}}\n",
      "The action path to the solution is:\n",
      "    ('pick up', 'bucket')\n",
      "    ('pick up', 'key2')\n",
      "    ('move to', 'workshop')\n",
      "    ('move to', 'warehouse')\n",
      "    ('put down', 'bucket')\n",
      "    ('pick up', 'box')\n",
      "    ('move to', 'workshop')\n",
      "    ('put down', 'box')\n",
      "    ('pick up', 'key1')\n",
      "    ('move to', 'store room')\n",
      "    ('move to', 'tool cupboard')\n",
      "    ('pick up', 'hammer')\n",
      "    ('move to', 'store room')\n",
      "    ('put down', 'hammer')\n",
      "    ('move to', 'tool cupboard')\n",
      "    ('pick up', 'anvil')\n",
      "    ('move to', 'store room')\n",
      "    ('put down', 'anvil')\n",
      "    ('move to', 'tool cupboard')\n",
      "    ('pick up', 'screwdriver')\n",
      "    ('move to', 'store room')\n",
      "    ('put down', 'screwdriver')\n",
      "\n",
      "\n",
      "SEARCH SPACE STATS:\n",
      "Total nodes generated          =      911  (includes start)\n",
      "Nodes discarded by loop_check  =      350  (561 distinct states added to queue)\n",
      "Nodes tested (by goal_test)    =      206  (205 expanded + 1 goal)\n",
      "Nodes left in queue            =      355\n",
      "\n",
      "Time taken = 0.1146 seconds\n",
      "\n"
     ]
    },
    {
     "data": {
      "text/plain": [
       "'GOAL_STATE_FOUND'"
      ]
     },
     "execution_count": 44,
     "metadata": {},
     "output_type": "execute_result"
    }
   ],
   "source": [
    "search( RW_PROBLEM_2, 'BF/FIFO', 10000000, loop_check=True, heuristic=misplace)"
   ]
  },
  {
   "cell_type": "code",
   "execution_count": 45,
   "metadata": {},
   "outputs": [
    {
     "name": "stdout",
     "output_type": "stream",
     "text": [
      "This is the general SearchProblem parent class\n",
      "You must extend this class to encode a particular search problem.\n",
      "\n",
      "** Running Brandon's Search Algorithm **\n",
      "Strategy: mode=BF/FIFO, cost=None, heuristic=misplace\n",
      "Max search nodes: 10000000  (max number added to queue)\n",
      "Searching (will output '.' each 1000 goal_tests)\n",
      "\n",
      ":-)) *SUCCESS* ((-:\n",
      "\n",
      "Path length = 22\n",
      "Goal state is:\n",
      "Robot location: store room\n",
      "Robot carrying: ['key2', 'key1']\n",
      "Room contents: {'workshop': {'box'}, 'store room': {'hammer', 'suitcase', 'anvil', 'screwdriver'}, 'tool cupboard': {'saw'}, 'warehouse': {'crate', 'container', 'bucket'}}\n",
      "The action path to the solution is:\n",
      "    ('pick up', 'bucket')\n",
      "    ('pick up', 'key2')\n",
      "    ('move to', 'workshop')\n",
      "    ('move to', 'warehouse')\n",
      "    ('put down', 'bucket')\n",
      "    ('pick up', 'box')\n",
      "    ('move to', 'workshop')\n",
      "    ('put down', 'box')\n",
      "    ('pick up', 'key1')\n",
      "    ('move to', 'store room')\n",
      "    ('move to', 'tool cupboard')\n",
      "    ('pick up', 'hammer')\n",
      "    ('move to', 'store room')\n",
      "    ('put down', 'hammer')\n",
      "    ('move to', 'tool cupboard')\n",
      "    ('pick up', 'anvil')\n",
      "    ('move to', 'store room')\n",
      "    ('put down', 'anvil')\n",
      "    ('move to', 'tool cupboard')\n",
      "    ('pick up', 'screwdriver')\n",
      "    ('move to', 'store room')\n",
      "    ('put down', 'screwdriver')\n",
      "\n",
      "\n",
      "SEARCH SPACE STATS:\n",
      "Total nodes generated          =     2662  (includes start)\n",
      "Nodes tested (by goal_test)    =      626  (625 expanded + 1 goal)\n",
      "Nodes left in queue            =     2036\n",
      "\n",
      "Time taken = 0.2818 seconds\n",
      "\n"
     ]
    },
    {
     "data": {
      "text/plain": [
       "'GOAL_STATE_FOUND'"
      ]
     },
     "execution_count": 45,
     "metadata": {},
     "output_type": "execute_result"
    }
   ],
   "source": [
    "search( RW_PROBLEM_2, 'BF/FIFO', 10000000, loop_check=False, heuristic=misplace)"
   ]
  },
  {
   "cell_type": "code",
   "execution_count": 46,
   "metadata": {},
   "outputs": [
    {
     "name": "stdout",
     "output_type": "stream",
     "text": [
      "This is the general SearchProblem parent class\n",
      "You must extend this class to encode a particular search problem.\n",
      "\n",
      "** Running Brandon's Search Algorithm **\n",
      "Strategy: mode=BF/FIFO, cost=thecost, heuristic=misplace\n",
      "Max search nodes: 10000000  (max number added to queue)\n",
      "Searching (will output '.' each 1000 goal_tests)\n",
      "\n",
      ":-)) *SUCCESS* ((-:\n",
      "\n",
      "Path length = 22\n",
      "Goal state is:\n",
      "Robot location: store room\n",
      "Robot carrying: ['key2', 'key1']\n",
      "Room contents: {'workshop': {'box'}, 'store room': {'hammer', 'suitcase', 'anvil', 'screwdriver'}, 'tool cupboard': {'saw'}, 'warehouse': {'crate', 'container', 'bucket'}}\n",
      "Cost of reaching goal: 22\n",
      "The action path to the solution is:\n",
      "    ('pick up', 'bucket')\n",
      "    ('pick up', 'key2')\n",
      "    ('move to', 'workshop')\n",
      "    ('move to', 'warehouse')\n",
      "    ('put down', 'bucket')\n",
      "    ('pick up', 'box')\n",
      "    ('move to', 'workshop')\n",
      "    ('put down', 'box')\n",
      "    ('pick up', 'key1')\n",
      "    ('move to', 'store room')\n",
      "    ('move to', 'tool cupboard')\n",
      "    ('pick up', 'hammer')\n",
      "    ('move to', 'store room')\n",
      "    ('put down', 'hammer')\n",
      "    ('move to', 'tool cupboard')\n",
      "    ('pick up', 'anvil')\n",
      "    ('move to', 'store room')\n",
      "    ('put down', 'anvil')\n",
      "    ('move to', 'tool cupboard')\n",
      "    ('pick up', 'screwdriver')\n",
      "    ('move to', 'store room')\n",
      "    ('put down', 'screwdriver')\n",
      "\n",
      "\n",
      "SEARCH SPACE STATS:\n",
      "Total nodes generated          =     2749  (includes start)\n",
      "Nodes discarded by loop_check  =     1140  (1609 distinct states added to queue)\n",
      "Nodes tested (by goal_test)    =      609  (608 expanded + 1 goal)\n",
      "Nodes left in queue            =     1000\n",
      "\n",
      "Time taken = 0.3353 seconds\n",
      "\n"
     ]
    },
    {
     "data": {
      "text/plain": [
       "'GOAL_STATE_FOUND'"
      ]
     },
     "execution_count": 46,
     "metadata": {},
     "output_type": "execute_result"
    }
   ],
   "source": [
    "search( RW_PROBLEM_2, 'BF/FIFO', 10000000, loop_check=True, heuristic=misplace, cost=thecost)"
   ]
  },
  {
   "cell_type": "code",
   "execution_count": 47,
   "metadata": {},
   "outputs": [
    {
     "name": "stdout",
     "output_type": "stream",
     "text": [
      "This is the general SearchProblem parent class\n",
      "You must extend this class to encode a particular search problem.\n",
      "\n",
      "** Running Brandon's Search Algorithm **\n",
      "Strategy: mode=BF/FIFO, cost=thecost, heuristic=misplace\n",
      "Max search nodes: 10000000  (max number added to queue)\n",
      "Searching (will output '.' each 1000 goal_tests)\n",
      "...................\n",
      ":-)) *SUCCESS* ((-:\n",
      "\n",
      "Path length = 22\n",
      "Goal state is:\n",
      "Robot location: store room\n",
      "Robot carrying: ['key2', 'key1']\n",
      "Room contents: {'workshop': {'box'}, 'store room': {'hammer', 'suitcase', 'anvil', 'screwdriver'}, 'tool cupboard': {'saw'}, 'warehouse': {'crate', 'container', 'bucket'}}\n",
      "Cost of reaching goal: 22\n",
      "The action path to the solution is:\n",
      "    ('pick up', 'bucket')\n",
      "    ('pick up', 'key2')\n",
      "    ('move to', 'workshop')\n",
      "    ('move to', 'warehouse')\n",
      "    ('put down', 'bucket')\n",
      "    ('pick up', 'box')\n",
      "    ('move to', 'workshop')\n",
      "    ('put down', 'box')\n",
      "    ('pick up', 'key1')\n",
      "    ('move to', 'store room')\n",
      "    ('move to', 'tool cupboard')\n",
      "    ('pick up', 'hammer')\n",
      "    ('move to', 'store room')\n",
      "    ('put down', 'hammer')\n",
      "    ('move to', 'tool cupboard')\n",
      "    ('pick up', 'anvil')\n",
      "    ('move to', 'store room')\n",
      "    ('put down', 'anvil')\n",
      "    ('move to', 'tool cupboard')\n",
      "    ('pick up', 'screwdriver')\n",
      "    ('move to', 'store room')\n",
      "    ('put down', 'screwdriver')\n",
      "\n",
      "\n",
      "SEARCH SPACE STATS:\n",
      "Total nodes generated          =    86811  (includes start)\n",
      "Nodes tested (by goal_test)    =    19057  (19056 expanded + 1 goal)\n",
      "Nodes left in queue            =    67754\n",
      "\n",
      "Time taken = 16.3449 seconds\n",
      "\n"
     ]
    },
    {
     "data": {
      "text/plain": [
       "'GOAL_STATE_FOUND'"
      ]
     },
     "execution_count": 47,
     "metadata": {},
     "output_type": "execute_result"
    }
   ],
   "source": [
    "search( RW_PROBLEM_2, 'BF/FIFO', 10000000, loop_check=False, heuristic=misplace, cost=thecost)"
   ]
  },
  {
   "cell_type": "code",
   "execution_count": 16,
   "metadata": {},
   "outputs": [
    {
     "name": "stdout",
     "output_type": "stream",
     "text": [
      "This is the general SearchProblem parent class\n",
      "You must extend this class to encode a particular search problem.\n",
      "\n",
      "** Running Brandon's Search Algorithm **\n",
      "Strategy: mode=BF/FIFO, cost=None, heuristic=misplace\n",
      "Max search nodes: 10000000  (max number added to queue)\n",
      "Searching (will output '.' each 1000 goal_tests)\n",
      "....\n",
      ":-)) *SUCCESS* ((-:\n",
      "\n",
      "Path length = 56\n",
      "Goal state is:\n",
      "Robot location: room1\n",
      "Robot carrying: ['key1', 'key2', 'key4']\n",
      "Room contents: {'workshop': set(), 'store room': {'box', 'thing2', 'thing1'}, 'tool cupboard': {'thing3'}, 'warehouse': {'suitcase', 'container', 'bucket', 'crate'}, 'room1': {'anvil'}, 'room2': set(), 'room3': {'saw'}}\n",
      "The action path to the solution is:\n",
      "    ('pick up', 'suitcase')\n",
      "    ('move to', 'workshop')\n",
      "    ('pick up', 'key1')\n",
      "    ('move to', 'store room')\n",
      "    ('move to', 'room3')\n",
      "    ('pick up', 'key2')\n",
      "    ('move to', 'store room')\n",
      "    ('move to', 'workshop')\n",
      "    ('move to', 'warehouse')\n",
      "    ('put down', 'suitcase')\n",
      "    ('pick up', 'box')\n",
      "    ('move to', 'workshop')\n",
      "    ('move to', 'store room')\n",
      "    ('put down', 'box')\n",
      "    ('pick up', 'bucket')\n",
      "    ('move to', 'workshop')\n",
      "    ('move to', 'warehouse')\n",
      "    ('put down', 'bucket')\n",
      "    ('move to', 'room1')\n",
      "    ('pick up', 'thing2')\n",
      "    ('move to', 'warehouse')\n",
      "    ('move to', 'workshop')\n",
      "    ('move to', 'store room')\n",
      "    ('put down', 'thing2')\n",
      "    ('move to', 'workshop')\n",
      "    ('move to', 'warehouse')\n",
      "    ('move to', 'room1')\n",
      "    ('pick up', 'thing1')\n",
      "    ('move to', 'warehouse')\n",
      "    ('move to', 'workshop')\n",
      "    ('move to', 'store room')\n",
      "    ('put down', 'thing1')\n",
      "    ('move to', 'workshop')\n",
      "    ('move to', 'warehouse')\n",
      "    ('pick up', 'key4')\n",
      "    ('move to', 'workshop')\n",
      "    ('move to', 'store room')\n",
      "    ('move to', 'room3')\n",
      "    ('move to', 'room2')\n",
      "    ('pick up', 'thing3')\n",
      "    ('move to', 'tool cupboard')\n",
      "    ('put down', 'thing3')\n",
      "    ('pick up', 'saw')\n",
      "    ('move to', 'room2')\n",
      "    ('move to', 'room3')\n",
      "    ('put down', 'saw')\n",
      "    ('move to', 'room2')\n",
      "    ('move to', 'tool cupboard')\n",
      "    ('pick up', 'anvil')\n",
      "    ('move to', 'room2')\n",
      "    ('move to', 'room3')\n",
      "    ('move to', 'store room')\n",
      "    ('move to', 'workshop')\n",
      "    ('move to', 'warehouse')\n",
      "    ('move to', 'room1')\n",
      "    ('put down', 'anvil')\n",
      "\n",
      "\n",
      "SEARCH SPACE STATS:\n",
      "Total nodes generated          =    20914  (includes start)\n",
      "Nodes discarded by loop_check  =    10303  (10611 distinct states added to queue)\n",
      "Nodes tested (by goal_test)    =     4490  (4489 expanded + 1 goal)\n",
      "Nodes left in queue            =     6121\n",
      "\n",
      "Time taken = 6.5715 seconds\n",
      "\n"
     ]
    },
    {
     "data": {
      "text/plain": [
       "'GOAL_STATE_FOUND'"
      ]
     },
     "execution_count": 16,
     "metadata": {},
     "output_type": "execute_result"
    }
   ],
   "source": [
    "search( RW_PROBLEM_3, 'BF/FIFO', 10000000, loop_check=True, heuristic=misplace)"
   ]
  },
  {
   "cell_type": "code",
   "execution_count": 54,
   "metadata": {},
   "outputs": [
    {
     "name": "stdout",
     "output_type": "stream",
     "text": [
      "This is the general SearchProblem parent class\n",
      "You must extend this class to encode a particular search problem.\n",
      "\n",
      "** Running Brandon's Search Algorithm **\n",
      "Strategy: mode=BF/FIFO, cost=None, heuristic=misplace\n",
      "Max search nodes: 10000000  (max number added to queue)\n",
      "Searching (will output '.' each 1000 goal_tests)\n",
      ".................................................................................................... (100000)\n",
      "........................................................"
     ]
    },
    {
     "ename": "KeyboardInterrupt",
     "evalue": "",
     "output_type": "error",
     "traceback": [
      "\u001b[1;31m---------------------------------------------------------------------------\u001b[0m",
      "\u001b[1;31mKeyboardInterrupt\u001b[0m                         Traceback (most recent call last)",
      "Cell \u001b[1;32mIn[54], line 1\u001b[0m\n\u001b[1;32m----> 1\u001b[0m search( RW_PROBLEM_3, \u001b[38;5;124m'\u001b[39m\u001b[38;5;124mBF/FIFO\u001b[39m\u001b[38;5;124m'\u001b[39m, \u001b[38;5;241m10000000\u001b[39m, loop_check\u001b[38;5;241m=\u001b[39m\u001b[38;5;28;01mFalse\u001b[39;00m, heuristic\u001b[38;5;241m=\u001b[39mmisplace)\n",
      "File \u001b[1;32m~\\AICW1\\bbSearchRaw.py:419\u001b[0m, in \u001b[0;36msearch\u001b[1;34m(problem, mode, max_nodes, loop_check, randomise, cost, heuristic, show_path, show_state_path, dots, return_info)\u001b[0m\n\u001b[0;32m    416\u001b[0m     random\u001b[38;5;241m.\u001b[39mshuffle(actions)\n\u001b[0;32m    418\u001b[0m \u001b[38;5;28;01mfor\u001b[39;00m i, a \u001b[38;5;129;01min\u001b[39;00m \u001b[38;5;28menumerate\u001b[39m(actions):\n\u001b[1;32m--> 419\u001b[0m     suc \u001b[38;5;241m=\u001b[39m problem\u001b[38;5;241m.\u001b[39msuccessor(state,a)\n\u001b[0;32m    420\u001b[0m     nodes_generated \u001b[38;5;241m+\u001b[39m\u001b[38;5;241m=\u001b[39m \u001b[38;5;241m1\u001b[39m\n\u001b[0;32m    421\u001b[0m     \u001b[38;5;28;01mif\u001b[39;00m loop_check:\n",
      "Cell \u001b[1;32mIn[4], line 44\u001b[0m, in \u001b[0;36mRobotWorker.successor\u001b[1;34m(self, state, action)\u001b[0m\n\u001b[0;32m     43\u001b[0m \u001b[38;5;28;01mdef\u001b[39;00m \u001b[38;5;21msuccessor\u001b[39m( \u001b[38;5;28mself\u001b[39m, state, action):\n\u001b[1;32m---> 44\u001b[0m     next_state \u001b[38;5;241m=\u001b[39m deepcopy(state)\n\u001b[0;32m     45\u001b[0m     act, target \u001b[38;5;241m=\u001b[39m action\n\u001b[0;32m     46\u001b[0m     \u001b[38;5;28;01mif\u001b[39;00m act\u001b[38;5;241m==\u001b[39m \u001b[38;5;124m\"\u001b[39m\u001b[38;5;124mput down\u001b[39m\u001b[38;5;124m\"\u001b[39m:\n",
      "File \u001b[1;32mD:\\anaconda3\\Lib\\copy.py:172\u001b[0m, in \u001b[0;36mdeepcopy\u001b[1;34m(x, memo, _nil)\u001b[0m\n\u001b[0;32m    170\u001b[0m                 y \u001b[38;5;241m=\u001b[39m x\n\u001b[0;32m    171\u001b[0m             \u001b[38;5;28;01melse\u001b[39;00m:\n\u001b[1;32m--> 172\u001b[0m                 y \u001b[38;5;241m=\u001b[39m _reconstruct(x, memo, \u001b[38;5;241m*\u001b[39mrv)\n\u001b[0;32m    174\u001b[0m \u001b[38;5;66;03m# If is its own copy, don't memoize.\u001b[39;00m\n\u001b[0;32m    175\u001b[0m \u001b[38;5;28;01mif\u001b[39;00m y \u001b[38;5;129;01mis\u001b[39;00m \u001b[38;5;129;01mnot\u001b[39;00m x:\n",
      "File \u001b[1;32mD:\\anaconda3\\Lib\\copy.py:271\u001b[0m, in \u001b[0;36m_reconstruct\u001b[1;34m(x, memo, func, args, state, listiter, dictiter, deepcopy)\u001b[0m\n\u001b[0;32m    269\u001b[0m \u001b[38;5;28;01mif\u001b[39;00m state \u001b[38;5;129;01mis\u001b[39;00m \u001b[38;5;129;01mnot\u001b[39;00m \u001b[38;5;28;01mNone\u001b[39;00m:\n\u001b[0;32m    270\u001b[0m     \u001b[38;5;28;01mif\u001b[39;00m deep:\n\u001b[1;32m--> 271\u001b[0m         state \u001b[38;5;241m=\u001b[39m deepcopy(state, memo)\n\u001b[0;32m    272\u001b[0m     \u001b[38;5;28;01mif\u001b[39;00m \u001b[38;5;28mhasattr\u001b[39m(y, \u001b[38;5;124m'\u001b[39m\u001b[38;5;124m__setstate__\u001b[39m\u001b[38;5;124m'\u001b[39m):\n\u001b[0;32m    273\u001b[0m         y\u001b[38;5;241m.\u001b[39m__setstate__(state)\n",
      "File \u001b[1;32mD:\\anaconda3\\Lib\\copy.py:146\u001b[0m, in \u001b[0;36mdeepcopy\u001b[1;34m(x, memo, _nil)\u001b[0m\n\u001b[0;32m    144\u001b[0m copier \u001b[38;5;241m=\u001b[39m _deepcopy_dispatch\u001b[38;5;241m.\u001b[39mget(\u001b[38;5;28mcls\u001b[39m)\n\u001b[0;32m    145\u001b[0m \u001b[38;5;28;01mif\u001b[39;00m copier \u001b[38;5;129;01mis\u001b[39;00m \u001b[38;5;129;01mnot\u001b[39;00m \u001b[38;5;28;01mNone\u001b[39;00m:\n\u001b[1;32m--> 146\u001b[0m     y \u001b[38;5;241m=\u001b[39m copier(x, memo)\n\u001b[0;32m    147\u001b[0m \u001b[38;5;28;01melse\u001b[39;00m:\n\u001b[0;32m    148\u001b[0m     \u001b[38;5;28;01mif\u001b[39;00m \u001b[38;5;28missubclass\u001b[39m(\u001b[38;5;28mcls\u001b[39m, \u001b[38;5;28mtype\u001b[39m):\n",
      "File \u001b[1;32mD:\\anaconda3\\Lib\\copy.py:231\u001b[0m, in \u001b[0;36m_deepcopy_dict\u001b[1;34m(x, memo, deepcopy)\u001b[0m\n\u001b[0;32m    229\u001b[0m memo[\u001b[38;5;28mid\u001b[39m(x)] \u001b[38;5;241m=\u001b[39m y\n\u001b[0;32m    230\u001b[0m \u001b[38;5;28;01mfor\u001b[39;00m key, value \u001b[38;5;129;01min\u001b[39;00m x\u001b[38;5;241m.\u001b[39mitems():\n\u001b[1;32m--> 231\u001b[0m     y[deepcopy(key, memo)] \u001b[38;5;241m=\u001b[39m deepcopy(value, memo)\n\u001b[0;32m    232\u001b[0m \u001b[38;5;28;01mreturn\u001b[39;00m y\n",
      "File \u001b[1;32mD:\\anaconda3\\Lib\\copy.py:146\u001b[0m, in \u001b[0;36mdeepcopy\u001b[1;34m(x, memo, _nil)\u001b[0m\n\u001b[0;32m    144\u001b[0m copier \u001b[38;5;241m=\u001b[39m _deepcopy_dispatch\u001b[38;5;241m.\u001b[39mget(\u001b[38;5;28mcls\u001b[39m)\n\u001b[0;32m    145\u001b[0m \u001b[38;5;28;01mif\u001b[39;00m copier \u001b[38;5;129;01mis\u001b[39;00m \u001b[38;5;129;01mnot\u001b[39;00m \u001b[38;5;28;01mNone\u001b[39;00m:\n\u001b[1;32m--> 146\u001b[0m     y \u001b[38;5;241m=\u001b[39m copier(x, memo)\n\u001b[0;32m    147\u001b[0m \u001b[38;5;28;01melse\u001b[39;00m:\n\u001b[0;32m    148\u001b[0m     \u001b[38;5;28;01mif\u001b[39;00m \u001b[38;5;28missubclass\u001b[39m(\u001b[38;5;28mcls\u001b[39m, \u001b[38;5;28mtype\u001b[39m):\n",
      "File \u001b[1;32mD:\\anaconda3\\Lib\\copy.py:206\u001b[0m, in \u001b[0;36m_deepcopy_list\u001b[1;34m(x, memo, deepcopy)\u001b[0m\n\u001b[0;32m    204\u001b[0m append \u001b[38;5;241m=\u001b[39m y\u001b[38;5;241m.\u001b[39mappend\n\u001b[0;32m    205\u001b[0m \u001b[38;5;28;01mfor\u001b[39;00m a \u001b[38;5;129;01min\u001b[39;00m x:\n\u001b[1;32m--> 206\u001b[0m     append(deepcopy(a, memo))\n\u001b[0;32m    207\u001b[0m \u001b[38;5;28;01mreturn\u001b[39;00m y\n",
      "File \u001b[1;32mD:\\anaconda3\\Lib\\copy.py:172\u001b[0m, in \u001b[0;36mdeepcopy\u001b[1;34m(x, memo, _nil)\u001b[0m\n\u001b[0;32m    170\u001b[0m                 y \u001b[38;5;241m=\u001b[39m x\n\u001b[0;32m    171\u001b[0m             \u001b[38;5;28;01melse\u001b[39;00m:\n\u001b[1;32m--> 172\u001b[0m                 y \u001b[38;5;241m=\u001b[39m _reconstruct(x, memo, \u001b[38;5;241m*\u001b[39mrv)\n\u001b[0;32m    174\u001b[0m \u001b[38;5;66;03m# If is its own copy, don't memoize.\u001b[39;00m\n\u001b[0;32m    175\u001b[0m \u001b[38;5;28;01mif\u001b[39;00m y \u001b[38;5;129;01mis\u001b[39;00m \u001b[38;5;129;01mnot\u001b[39;00m x:\n",
      "File \u001b[1;32mD:\\anaconda3\\Lib\\copy.py:271\u001b[0m, in \u001b[0;36m_reconstruct\u001b[1;34m(x, memo, func, args, state, listiter, dictiter, deepcopy)\u001b[0m\n\u001b[0;32m    269\u001b[0m \u001b[38;5;28;01mif\u001b[39;00m state \u001b[38;5;129;01mis\u001b[39;00m \u001b[38;5;129;01mnot\u001b[39;00m \u001b[38;5;28;01mNone\u001b[39;00m:\n\u001b[0;32m    270\u001b[0m     \u001b[38;5;28;01mif\u001b[39;00m deep:\n\u001b[1;32m--> 271\u001b[0m         state \u001b[38;5;241m=\u001b[39m deepcopy(state, memo)\n\u001b[0;32m    272\u001b[0m     \u001b[38;5;28;01mif\u001b[39;00m \u001b[38;5;28mhasattr\u001b[39m(y, \u001b[38;5;124m'\u001b[39m\u001b[38;5;124m__setstate__\u001b[39m\u001b[38;5;124m'\u001b[39m):\n\u001b[0;32m    273\u001b[0m         y\u001b[38;5;241m.\u001b[39m__setstate__(state)\n",
      "File \u001b[1;32mD:\\anaconda3\\Lib\\copy.py:146\u001b[0m, in \u001b[0;36mdeepcopy\u001b[1;34m(x, memo, _nil)\u001b[0m\n\u001b[0;32m    144\u001b[0m copier \u001b[38;5;241m=\u001b[39m _deepcopy_dispatch\u001b[38;5;241m.\u001b[39mget(\u001b[38;5;28mcls\u001b[39m)\n\u001b[0;32m    145\u001b[0m \u001b[38;5;28;01mif\u001b[39;00m copier \u001b[38;5;129;01mis\u001b[39;00m \u001b[38;5;129;01mnot\u001b[39;00m \u001b[38;5;28;01mNone\u001b[39;00m:\n\u001b[1;32m--> 146\u001b[0m     y \u001b[38;5;241m=\u001b[39m copier(x, memo)\n\u001b[0;32m    147\u001b[0m \u001b[38;5;28;01melse\u001b[39;00m:\n\u001b[0;32m    148\u001b[0m     \u001b[38;5;28;01mif\u001b[39;00m \u001b[38;5;28missubclass\u001b[39m(\u001b[38;5;28mcls\u001b[39m, \u001b[38;5;28mtype\u001b[39m):\n",
      "File \u001b[1;32mD:\\anaconda3\\Lib\\copy.py:231\u001b[0m, in \u001b[0;36m_deepcopy_dict\u001b[1;34m(x, memo, deepcopy)\u001b[0m\n\u001b[0;32m    229\u001b[0m memo[\u001b[38;5;28mid\u001b[39m(x)] \u001b[38;5;241m=\u001b[39m y\n\u001b[0;32m    230\u001b[0m \u001b[38;5;28;01mfor\u001b[39;00m key, value \u001b[38;5;129;01min\u001b[39;00m x\u001b[38;5;241m.\u001b[39mitems():\n\u001b[1;32m--> 231\u001b[0m     y[deepcopy(key, memo)] \u001b[38;5;241m=\u001b[39m deepcopy(value, memo)\n\u001b[0;32m    232\u001b[0m \u001b[38;5;28;01mreturn\u001b[39;00m y\n",
      "File \u001b[1;32mD:\\anaconda3\\Lib\\copy.py:172\u001b[0m, in \u001b[0;36mdeepcopy\u001b[1;34m(x, memo, _nil)\u001b[0m\n\u001b[0;32m    170\u001b[0m                 y \u001b[38;5;241m=\u001b[39m x\n\u001b[0;32m    171\u001b[0m             \u001b[38;5;28;01melse\u001b[39;00m:\n\u001b[1;32m--> 172\u001b[0m                 y \u001b[38;5;241m=\u001b[39m _reconstruct(x, memo, \u001b[38;5;241m*\u001b[39mrv)\n\u001b[0;32m    174\u001b[0m \u001b[38;5;66;03m# If is its own copy, don't memoize.\u001b[39;00m\n\u001b[0;32m    175\u001b[0m \u001b[38;5;28;01mif\u001b[39;00m y \u001b[38;5;129;01mis\u001b[39;00m \u001b[38;5;129;01mnot\u001b[39;00m x:\n",
      "File \u001b[1;32mD:\\anaconda3\\Lib\\copy.py:265\u001b[0m, in \u001b[0;36m_reconstruct\u001b[1;34m(x, memo, func, args, state, listiter, dictiter, deepcopy)\u001b[0m\n\u001b[0;32m    263\u001b[0m \u001b[38;5;28;01mif\u001b[39;00m deep \u001b[38;5;129;01mand\u001b[39;00m args:\n\u001b[0;32m    264\u001b[0m     args \u001b[38;5;241m=\u001b[39m (deepcopy(arg, memo) \u001b[38;5;28;01mfor\u001b[39;00m arg \u001b[38;5;129;01min\u001b[39;00m args)\n\u001b[1;32m--> 265\u001b[0m y \u001b[38;5;241m=\u001b[39m func(\u001b[38;5;241m*\u001b[39margs)\n\u001b[0;32m    266\u001b[0m \u001b[38;5;28;01mif\u001b[39;00m deep:\n\u001b[0;32m    267\u001b[0m     memo[\u001b[38;5;28mid\u001b[39m(x)] \u001b[38;5;241m=\u001b[39m y\n",
      "File \u001b[1;32mD:\\anaconda3\\Lib\\copy.py:264\u001b[0m, in \u001b[0;36m<genexpr>\u001b[1;34m(.0)\u001b[0m\n\u001b[0;32m    262\u001b[0m deep \u001b[38;5;241m=\u001b[39m memo \u001b[38;5;129;01mis\u001b[39;00m \u001b[38;5;129;01mnot\u001b[39;00m \u001b[38;5;28;01mNone\u001b[39;00m\n\u001b[0;32m    263\u001b[0m \u001b[38;5;28;01mif\u001b[39;00m deep \u001b[38;5;129;01mand\u001b[39;00m args:\n\u001b[1;32m--> 264\u001b[0m     args \u001b[38;5;241m=\u001b[39m (deepcopy(arg, memo) \u001b[38;5;28;01mfor\u001b[39;00m arg \u001b[38;5;129;01min\u001b[39;00m args)\n\u001b[0;32m    265\u001b[0m y \u001b[38;5;241m=\u001b[39m func(\u001b[38;5;241m*\u001b[39margs)\n\u001b[0;32m    266\u001b[0m \u001b[38;5;28;01mif\u001b[39;00m deep:\n",
      "File \u001b[1;32mD:\\anaconda3\\Lib\\copy.py:128\u001b[0m, in \u001b[0;36mdeepcopy\u001b[1;34m(x, memo, _nil)\u001b[0m\n\u001b[0;32m    124\u001b[0m     d[PyStringMap] \u001b[38;5;241m=\u001b[39m PyStringMap\u001b[38;5;241m.\u001b[39mcopy\n\u001b[0;32m    126\u001b[0m \u001b[38;5;28;01mdel\u001b[39;00m d, t\n\u001b[1;32m--> 128\u001b[0m \u001b[38;5;28;01mdef\u001b[39;00m \u001b[38;5;21mdeepcopy\u001b[39m(x, memo\u001b[38;5;241m=\u001b[39m\u001b[38;5;28;01mNone\u001b[39;00m, _nil\u001b[38;5;241m=\u001b[39m[]):\n\u001b[0;32m    129\u001b[0m \u001b[38;5;250m    \u001b[39m\u001b[38;5;124;03m\"\"\"Deep copy operation on arbitrary Python objects.\u001b[39;00m\n\u001b[0;32m    130\u001b[0m \n\u001b[0;32m    131\u001b[0m \u001b[38;5;124;03m    See the module's __doc__ string for more info.\u001b[39;00m\n\u001b[0;32m    132\u001b[0m \u001b[38;5;124;03m    \"\"\"\u001b[39;00m\n\u001b[0;32m    134\u001b[0m     \u001b[38;5;28;01mif\u001b[39;00m memo \u001b[38;5;129;01mis\u001b[39;00m \u001b[38;5;28;01mNone\u001b[39;00m:\n",
      "\u001b[1;31mKeyboardInterrupt\u001b[0m: "
     ]
    }
   ],
   "source": [
    "search( RW_PROBLEM_3, 'BF/FIFO', 10000000, loop_check=False, heuristic=misplace)"
   ]
  },
  {
   "cell_type": "code",
   "execution_count": 17,
   "metadata": {},
   "outputs": [
    {
     "name": "stdout",
     "output_type": "stream",
     "text": [
      "This is the general SearchProblem parent class\n",
      "You must extend this class to encode a particular search problem.\n",
      "\n",
      "** Running Brandon's Search Algorithm **\n",
      "Strategy: mode=BF/FIFO, cost=thecost, heuristic=misplace\n",
      "Max search nodes: 1000000  (max number added to queue)\n",
      "Searching (will output '.' each 1000 goal_tests)\n",
      "..............................................................................\n",
      ":-)) *SUCCESS* ((-:\n",
      "\n",
      "Path length = 41\n",
      "Goal state is:\n",
      "Robot location: store room\n",
      "Robot carrying: ['key1', 'key2', 'key4']\n",
      "Room contents: {'workshop': set(), 'store room': {'box', 'thing2', 'thing1'}, 'tool cupboard': {'thing3'}, 'warehouse': {'crate', 'container', 'bucket', 'suitcase'}, 'room1': {'anvil'}, 'room2': set(), 'room3': {'saw'}}\n",
      "Cost of reaching goal: 41\n",
      "The action path to the solution is:\n",
      "    ('pick up', 'suitcase')\n",
      "    ('pick up', 'bucket')\n",
      "    ('move to', 'workshop')\n",
      "    ('pick up', 'key1')\n",
      "    ('move to', 'store room')\n",
      "    ('move to', 'room3')\n",
      "    ('pick up', 'key2')\n",
      "    ('move to', 'store room')\n",
      "    ('move to', 'workshop')\n",
      "    ('move to', 'warehouse')\n",
      "    ('put down', 'bucket')\n",
      "    ('pick up', 'key4')\n",
      "    ('pick up', 'box')\n",
      "    ('put down', 'suitcase')\n",
      "    ('move to', 'room1')\n",
      "    ('pick up', 'thing2')\n",
      "    ('move to', 'warehouse')\n",
      "    ('move to', 'workshop')\n",
      "    ('move to', 'store room')\n",
      "    ('put down', 'box')\n",
      "    ('put down', 'thing2')\n",
      "    ('move to', 'room3')\n",
      "    ('move to', 'room2')\n",
      "    ('pick up', 'thing3')\n",
      "    ('move to', 'tool cupboard')\n",
      "    ('put down', 'thing3')\n",
      "    ('pick up', 'anvil')\n",
      "    ('pick up', 'saw')\n",
      "    ('move to', 'room2')\n",
      "    ('move to', 'room3')\n",
      "    ('put down', 'saw')\n",
      "    ('move to', 'store room')\n",
      "    ('move to', 'workshop')\n",
      "    ('move to', 'warehouse')\n",
      "    ('move to', 'room1')\n",
      "    ('put down', 'anvil')\n",
      "    ('pick up', 'thing1')\n",
      "    ('move to', 'warehouse')\n",
      "    ('move to', 'workshop')\n",
      "    ('move to', 'store room')\n",
      "    ('put down', 'thing1')\n",
      "\n",
      "\n",
      "SEARCH SPACE STATS:\n",
      "Total nodes generated          =   407851  (includes start)\n",
      "Nodes discarded by loop_check  =   215543  (192308 distinct states added to queue)\n",
      "Nodes tested (by goal_test)    =    78849  (78848 expanded + 1 goal)\n",
      "Nodes left in queue            =   113459\n",
      "\n",
      "Time taken = 89.9099 seconds\n",
      "\n"
     ]
    },
    {
     "data": {
      "text/plain": [
       "'GOAL_STATE_FOUND'"
      ]
     },
     "execution_count": 17,
     "metadata": {},
     "output_type": "execute_result"
    }
   ],
   "source": [
    "search( RW_PROBLEM_3, 'BF/FIFO', 1000000, loop_check=True, heuristic=misplace, cost=thecost)"
   ]
  },
  {
   "cell_type": "code",
   "execution_count": 55,
   "metadata": {},
   "outputs": [
    {
     "name": "stdout",
     "output_type": "stream",
     "text": [
      "This is the general SearchProblem parent class\n",
      "You must extend this class to encode a particular search problem.\n",
      "\n",
      "** Running Brandon's Search Algorithm **\n",
      "Strategy: mode=BF/FIFO, cost=thecost, heuristic=misplace\n",
      "Max search nodes: 1000000  (max number added to queue)\n",
      "Searching (will output '.' each 1000 goal_tests)\n",
      ".................................................................................................... (100000)\n",
      "...................."
     ]
    },
    {
     "ename": "KeyboardInterrupt",
     "evalue": "",
     "output_type": "error",
     "traceback": [
      "\u001b[1;31m---------------------------------------------------------------------------\u001b[0m",
      "\u001b[1;31mKeyboardInterrupt\u001b[0m                         Traceback (most recent call last)",
      "Cell \u001b[1;32mIn[55], line 1\u001b[0m\n\u001b[1;32m----> 1\u001b[0m search( RW_PROBLEM_3, \u001b[38;5;124m'\u001b[39m\u001b[38;5;124mBF/FIFO\u001b[39m\u001b[38;5;124m'\u001b[39m, \u001b[38;5;241m1000000\u001b[39m, loop_check\u001b[38;5;241m=\u001b[39m\u001b[38;5;28;01mFalse\u001b[39;00m, heuristic\u001b[38;5;241m=\u001b[39mmisplace, cost\u001b[38;5;241m=\u001b[39mthecost)\n",
      "File \u001b[1;32m~\\AICW1\\bbSearchRaw.py:435\u001b[0m, in \u001b[0;36msearch\u001b[1;34m(problem, mode, max_nodes, loop_check, randomise, cost, heuristic, show_path, show_state_path, dots, return_info)\u001b[0m\n\u001b[0;32m    433\u001b[0m         weight\u001b[38;5;241m=\u001b[39mweight_function(extended_path,suc)\n\u001b[0;32m    434\u001b[0m         \u001b[38;5;66;03m#print(\"weight=\", weight)\u001b[39;00m\n\u001b[1;32m--> 435\u001b[0m         queue\u001b[38;5;241m.\u001b[39minsert((extended_path,suc), \n\u001b[0;32m    436\u001b[0m                      weight\u001b[38;5;241m=\u001b[39mweight)\n\u001b[0;32m    438\u001b[0m \u001b[38;5;28;01mif\u001b[39;00m termination_condition \u001b[38;5;241m==\u001b[39m \u001b[38;5;124m\"\u001b[39m\u001b[38;5;124mGOAL_STATE_FOUND\u001b[39m\u001b[38;5;124m\"\u001b[39m:\n\u001b[0;32m    439\u001b[0m     \u001b[38;5;28mprint\u001b[39m( \u001b[38;5;124m\"\u001b[39m\u001b[38;5;130;01m\\n\u001b[39;00m\u001b[38;5;124m:-)) *SUCCESS* ((-:\u001b[39m\u001b[38;5;130;01m\\n\u001b[39;00m\u001b[38;5;124m\"\u001b[39m )\n",
      "File \u001b[1;32m~\\AICW1\\bbSearchRaw.py:325\u001b[0m, in \u001b[0;36mSearchQueue.insert\u001b[1;34m(self, item, weight)\u001b[0m\n\u001b[0;32m    321\u001b[0m     \u001b[38;5;28;01mdef\u001b[39;00m \u001b[38;5;21minsert\u001b[39m(\u001b[38;5;28mself\u001b[39m,item, weight\u001b[38;5;241m=\u001b[39m\u001b[38;5;28;01mNone\u001b[39;00m):\n\u001b[0;32m    322\u001b[0m \u001b[38;5;66;03m#         print(\"Insert in SearchQueue\")\u001b[39;00m\n\u001b[0;32m    323\u001b[0m \u001b[38;5;66;03m#         print(\"item=\", item)\u001b[39;00m\n\u001b[0;32m    324\u001b[0m \u001b[38;5;66;03m#         print(\"weight=\", weight)\u001b[39;00m\n\u001b[1;32m--> 325\u001b[0m         \u001b[38;5;28mself\u001b[39m\u001b[38;5;241m.\u001b[39mwq\u001b[38;5;241m.\u001b[39minsert(item, weight\u001b[38;5;241m=\u001b[39mweight)\n",
      "File \u001b[1;32m~\\AICW1\\bbSearchRaw.py:263\u001b[0m, in \u001b[0;36mWeightedQueue.insert_right\u001b[1;34m(self, item, weight)\u001b[0m\n\u001b[0;32m    261\u001b[0m     weight \u001b[38;5;241m=\u001b[39m \u001b[38;5;28mself\u001b[39m\u001b[38;5;241m.\u001b[39mweightfunc(item)\n\u001b[0;32m    262\u001b[0m ipoint \u001b[38;5;241m=\u001b[39m bisect\u001b[38;5;241m.\u001b[39mbisect_right(\u001b[38;5;28mself\u001b[39m\u001b[38;5;241m.\u001b[39mweights, weight)\n\u001b[1;32m--> 263\u001b[0m bisect\u001b[38;5;241m.\u001b[39minsort_right(\u001b[38;5;28mself\u001b[39m\u001b[38;5;241m.\u001b[39mweights, weight)\n\u001b[0;32m    264\u001b[0m \u001b[38;5;28mself\u001b[39m\u001b[38;5;241m.\u001b[39mitems\u001b[38;5;241m.\u001b[39minsert(ipoint,item)\n",
      "\u001b[1;31mKeyboardInterrupt\u001b[0m: "
     ]
    }
   ],
   "source": [
    "search( RW_PROBLEM_3, 'BF/FIFO', 1000000, loop_check=False, heuristic=misplace, cost=thecost)"
   ]
  },
  {
   "cell_type": "code",
   "execution_count": 37,
   "metadata": {},
   "outputs": [],
   "source": [
    "def carry_item (state, goal_position):\n",
    "    total_distance = 0\n",
    "    robot_location = state.robot.location\n",
    "    carried_items = state.robot.carried_items\n",
    "\n",
    "    for room, contents in goal_position.items():\n",
    "        for item in contents:\n",
    "            if item not in carried_items and item not in state.room_contents[room] :\n",
    "                total_distance += 1\n",
    "            # If the target item is on the robot and the robot is not in the target room, \n",
    "            # the robot may need to go back and put the item\n",
    "            elif item in carried_items:\n",
    "                if robot_location != room:\n",
    "                    total_distance += 1 \n",
    "    return total_distance*4"
   ]
  },
  {
   "cell_type": "code",
   "execution_count": 38,
   "metadata": {},
   "outputs": [
    {
     "name": "stdout",
     "output_type": "stream",
     "text": [
      "This is the general SearchProblem parent class\n",
      "You must extend this class to encode a particular search problem.\n",
      "\n",
      "** Running Brandon's Search Algorithm **\n",
      "Strategy: mode=BF/FIFO, cost=None, heuristic=carry_item\n",
      "Max search nodes: 10000000  (max number added to queue)\n",
      "Searching (will output '.' each 1000 goal_tests)\n",
      "\n",
      ":-)) *SUCCESS* ((-:\n",
      "\n",
      "Path length = 12\n",
      "Goal state is:\n",
      "Robot location: store room\n",
      "Robot carrying: []\n",
      "Room contents: {'workshop': {'key'}, 'store room': {'suitcase', 'bucket', 'screwdriver', 'anvil', 'hammer'}, 'tool cupboard': {'saw'}}\n",
      "The action path to the solution is:\n",
      "    ('move to', 'tool cupboard')\n",
      "    ('pick up', 'hammer')\n",
      "    ('move to', 'store room')\n",
      "    ('put down', 'hammer')\n",
      "    ('move to', 'tool cupboard')\n",
      "    ('pick up', 'anvil')\n",
      "    ('move to', 'store room')\n",
      "    ('put down', 'anvil')\n",
      "    ('move to', 'tool cupboard')\n",
      "    ('pick up', 'screwdriver')\n",
      "    ('move to', 'store room')\n",
      "    ('put down', 'screwdriver')\n",
      "\n",
      "\n",
      "SEARCH SPACE STATS:\n",
      "Total nodes generated          =       53  (includes start)\n",
      "Nodes discarded by loop_check  =       18  (35 distinct states added to queue)\n",
      "Nodes tested (by goal_test)    =       20  (19 expanded + 1 goal)\n",
      "Nodes left in queue            =       15\n",
      "\n",
      "Time taken = 0.005 seconds\n",
      "\n"
     ]
    },
    {
     "data": {
      "text/plain": [
       "'GOAL_STATE_FOUND'"
      ]
     },
     "execution_count": 38,
     "metadata": {},
     "output_type": "execute_result"
    }
   ],
   "source": [
    "search( RW_PROBLEM_1, 'BF/FIFO', 10000000, loop_check=True, heuristic=carry_item)"
   ]
  },
  {
   "cell_type": "code",
   "execution_count": 39,
   "metadata": {},
   "outputs": [
    {
     "name": "stdout",
     "output_type": "stream",
     "text": [
      "This is the general SearchProblem parent class\n",
      "You must extend this class to encode a particular search problem.\n",
      "\n",
      "** Running Brandon's Search Algorithm **\n",
      "Strategy: mode=BF/FIFO, cost=None, heuristic=carry_item\n",
      "Max search nodes: 10000000  (max number added to queue)\n",
      "Searching (will output '.' each 1000 goal_tests)\n",
      "\n",
      ":-)) *SUCCESS* ((-:\n",
      "\n",
      "Path length = 12\n",
      "Goal state is:\n",
      "Robot location: store room\n",
      "Robot carrying: []\n",
      "Room contents: {'workshop': {'key'}, 'store room': {'suitcase', 'bucket', 'screwdriver', 'anvil', 'hammer'}, 'tool cupboard': {'saw'}}\n",
      "The action path to the solution is:\n",
      "    ('move to', 'tool cupboard')\n",
      "    ('pick up', 'hammer')\n",
      "    ('move to', 'store room')\n",
      "    ('put down', 'hammer')\n",
      "    ('move to', 'tool cupboard')\n",
      "    ('pick up', 'anvil')\n",
      "    ('move to', 'store room')\n",
      "    ('put down', 'anvil')\n",
      "    ('move to', 'tool cupboard')\n",
      "    ('pick up', 'screwdriver')\n",
      "    ('move to', 'store room')\n",
      "    ('put down', 'screwdriver')\n",
      "\n",
      "\n",
      "SEARCH SPACE STATS:\n",
      "Total nodes generated          =       79  (includes start)\n",
      "Nodes tested (by goal_test)    =       28  (27 expanded + 1 goal)\n",
      "Nodes left in queue            =       51\n",
      "\n",
      "Time taken = 0.0061 seconds\n",
      "\n"
     ]
    },
    {
     "data": {
      "text/plain": [
       "'GOAL_STATE_FOUND'"
      ]
     },
     "execution_count": 39,
     "metadata": {},
     "output_type": "execute_result"
    }
   ],
   "source": [
    "search( RW_PROBLEM_1, 'BF/FIFO', 10000000, loop_check=False, heuristic=carry_item)"
   ]
  },
  {
   "cell_type": "code",
   "execution_count": 40,
   "metadata": {},
   "outputs": [
    {
     "name": "stdout",
     "output_type": "stream",
     "text": [
      "This is the general SearchProblem parent class\n",
      "You must extend this class to encode a particular search problem.\n",
      "\n",
      "** Running Brandon's Search Algorithm **\n",
      "Strategy: mode=BF/FIFO, cost=thecost, heuristic=carry_item\n",
      "Max search nodes: 10000000  (max number added to queue)\n",
      "Searching (will output '.' each 1000 goal_tests)\n",
      "\n",
      ":-)) *SUCCESS* ((-:\n",
      "\n",
      "Path length = 12\n",
      "Goal state is:\n",
      "Robot location: store room\n",
      "Robot carrying: []\n",
      "Room contents: {'workshop': {'key'}, 'store room': {'suitcase', 'bucket', 'screwdriver', 'anvil', 'hammer'}, 'tool cupboard': {'saw'}}\n",
      "Cost of reaching goal: 12\n",
      "The action path to the solution is:\n",
      "    ('move to', 'tool cupboard')\n",
      "    ('pick up', 'hammer')\n",
      "    ('move to', 'store room')\n",
      "    ('put down', 'hammer')\n",
      "    ('move to', 'tool cupboard')\n",
      "    ('pick up', 'anvil')\n",
      "    ('move to', 'store room')\n",
      "    ('put down', 'anvil')\n",
      "    ('move to', 'tool cupboard')\n",
      "    ('pick up', 'screwdriver')\n",
      "    ('move to', 'store room')\n",
      "    ('put down', 'screwdriver')\n",
      "\n",
      "\n",
      "SEARCH SPACE STATS:\n",
      "Total nodes generated          =      139  (includes start)\n",
      "Nodes discarded by loop_check  =       57  (82 distinct states added to queue)\n",
      "Nodes tested (by goal_test)    =       49  (48 expanded + 1 goal)\n",
      "Nodes left in queue            =       33\n",
      "\n",
      "Time taken = 0.0128 seconds\n",
      "\n"
     ]
    },
    {
     "data": {
      "text/plain": [
       "'GOAL_STATE_FOUND'"
      ]
     },
     "execution_count": 40,
     "metadata": {},
     "output_type": "execute_result"
    }
   ],
   "source": [
    "search( RW_PROBLEM_1, 'BF/FIFO', 10000000, loop_check=True, heuristic=carry_item,cost=thecost)"
   ]
  },
  {
   "cell_type": "code",
   "execution_count": 41,
   "metadata": {},
   "outputs": [
    {
     "name": "stdout",
     "output_type": "stream",
     "text": [
      "This is the general SearchProblem parent class\n",
      "You must extend this class to encode a particular search problem.\n",
      "\n",
      "** Running Brandon's Search Algorithm **\n",
      "Strategy: mode=BF/FIFO, cost=thecost, heuristic=carry_item\n",
      "Max search nodes: 10000000  (max number added to queue)\n",
      "Searching (will output '.' each 1000 goal_tests)\n",
      "\n",
      ":-)) *SUCCESS* ((-:\n",
      "\n",
      "Path length = 12\n",
      "Goal state is:\n",
      "Robot location: store room\n",
      "Robot carrying: []\n",
      "Room contents: {'workshop': {'key'}, 'store room': {'suitcase', 'bucket', 'screwdriver', 'anvil', 'hammer'}, 'tool cupboard': {'saw'}}\n",
      "Cost of reaching goal: 12\n",
      "The action path to the solution is:\n",
      "    ('move to', 'tool cupboard')\n",
      "    ('pick up', 'hammer')\n",
      "    ('move to', 'store room')\n",
      "    ('put down', 'hammer')\n",
      "    ('move to', 'tool cupboard')\n",
      "    ('pick up', 'anvil')\n",
      "    ('move to', 'store room')\n",
      "    ('put down', 'anvil')\n",
      "    ('move to', 'tool cupboard')\n",
      "    ('pick up', 'screwdriver')\n",
      "    ('move to', 'store room')\n",
      "    ('put down', 'screwdriver')\n",
      "\n",
      "\n",
      "SEARCH SPACE STATS:\n",
      "Total nodes generated          =      299  (includes start)\n",
      "Nodes tested (by goal_test)    =       97  (96 expanded + 1 goal)\n",
      "Nodes left in queue            =      202\n",
      "\n",
      "Time taken = 0.0236 seconds\n",
      "\n"
     ]
    },
    {
     "data": {
      "text/plain": [
       "'GOAL_STATE_FOUND'"
      ]
     },
     "execution_count": 41,
     "metadata": {},
     "output_type": "execute_result"
    }
   ],
   "source": [
    "search( RW_PROBLEM_1, 'BF/FIFO', 10000000, loop_check=False, heuristic=carry_item, cost=thecost)"
   ]
  },
  {
   "cell_type": "code",
   "execution_count": 48,
   "metadata": {},
   "outputs": [
    {
     "name": "stdout",
     "output_type": "stream",
     "text": [
      "This is the general SearchProblem parent class\n",
      "You must extend this class to encode a particular search problem.\n",
      "\n",
      "** Running Brandon's Search Algorithm **\n",
      "Strategy: mode=BF/FIFO, cost=None, heuristic=carry_item\n",
      "Max search nodes: 10000000  (max number added to queue)\n",
      "Searching (will output '.' each 1000 goal_tests)\n",
      "\n",
      ":-)) *SUCCESS* ((-:\n",
      "\n",
      "Path length = 22\n",
      "Goal state is:\n",
      "Robot location: store room\n",
      "Robot carrying: ['key2', 'key1']\n",
      "Room contents: {'workshop': {'box'}, 'store room': {'hammer', 'suitcase', 'anvil', 'screwdriver'}, 'tool cupboard': {'saw'}, 'warehouse': {'crate', 'container', 'bucket'}}\n",
      "The action path to the solution is:\n",
      "    ('pick up', 'bucket')\n",
      "    ('pick up', 'key2')\n",
      "    ('move to', 'workshop')\n",
      "    ('move to', 'warehouse')\n",
      "    ('put down', 'bucket')\n",
      "    ('pick up', 'box')\n",
      "    ('move to', 'workshop')\n",
      "    ('put down', 'box')\n",
      "    ('pick up', 'key1')\n",
      "    ('move to', 'store room')\n",
      "    ('move to', 'tool cupboard')\n",
      "    ('pick up', 'hammer')\n",
      "    ('move to', 'store room')\n",
      "    ('put down', 'hammer')\n",
      "    ('move to', 'tool cupboard')\n",
      "    ('pick up', 'anvil')\n",
      "    ('move to', 'store room')\n",
      "    ('put down', 'anvil')\n",
      "    ('move to', 'tool cupboard')\n",
      "    ('pick up', 'screwdriver')\n",
      "    ('move to', 'store room')\n",
      "    ('put down', 'screwdriver')\n",
      "\n",
      "\n",
      "SEARCH SPACE STATS:\n",
      "Total nodes generated          =      553  (includes start)\n",
      "Nodes discarded by loop_check  =      197  (356 distinct states added to queue)\n",
      "Nodes tested (by goal_test)    =      124  (123 expanded + 1 goal)\n",
      "Nodes left in queue            =      232\n",
      "\n",
      "Time taken = 0.0684 seconds\n",
      "\n"
     ]
    },
    {
     "data": {
      "text/plain": [
       "'GOAL_STATE_FOUND'"
      ]
     },
     "execution_count": 48,
     "metadata": {},
     "output_type": "execute_result"
    }
   ],
   "source": [
    "search( RW_PROBLEM_2, 'BF/FIFO', 10000000, loop_check=True, heuristic=carry_item)"
   ]
  },
  {
   "cell_type": "code",
   "execution_count": 49,
   "metadata": {},
   "outputs": [
    {
     "name": "stdout",
     "output_type": "stream",
     "text": [
      "This is the general SearchProblem parent class\n",
      "You must extend this class to encode a particular search problem.\n",
      "\n",
      "** Running Brandon's Search Algorithm **\n",
      "Strategy: mode=BF/FIFO, cost=None, heuristic=carry_item\n",
      "Max search nodes: 10000000  (max number added to queue)\n",
      "Searching (will output '.' each 1000 goal_tests)\n",
      "\n",
      ":-)) *SUCCESS* ((-:\n",
      "\n",
      "Path length = 22\n",
      "Goal state is:\n",
      "Robot location: store room\n",
      "Robot carrying: ['key2', 'key1']\n",
      "Room contents: {'workshop': {'box'}, 'store room': {'hammer', 'suitcase', 'anvil', 'screwdriver'}, 'tool cupboard': {'saw'}, 'warehouse': {'crate', 'container', 'bucket'}}\n",
      "The action path to the solution is:\n",
      "    ('pick up', 'bucket')\n",
      "    ('pick up', 'key2')\n",
      "    ('move to', 'workshop')\n",
      "    ('move to', 'warehouse')\n",
      "    ('put down', 'bucket')\n",
      "    ('pick up', 'box')\n",
      "    ('move to', 'workshop')\n",
      "    ('put down', 'box')\n",
      "    ('pick up', 'key1')\n",
      "    ('move to', 'store room')\n",
      "    ('move to', 'tool cupboard')\n",
      "    ('pick up', 'hammer')\n",
      "    ('move to', 'store room')\n",
      "    ('put down', 'hammer')\n",
      "    ('move to', 'tool cupboard')\n",
      "    ('pick up', 'anvil')\n",
      "    ('move to', 'store room')\n",
      "    ('put down', 'anvil')\n",
      "    ('move to', 'tool cupboard')\n",
      "    ('pick up', 'screwdriver')\n",
      "    ('move to', 'store room')\n",
      "    ('put down', 'screwdriver')\n",
      "\n",
      "\n",
      "SEARCH SPACE STATS:\n",
      "Total nodes generated          =     2640  (includes start)\n",
      "Nodes tested (by goal_test)    =      613  (612 expanded + 1 goal)\n",
      "Nodes left in queue            =     2027\n",
      "\n",
      "Time taken = 0.2749 seconds\n",
      "\n"
     ]
    },
    {
     "data": {
      "text/plain": [
       "'GOAL_STATE_FOUND'"
      ]
     },
     "execution_count": 49,
     "metadata": {},
     "output_type": "execute_result"
    }
   ],
   "source": [
    "search( RW_PROBLEM_2, 'BF/FIFO', 10000000, loop_check=False, heuristic=carry_item)"
   ]
  },
  {
   "cell_type": "code",
   "execution_count": 50,
   "metadata": {},
   "outputs": [
    {
     "name": "stdout",
     "output_type": "stream",
     "text": [
      "This is the general SearchProblem parent class\n",
      "You must extend this class to encode a particular search problem.\n",
      "\n",
      "** Running Brandon's Search Algorithm **\n",
      "Strategy: mode=BF/FIFO, cost=thecost, heuristic=carry_item\n",
      "Max search nodes: 10000000  (max number added to queue)\n",
      "Searching (will output '.' each 1000 goal_tests)\n",
      "\n",
      ":-)) *SUCCESS* ((-:\n",
      "\n",
      "Path length = 22\n",
      "Goal state is:\n",
      "Robot location: store room\n",
      "Robot carrying: ['key2', 'key1']\n",
      "Room contents: {'workshop': {'box'}, 'store room': {'hammer', 'suitcase', 'anvil', 'screwdriver'}, 'tool cupboard': {'saw'}, 'warehouse': {'crate', 'container', 'bucket'}}\n",
      "Cost of reaching goal: 22\n",
      "The action path to the solution is:\n",
      "    ('pick up', 'bucket')\n",
      "    ('pick up', 'key2')\n",
      "    ('move to', 'workshop')\n",
      "    ('move to', 'warehouse')\n",
      "    ('put down', 'bucket')\n",
      "    ('pick up', 'box')\n",
      "    ('move to', 'workshop')\n",
      "    ('put down', 'box')\n",
      "    ('pick up', 'key1')\n",
      "    ('move to', 'store room')\n",
      "    ('move to', 'tool cupboard')\n",
      "    ('pick up', 'hammer')\n",
      "    ('move to', 'store room')\n",
      "    ('put down', 'hammer')\n",
      "    ('move to', 'tool cupboard')\n",
      "    ('pick up', 'anvil')\n",
      "    ('move to', 'store room')\n",
      "    ('put down', 'anvil')\n",
      "    ('move to', 'tool cupboard')\n",
      "    ('pick up', 'screwdriver')\n",
      "    ('move to', 'store room')\n",
      "    ('put down', 'screwdriver')\n",
      "\n",
      "\n",
      "SEARCH SPACE STATS:\n",
      "Total nodes generated          =     2635  (includes start)\n",
      "Nodes discarded by loop_check  =     1137  (1498 distinct states added to queue)\n",
      "Nodes tested (by goal_test)    =      550  (549 expanded + 1 goal)\n",
      "Nodes left in queue            =      948\n",
      "\n",
      "Time taken = 0.3176 seconds\n",
      "\n"
     ]
    },
    {
     "data": {
      "text/plain": [
       "'GOAL_STATE_FOUND'"
      ]
     },
     "execution_count": 50,
     "metadata": {},
     "output_type": "execute_result"
    }
   ],
   "source": [
    "search( RW_PROBLEM_2, 'BF/FIFO', 10000000, loop_check=True, heuristic=carry_item, cost=thecost)"
   ]
  },
  {
   "cell_type": "code",
   "execution_count": 51,
   "metadata": {},
   "outputs": [
    {
     "name": "stdout",
     "output_type": "stream",
     "text": [
      "This is the general SearchProblem parent class\n",
      "You must extend this class to encode a particular search problem.\n",
      "\n",
      "** Running Brandon's Search Algorithm **\n",
      "Strategy: mode=BF/FIFO, cost=thecost, heuristic=carry_item\n",
      "Max search nodes: 10000000  (max number added to queue)\n",
      "Searching (will output '.' each 1000 goal_tests)\n",
      ".................\n",
      ":-)) *SUCCESS* ((-:\n",
      "\n",
      "Path length = 22\n",
      "Goal state is:\n",
      "Robot location: store room\n",
      "Robot carrying: ['key2', 'key1']\n",
      "Room contents: {'workshop': {'box'}, 'store room': {'hammer', 'suitcase', 'anvil', 'screwdriver'}, 'tool cupboard': {'saw'}, 'warehouse': {'crate', 'container', 'bucket'}}\n",
      "Cost of reaching goal: 22\n",
      "The action path to the solution is:\n",
      "    ('pick up', 'bucket')\n",
      "    ('pick up', 'key2')\n",
      "    ('move to', 'workshop')\n",
      "    ('move to', 'warehouse')\n",
      "    ('put down', 'bucket')\n",
      "    ('pick up', 'box')\n",
      "    ('move to', 'workshop')\n",
      "    ('put down', 'box')\n",
      "    ('pick up', 'key1')\n",
      "    ('move to', 'store room')\n",
      "    ('move to', 'tool cupboard')\n",
      "    ('pick up', 'hammer')\n",
      "    ('move to', 'store room')\n",
      "    ('put down', 'hammer')\n",
      "    ('move to', 'tool cupboard')\n",
      "    ('pick up', 'anvil')\n",
      "    ('move to', 'store room')\n",
      "    ('put down', 'anvil')\n",
      "    ('move to', 'tool cupboard')\n",
      "    ('pick up', 'screwdriver')\n",
      "    ('move to', 'store room')\n",
      "    ('put down', 'screwdriver')\n",
      "\n",
      "\n",
      "SEARCH SPACE STATS:\n",
      "Total nodes generated          =    80671  (includes start)\n",
      "Nodes tested (by goal_test)    =    17364  (17363 expanded + 1 goal)\n",
      "Nodes left in queue            =    63307\n",
      "\n",
      "Time taken = 14.0053 seconds\n",
      "\n"
     ]
    },
    {
     "data": {
      "text/plain": [
       "'GOAL_STATE_FOUND'"
      ]
     },
     "execution_count": 51,
     "metadata": {},
     "output_type": "execute_result"
    }
   ],
   "source": [
    "search( RW_PROBLEM_2, 'BF/FIFO', 10000000, loop_check=False, heuristic=carry_item, cost=thecost)"
   ]
  },
  {
   "cell_type": "code",
   "execution_count": 56,
   "metadata": {},
   "outputs": [
    {
     "name": "stdout",
     "output_type": "stream",
     "text": [
      "This is the general SearchProblem parent class\n",
      "You must extend this class to encode a particular search problem.\n",
      "\n",
      "** Running Brandon's Search Algorithm **\n",
      "Strategy: mode=BF/FIFO, cost=None, heuristic=carry_item\n",
      "Max search nodes: 10000000  (max number added to queue)\n",
      "Searching (will output '.' each 1000 goal_tests)\n",
      ".......\n",
      ":-)) *SUCCESS* ((-:\n",
      "\n",
      "Path length = 56\n",
      "Goal state is:\n",
      "Robot location: room1\n",
      "Robot carrying: ['key1', 'key2', 'key4']\n",
      "Room contents: {'workshop': set(), 'store room': {'box', 'thing2', 'thing1'}, 'tool cupboard': {'thing3'}, 'warehouse': {'suitcase', 'container', 'bucket', 'crate'}, 'room1': {'anvil'}, 'room2': set(), 'room3': {'saw'}}\n",
      "The action path to the solution is:\n",
      "    ('pick up', 'suitcase')\n",
      "    ('move to', 'workshop')\n",
      "    ('pick up', 'key1')\n",
      "    ('move to', 'store room')\n",
      "    ('move to', 'room3')\n",
      "    ('pick up', 'key2')\n",
      "    ('move to', 'store room')\n",
      "    ('move to', 'workshop')\n",
      "    ('move to', 'warehouse')\n",
      "    ('put down', 'suitcase')\n",
      "    ('pick up', 'box')\n",
      "    ('move to', 'workshop')\n",
      "    ('move to', 'store room')\n",
      "    ('put down', 'box')\n",
      "    ('pick up', 'bucket')\n",
      "    ('move to', 'workshop')\n",
      "    ('move to', 'warehouse')\n",
      "    ('put down', 'bucket')\n",
      "    ('move to', 'room1')\n",
      "    ('pick up', 'thing2')\n",
      "    ('move to', 'warehouse')\n",
      "    ('move to', 'workshop')\n",
      "    ('move to', 'store room')\n",
      "    ('put down', 'thing2')\n",
      "    ('move to', 'workshop')\n",
      "    ('move to', 'warehouse')\n",
      "    ('move to', 'room1')\n",
      "    ('pick up', 'thing1')\n",
      "    ('move to', 'warehouse')\n",
      "    ('move to', 'workshop')\n",
      "    ('move to', 'store room')\n",
      "    ('put down', 'thing1')\n",
      "    ('move to', 'workshop')\n",
      "    ('move to', 'warehouse')\n",
      "    ('pick up', 'key4')\n",
      "    ('move to', 'workshop')\n",
      "    ('move to', 'store room')\n",
      "    ('move to', 'room3')\n",
      "    ('move to', 'room2')\n",
      "    ('pick up', 'thing3')\n",
      "    ('move to', 'tool cupboard')\n",
      "    ('put down', 'thing3')\n",
      "    ('pick up', 'saw')\n",
      "    ('move to', 'room2')\n",
      "    ('move to', 'room3')\n",
      "    ('put down', 'saw')\n",
      "    ('move to', 'room2')\n",
      "    ('move to', 'tool cupboard')\n",
      "    ('pick up', 'anvil')\n",
      "    ('move to', 'room2')\n",
      "    ('move to', 'room3')\n",
      "    ('move to', 'store room')\n",
      "    ('move to', 'workshop')\n",
      "    ('move to', 'warehouse')\n",
      "    ('move to', 'room1')\n",
      "    ('put down', 'anvil')\n",
      "\n",
      "\n",
      "SEARCH SPACE STATS:\n",
      "Total nodes generated          =    41043  (includes start)\n",
      "Nodes discarded by loop_check  =    22189  (18854 distinct states added to queue)\n",
      "Nodes tested (by goal_test)    =     7560  (7559 expanded + 1 goal)\n",
      "Nodes left in queue            =    11294\n",
      "\n",
      "Time taken = 8.6286 seconds\n",
      "\n"
     ]
    },
    {
     "data": {
      "text/plain": [
       "'GOAL_STATE_FOUND'"
      ]
     },
     "execution_count": 56,
     "metadata": {},
     "output_type": "execute_result"
    }
   ],
   "source": [
    "search( RW_PROBLEM_3, 'BF/FIFO', 10000000, loop_check=True, heuristic=carry_item)"
   ]
  },
  {
   "cell_type": "code",
   "execution_count": 57,
   "metadata": {},
   "outputs": [
    {
     "name": "stdout",
     "output_type": "stream",
     "text": [
      "This is the general SearchProblem parent class\n",
      "You must extend this class to encode a particular search problem.\n",
      "\n",
      "** Running Brandon's Search Algorithm **\n",
      "Strategy: mode=BF/FIFO, cost=thecost, heuristic=carry_item\n",
      "Max search nodes: 1000000  (max number added to queue)\n",
      "Searching (will output '.' each 1000 goal_tests)\n",
      ".............................................................................................\n",
      ":-)) *SUCCESS* ((-:\n",
      "\n",
      "Path length = 41\n",
      "Goal state is:\n",
      "Robot location: store room\n",
      "Robot carrying: ['key1', 'key2', 'key4']\n",
      "Room contents: {'workshop': set(), 'store room': {'box', 'thing2', 'thing1'}, 'tool cupboard': {'thing3'}, 'warehouse': {'crate', 'container', 'bucket', 'suitcase'}, 'room1': {'anvil'}, 'room2': set(), 'room3': {'saw'}}\n",
      "Cost of reaching goal: 41\n",
      "The action path to the solution is:\n",
      "    ('pick up', 'suitcase')\n",
      "    ('pick up', 'bucket')\n",
      "    ('move to', 'workshop')\n",
      "    ('pick up', 'key1')\n",
      "    ('move to', 'store room')\n",
      "    ('move to', 'room3')\n",
      "    ('pick up', 'key2')\n",
      "    ('move to', 'store room')\n",
      "    ('move to', 'workshop')\n",
      "    ('move to', 'warehouse')\n",
      "    ('put down', 'bucket')\n",
      "    ('pick up', 'key4')\n",
      "    ('pick up', 'box')\n",
      "    ('put down', 'suitcase')\n",
      "    ('move to', 'room1')\n",
      "    ('pick up', 'thing2')\n",
      "    ('move to', 'warehouse')\n",
      "    ('move to', 'workshop')\n",
      "    ('move to', 'store room')\n",
      "    ('put down', 'box')\n",
      "    ('put down', 'thing2')\n",
      "    ('move to', 'room3')\n",
      "    ('move to', 'room2')\n",
      "    ('pick up', 'thing3')\n",
      "    ('move to', 'tool cupboard')\n",
      "    ('put down', 'thing3')\n",
      "    ('pick up', 'anvil')\n",
      "    ('pick up', 'saw')\n",
      "    ('move to', 'room2')\n",
      "    ('move to', 'room3')\n",
      "    ('put down', 'saw')\n",
      "    ('move to', 'store room')\n",
      "    ('move to', 'workshop')\n",
      "    ('move to', 'warehouse')\n",
      "    ('move to', 'room1')\n",
      "    ('put down', 'anvil')\n",
      "    ('pick up', 'thing1')\n",
      "    ('move to', 'warehouse')\n",
      "    ('move to', 'workshop')\n",
      "    ('move to', 'store room')\n",
      "    ('put down', 'thing1')\n",
      "\n",
      "\n",
      "SEARCH SPACE STATS:\n",
      "Total nodes generated          =   537538  (includes start)\n",
      "Nodes discarded by loop_check  =   306398  (231140 distinct states added to queue)\n",
      "Nodes tested (by goal_test)    =    93798  (93797 expanded + 1 goal)\n",
      "Nodes left in queue            =   137342\n",
      "\n",
      "Time taken = 147.1164 seconds\n",
      "\n"
     ]
    },
    {
     "data": {
      "text/plain": [
       "'GOAL_STATE_FOUND'"
      ]
     },
     "execution_count": 57,
     "metadata": {},
     "output_type": "execute_result"
    }
   ],
   "source": [
    "search( RW_PROBLEM_3, 'BF/FIFO', 1000000, loop_check=True, heuristic=carry_item, cost=thecost)"
   ]
  },
  {
   "cell_type": "code",
   "execution_count": 58,
   "metadata": {},
   "outputs": [
    {
     "name": "stdout",
     "output_type": "stream",
     "text": [
      "This is the general SearchProblem parent class\n",
      "You must extend this class to encode a particular search problem.\n",
      "\n",
      "** Running Brandon's Search Algorithm **\n",
      "Strategy: mode=BF/FIFO, cost=None, heuristic=carry_item\n",
      "Max search nodes: 10000000  (max number added to queue)\n",
      "Searching (will output '.' each 1000 goal_tests)\n",
      ".................................................................................................... (100000)\n",
      "........................"
     ]
    },
    {
     "ename": "KeyboardInterrupt",
     "evalue": "",
     "output_type": "error",
     "traceback": [
      "\u001b[1;31m---------------------------------------------------------------------------\u001b[0m",
      "\u001b[1;31mKeyboardInterrupt\u001b[0m                         Traceback (most recent call last)",
      "Cell \u001b[1;32mIn[58], line 1\u001b[0m\n\u001b[1;32m----> 1\u001b[0m search( RW_PROBLEM_3, \u001b[38;5;124m'\u001b[39m\u001b[38;5;124mBF/FIFO\u001b[39m\u001b[38;5;124m'\u001b[39m, \u001b[38;5;241m10000000\u001b[39m, loop_check\u001b[38;5;241m=\u001b[39m\u001b[38;5;28;01mFalse\u001b[39;00m, heuristic\u001b[38;5;241m=\u001b[39mcarry_item)\n",
      "File \u001b[1;32m~\\AICW1\\bbSearchRaw.py:419\u001b[0m, in \u001b[0;36msearch\u001b[1;34m(problem, mode, max_nodes, loop_check, randomise, cost, heuristic, show_path, show_state_path, dots, return_info)\u001b[0m\n\u001b[0;32m    416\u001b[0m     random\u001b[38;5;241m.\u001b[39mshuffle(actions)\n\u001b[0;32m    418\u001b[0m \u001b[38;5;28;01mfor\u001b[39;00m i, a \u001b[38;5;129;01min\u001b[39;00m \u001b[38;5;28menumerate\u001b[39m(actions):\n\u001b[1;32m--> 419\u001b[0m     suc \u001b[38;5;241m=\u001b[39m problem\u001b[38;5;241m.\u001b[39msuccessor(state,a)\n\u001b[0;32m    420\u001b[0m     nodes_generated \u001b[38;5;241m+\u001b[39m\u001b[38;5;241m=\u001b[39m \u001b[38;5;241m1\u001b[39m\n\u001b[0;32m    421\u001b[0m     \u001b[38;5;28;01mif\u001b[39;00m loop_check:\n",
      "Cell \u001b[1;32mIn[4], line 44\u001b[0m, in \u001b[0;36mRobotWorker.successor\u001b[1;34m(self, state, action)\u001b[0m\n\u001b[0;32m     43\u001b[0m \u001b[38;5;28;01mdef\u001b[39;00m \u001b[38;5;21msuccessor\u001b[39m( \u001b[38;5;28mself\u001b[39m, state, action):\n\u001b[1;32m---> 44\u001b[0m     next_state \u001b[38;5;241m=\u001b[39m deepcopy(state)\n\u001b[0;32m     45\u001b[0m     act, target \u001b[38;5;241m=\u001b[39m action\n\u001b[0;32m     46\u001b[0m     \u001b[38;5;28;01mif\u001b[39;00m act\u001b[38;5;241m==\u001b[39m \u001b[38;5;124m\"\u001b[39m\u001b[38;5;124mput down\u001b[39m\u001b[38;5;124m\"\u001b[39m:\n",
      "File \u001b[1;32mD:\\anaconda3\\Lib\\copy.py:172\u001b[0m, in \u001b[0;36mdeepcopy\u001b[1;34m(x, memo, _nil)\u001b[0m\n\u001b[0;32m    170\u001b[0m                 y \u001b[38;5;241m=\u001b[39m x\n\u001b[0;32m    171\u001b[0m             \u001b[38;5;28;01melse\u001b[39;00m:\n\u001b[1;32m--> 172\u001b[0m                 y \u001b[38;5;241m=\u001b[39m _reconstruct(x, memo, \u001b[38;5;241m*\u001b[39mrv)\n\u001b[0;32m    174\u001b[0m \u001b[38;5;66;03m# If is its own copy, don't memoize.\u001b[39;00m\n\u001b[0;32m    175\u001b[0m \u001b[38;5;28;01mif\u001b[39;00m y \u001b[38;5;129;01mis\u001b[39;00m \u001b[38;5;129;01mnot\u001b[39;00m x:\n",
      "File \u001b[1;32mD:\\anaconda3\\Lib\\copy.py:271\u001b[0m, in \u001b[0;36m_reconstruct\u001b[1;34m(x, memo, func, args, state, listiter, dictiter, deepcopy)\u001b[0m\n\u001b[0;32m    269\u001b[0m \u001b[38;5;28;01mif\u001b[39;00m state \u001b[38;5;129;01mis\u001b[39;00m \u001b[38;5;129;01mnot\u001b[39;00m \u001b[38;5;28;01mNone\u001b[39;00m:\n\u001b[0;32m    270\u001b[0m     \u001b[38;5;28;01mif\u001b[39;00m deep:\n\u001b[1;32m--> 271\u001b[0m         state \u001b[38;5;241m=\u001b[39m deepcopy(state, memo)\n\u001b[0;32m    272\u001b[0m     \u001b[38;5;28;01mif\u001b[39;00m \u001b[38;5;28mhasattr\u001b[39m(y, \u001b[38;5;124m'\u001b[39m\u001b[38;5;124m__setstate__\u001b[39m\u001b[38;5;124m'\u001b[39m):\n\u001b[0;32m    273\u001b[0m         y\u001b[38;5;241m.\u001b[39m__setstate__(state)\n",
      "File \u001b[1;32mD:\\anaconda3\\Lib\\copy.py:146\u001b[0m, in \u001b[0;36mdeepcopy\u001b[1;34m(x, memo, _nil)\u001b[0m\n\u001b[0;32m    144\u001b[0m copier \u001b[38;5;241m=\u001b[39m _deepcopy_dispatch\u001b[38;5;241m.\u001b[39mget(\u001b[38;5;28mcls\u001b[39m)\n\u001b[0;32m    145\u001b[0m \u001b[38;5;28;01mif\u001b[39;00m copier \u001b[38;5;129;01mis\u001b[39;00m \u001b[38;5;129;01mnot\u001b[39;00m \u001b[38;5;28;01mNone\u001b[39;00m:\n\u001b[1;32m--> 146\u001b[0m     y \u001b[38;5;241m=\u001b[39m copier(x, memo)\n\u001b[0;32m    147\u001b[0m \u001b[38;5;28;01melse\u001b[39;00m:\n\u001b[0;32m    148\u001b[0m     \u001b[38;5;28;01mif\u001b[39;00m \u001b[38;5;28missubclass\u001b[39m(\u001b[38;5;28mcls\u001b[39m, \u001b[38;5;28mtype\u001b[39m):\n",
      "File \u001b[1;32mD:\\anaconda3\\Lib\\copy.py:231\u001b[0m, in \u001b[0;36m_deepcopy_dict\u001b[1;34m(x, memo, deepcopy)\u001b[0m\n\u001b[0;32m    229\u001b[0m memo[\u001b[38;5;28mid\u001b[39m(x)] \u001b[38;5;241m=\u001b[39m y\n\u001b[0;32m    230\u001b[0m \u001b[38;5;28;01mfor\u001b[39;00m key, value \u001b[38;5;129;01min\u001b[39;00m x\u001b[38;5;241m.\u001b[39mitems():\n\u001b[1;32m--> 231\u001b[0m     y[deepcopy(key, memo)] \u001b[38;5;241m=\u001b[39m deepcopy(value, memo)\n\u001b[0;32m    232\u001b[0m \u001b[38;5;28;01mreturn\u001b[39;00m y\n",
      "File \u001b[1;32mD:\\anaconda3\\Lib\\copy.py:146\u001b[0m, in \u001b[0;36mdeepcopy\u001b[1;34m(x, memo, _nil)\u001b[0m\n\u001b[0;32m    144\u001b[0m copier \u001b[38;5;241m=\u001b[39m _deepcopy_dispatch\u001b[38;5;241m.\u001b[39mget(\u001b[38;5;28mcls\u001b[39m)\n\u001b[0;32m    145\u001b[0m \u001b[38;5;28;01mif\u001b[39;00m copier \u001b[38;5;129;01mis\u001b[39;00m \u001b[38;5;129;01mnot\u001b[39;00m \u001b[38;5;28;01mNone\u001b[39;00m:\n\u001b[1;32m--> 146\u001b[0m     y \u001b[38;5;241m=\u001b[39m copier(x, memo)\n\u001b[0;32m    147\u001b[0m \u001b[38;5;28;01melse\u001b[39;00m:\n\u001b[0;32m    148\u001b[0m     \u001b[38;5;28;01mif\u001b[39;00m \u001b[38;5;28missubclass\u001b[39m(\u001b[38;5;28mcls\u001b[39m, \u001b[38;5;28mtype\u001b[39m):\n",
      "File \u001b[1;32mD:\\anaconda3\\Lib\\copy.py:231\u001b[0m, in \u001b[0;36m_deepcopy_dict\u001b[1;34m(x, memo, deepcopy)\u001b[0m\n\u001b[0;32m    229\u001b[0m memo[\u001b[38;5;28mid\u001b[39m(x)] \u001b[38;5;241m=\u001b[39m y\n\u001b[0;32m    230\u001b[0m \u001b[38;5;28;01mfor\u001b[39;00m key, value \u001b[38;5;129;01min\u001b[39;00m x\u001b[38;5;241m.\u001b[39mitems():\n\u001b[1;32m--> 231\u001b[0m     y[deepcopy(key, memo)] \u001b[38;5;241m=\u001b[39m deepcopy(value, memo)\n\u001b[0;32m    232\u001b[0m \u001b[38;5;28;01mreturn\u001b[39;00m y\n",
      "File \u001b[1;32mD:\\anaconda3\\Lib\\copy.py:172\u001b[0m, in \u001b[0;36mdeepcopy\u001b[1;34m(x, memo, _nil)\u001b[0m\n\u001b[0;32m    170\u001b[0m                 y \u001b[38;5;241m=\u001b[39m x\n\u001b[0;32m    171\u001b[0m             \u001b[38;5;28;01melse\u001b[39;00m:\n\u001b[1;32m--> 172\u001b[0m                 y \u001b[38;5;241m=\u001b[39m _reconstruct(x, memo, \u001b[38;5;241m*\u001b[39mrv)\n\u001b[0;32m    174\u001b[0m \u001b[38;5;66;03m# If is its own copy, don't memoize.\u001b[39;00m\n\u001b[0;32m    175\u001b[0m \u001b[38;5;28;01mif\u001b[39;00m y \u001b[38;5;129;01mis\u001b[39;00m \u001b[38;5;129;01mnot\u001b[39;00m x:\n",
      "File \u001b[1;32mD:\\anaconda3\\Lib\\copy.py:265\u001b[0m, in \u001b[0;36m_reconstruct\u001b[1;34m(x, memo, func, args, state, listiter, dictiter, deepcopy)\u001b[0m\n\u001b[0;32m    263\u001b[0m \u001b[38;5;28;01mif\u001b[39;00m deep \u001b[38;5;129;01mand\u001b[39;00m args:\n\u001b[0;32m    264\u001b[0m     args \u001b[38;5;241m=\u001b[39m (deepcopy(arg, memo) \u001b[38;5;28;01mfor\u001b[39;00m arg \u001b[38;5;129;01min\u001b[39;00m args)\n\u001b[1;32m--> 265\u001b[0m y \u001b[38;5;241m=\u001b[39m func(\u001b[38;5;241m*\u001b[39margs)\n\u001b[0;32m    266\u001b[0m \u001b[38;5;28;01mif\u001b[39;00m deep:\n\u001b[0;32m    267\u001b[0m     memo[\u001b[38;5;28mid\u001b[39m(x)] \u001b[38;5;241m=\u001b[39m y\n",
      "File \u001b[1;32mD:\\anaconda3\\Lib\\copy.py:264\u001b[0m, in \u001b[0;36m<genexpr>\u001b[1;34m(.0)\u001b[0m\n\u001b[0;32m    262\u001b[0m deep \u001b[38;5;241m=\u001b[39m memo \u001b[38;5;129;01mis\u001b[39;00m \u001b[38;5;129;01mnot\u001b[39;00m \u001b[38;5;28;01mNone\u001b[39;00m\n\u001b[0;32m    263\u001b[0m \u001b[38;5;28;01mif\u001b[39;00m deep \u001b[38;5;129;01mand\u001b[39;00m args:\n\u001b[1;32m--> 264\u001b[0m     args \u001b[38;5;241m=\u001b[39m (deepcopy(arg, memo) \u001b[38;5;28;01mfor\u001b[39;00m arg \u001b[38;5;129;01min\u001b[39;00m args)\n\u001b[0;32m    265\u001b[0m y \u001b[38;5;241m=\u001b[39m func(\u001b[38;5;241m*\u001b[39margs)\n\u001b[0;32m    266\u001b[0m \u001b[38;5;28;01mif\u001b[39;00m deep:\n",
      "File \u001b[1;32mD:\\anaconda3\\Lib\\copy.py:146\u001b[0m, in \u001b[0;36mdeepcopy\u001b[1;34m(x, memo, _nil)\u001b[0m\n\u001b[0;32m    144\u001b[0m copier \u001b[38;5;241m=\u001b[39m _deepcopy_dispatch\u001b[38;5;241m.\u001b[39mget(\u001b[38;5;28mcls\u001b[39m)\n\u001b[0;32m    145\u001b[0m \u001b[38;5;28;01mif\u001b[39;00m copier \u001b[38;5;129;01mis\u001b[39;00m \u001b[38;5;129;01mnot\u001b[39;00m \u001b[38;5;28;01mNone\u001b[39;00m:\n\u001b[1;32m--> 146\u001b[0m     y \u001b[38;5;241m=\u001b[39m copier(x, memo)\n\u001b[0;32m    147\u001b[0m \u001b[38;5;28;01melse\u001b[39;00m:\n\u001b[0;32m    148\u001b[0m     \u001b[38;5;28;01mif\u001b[39;00m \u001b[38;5;28missubclass\u001b[39m(\u001b[38;5;28mcls\u001b[39m, \u001b[38;5;28mtype\u001b[39m):\n",
      "File \u001b[1;32mD:\\anaconda3\\Lib\\copy.py:201\u001b[0m, in \u001b[0;36m_deepcopy_list\u001b[1;34m(x, memo, deepcopy)\u001b[0m\n\u001b[0;32m    198\u001b[0m d[weakref\u001b[38;5;241m.\u001b[39mref] \u001b[38;5;241m=\u001b[39m _deepcopy_atomic\n\u001b[0;32m    199\u001b[0m d[\u001b[38;5;28mproperty\u001b[39m] \u001b[38;5;241m=\u001b[39m _deepcopy_atomic\n\u001b[1;32m--> 201\u001b[0m \u001b[38;5;28;01mdef\u001b[39;00m \u001b[38;5;21m_deepcopy_list\u001b[39m(x, memo, deepcopy\u001b[38;5;241m=\u001b[39mdeepcopy):\n\u001b[0;32m    202\u001b[0m     y \u001b[38;5;241m=\u001b[39m []\n\u001b[0;32m    203\u001b[0m     memo[\u001b[38;5;28mid\u001b[39m(x)] \u001b[38;5;241m=\u001b[39m y\n",
      "\u001b[1;31mKeyboardInterrupt\u001b[0m: "
     ]
    }
   ],
   "source": [
    "search( RW_PROBLEM_3, 'BF/FIFO', 10000000, loop_check=False, heuristic=carry_item)"
   ]
  },
  {
   "cell_type": "code",
   "execution_count": 59,
   "metadata": {},
   "outputs": [
    {
     "name": "stdout",
     "output_type": "stream",
     "text": [
      "This is the general SearchProblem parent class\n",
      "You must extend this class to encode a particular search problem.\n",
      "\n",
      "** Running Brandon's Search Algorithm **\n",
      "Strategy: mode=BF/FIFO, cost=thecost, heuristic=carry_item\n",
      "Max search nodes: 1000000  (max number added to queue)\n",
      "Searching (will output '.' each 1000 goal_tests)\n",
      ".............................................."
     ]
    },
    {
     "ename": "KeyboardInterrupt",
     "evalue": "",
     "output_type": "error",
     "traceback": [
      "\u001b[1;31m---------------------------------------------------------------------------\u001b[0m",
      "\u001b[1;31mKeyboardInterrupt\u001b[0m                         Traceback (most recent call last)",
      "Cell \u001b[1;32mIn[59], line 1\u001b[0m\n\u001b[1;32m----> 1\u001b[0m search( RW_PROBLEM_3, \u001b[38;5;124m'\u001b[39m\u001b[38;5;124mBF/FIFO\u001b[39m\u001b[38;5;124m'\u001b[39m, \u001b[38;5;241m1000000\u001b[39m, loop_check\u001b[38;5;241m=\u001b[39m\u001b[38;5;28;01mFalse\u001b[39;00m, heuristic\u001b[38;5;241m=\u001b[39mcarry_item, cost\u001b[38;5;241m=\u001b[39mthecost)\n",
      "File \u001b[1;32m~\\AICW1\\bbSearchRaw.py:419\u001b[0m, in \u001b[0;36msearch\u001b[1;34m(problem, mode, max_nodes, loop_check, randomise, cost, heuristic, show_path, show_state_path, dots, return_info)\u001b[0m\n\u001b[0;32m    416\u001b[0m     random\u001b[38;5;241m.\u001b[39mshuffle(actions)\n\u001b[0;32m    418\u001b[0m \u001b[38;5;28;01mfor\u001b[39;00m i, a \u001b[38;5;129;01min\u001b[39;00m \u001b[38;5;28menumerate\u001b[39m(actions):\n\u001b[1;32m--> 419\u001b[0m     suc \u001b[38;5;241m=\u001b[39m problem\u001b[38;5;241m.\u001b[39msuccessor(state,a)\n\u001b[0;32m    420\u001b[0m     nodes_generated \u001b[38;5;241m+\u001b[39m\u001b[38;5;241m=\u001b[39m \u001b[38;5;241m1\u001b[39m\n\u001b[0;32m    421\u001b[0m     \u001b[38;5;28;01mif\u001b[39;00m loop_check:\n",
      "Cell \u001b[1;32mIn[4], line 44\u001b[0m, in \u001b[0;36mRobotWorker.successor\u001b[1;34m(self, state, action)\u001b[0m\n\u001b[0;32m     43\u001b[0m \u001b[38;5;28;01mdef\u001b[39;00m \u001b[38;5;21msuccessor\u001b[39m( \u001b[38;5;28mself\u001b[39m, state, action):\n\u001b[1;32m---> 44\u001b[0m     next_state \u001b[38;5;241m=\u001b[39m deepcopy(state)\n\u001b[0;32m     45\u001b[0m     act, target \u001b[38;5;241m=\u001b[39m action\n\u001b[0;32m     46\u001b[0m     \u001b[38;5;28;01mif\u001b[39;00m act\u001b[38;5;241m==\u001b[39m \u001b[38;5;124m\"\u001b[39m\u001b[38;5;124mput down\u001b[39m\u001b[38;5;124m\"\u001b[39m:\n",
      "File \u001b[1;32mD:\\anaconda3\\Lib\\copy.py:172\u001b[0m, in \u001b[0;36mdeepcopy\u001b[1;34m(x, memo, _nil)\u001b[0m\n\u001b[0;32m    170\u001b[0m                 y \u001b[38;5;241m=\u001b[39m x\n\u001b[0;32m    171\u001b[0m             \u001b[38;5;28;01melse\u001b[39;00m:\n\u001b[1;32m--> 172\u001b[0m                 y \u001b[38;5;241m=\u001b[39m _reconstruct(x, memo, \u001b[38;5;241m*\u001b[39mrv)\n\u001b[0;32m    174\u001b[0m \u001b[38;5;66;03m# If is its own copy, don't memoize.\u001b[39;00m\n\u001b[0;32m    175\u001b[0m \u001b[38;5;28;01mif\u001b[39;00m y \u001b[38;5;129;01mis\u001b[39;00m \u001b[38;5;129;01mnot\u001b[39;00m x:\n",
      "File \u001b[1;32mD:\\anaconda3\\Lib\\copy.py:271\u001b[0m, in \u001b[0;36m_reconstruct\u001b[1;34m(x, memo, func, args, state, listiter, dictiter, deepcopy)\u001b[0m\n\u001b[0;32m    269\u001b[0m \u001b[38;5;28;01mif\u001b[39;00m state \u001b[38;5;129;01mis\u001b[39;00m \u001b[38;5;129;01mnot\u001b[39;00m \u001b[38;5;28;01mNone\u001b[39;00m:\n\u001b[0;32m    270\u001b[0m     \u001b[38;5;28;01mif\u001b[39;00m deep:\n\u001b[1;32m--> 271\u001b[0m         state \u001b[38;5;241m=\u001b[39m deepcopy(state, memo)\n\u001b[0;32m    272\u001b[0m     \u001b[38;5;28;01mif\u001b[39;00m \u001b[38;5;28mhasattr\u001b[39m(y, \u001b[38;5;124m'\u001b[39m\u001b[38;5;124m__setstate__\u001b[39m\u001b[38;5;124m'\u001b[39m):\n\u001b[0;32m    273\u001b[0m         y\u001b[38;5;241m.\u001b[39m__setstate__(state)\n",
      "File \u001b[1;32mD:\\anaconda3\\Lib\\copy.py:146\u001b[0m, in \u001b[0;36mdeepcopy\u001b[1;34m(x, memo, _nil)\u001b[0m\n\u001b[0;32m    144\u001b[0m copier \u001b[38;5;241m=\u001b[39m _deepcopy_dispatch\u001b[38;5;241m.\u001b[39mget(\u001b[38;5;28mcls\u001b[39m)\n\u001b[0;32m    145\u001b[0m \u001b[38;5;28;01mif\u001b[39;00m copier \u001b[38;5;129;01mis\u001b[39;00m \u001b[38;5;129;01mnot\u001b[39;00m \u001b[38;5;28;01mNone\u001b[39;00m:\n\u001b[1;32m--> 146\u001b[0m     y \u001b[38;5;241m=\u001b[39m copier(x, memo)\n\u001b[0;32m    147\u001b[0m \u001b[38;5;28;01melse\u001b[39;00m:\n\u001b[0;32m    148\u001b[0m     \u001b[38;5;28;01mif\u001b[39;00m \u001b[38;5;28missubclass\u001b[39m(\u001b[38;5;28mcls\u001b[39m, \u001b[38;5;28mtype\u001b[39m):\n",
      "File \u001b[1;32mD:\\anaconda3\\Lib\\copy.py:231\u001b[0m, in \u001b[0;36m_deepcopy_dict\u001b[1;34m(x, memo, deepcopy)\u001b[0m\n\u001b[0;32m    229\u001b[0m memo[\u001b[38;5;28mid\u001b[39m(x)] \u001b[38;5;241m=\u001b[39m y\n\u001b[0;32m    230\u001b[0m \u001b[38;5;28;01mfor\u001b[39;00m key, value \u001b[38;5;129;01min\u001b[39;00m x\u001b[38;5;241m.\u001b[39mitems():\n\u001b[1;32m--> 231\u001b[0m     y[deepcopy(key, memo)] \u001b[38;5;241m=\u001b[39m deepcopy(value, memo)\n\u001b[0;32m    232\u001b[0m \u001b[38;5;28;01mreturn\u001b[39;00m y\n",
      "File \u001b[1;32mD:\\anaconda3\\Lib\\copy.py:146\u001b[0m, in \u001b[0;36mdeepcopy\u001b[1;34m(x, memo, _nil)\u001b[0m\n\u001b[0;32m    144\u001b[0m copier \u001b[38;5;241m=\u001b[39m _deepcopy_dispatch\u001b[38;5;241m.\u001b[39mget(\u001b[38;5;28mcls\u001b[39m)\n\u001b[0;32m    145\u001b[0m \u001b[38;5;28;01mif\u001b[39;00m copier \u001b[38;5;129;01mis\u001b[39;00m \u001b[38;5;129;01mnot\u001b[39;00m \u001b[38;5;28;01mNone\u001b[39;00m:\n\u001b[1;32m--> 146\u001b[0m     y \u001b[38;5;241m=\u001b[39m copier(x, memo)\n\u001b[0;32m    147\u001b[0m \u001b[38;5;28;01melse\u001b[39;00m:\n\u001b[0;32m    148\u001b[0m     \u001b[38;5;28;01mif\u001b[39;00m \u001b[38;5;28missubclass\u001b[39m(\u001b[38;5;28mcls\u001b[39m, \u001b[38;5;28mtype\u001b[39m):\n",
      "File \u001b[1;32mD:\\anaconda3\\Lib\\copy.py:231\u001b[0m, in \u001b[0;36m_deepcopy_dict\u001b[1;34m(x, memo, deepcopy)\u001b[0m\n\u001b[0;32m    229\u001b[0m memo[\u001b[38;5;28mid\u001b[39m(x)] \u001b[38;5;241m=\u001b[39m y\n\u001b[0;32m    230\u001b[0m \u001b[38;5;28;01mfor\u001b[39;00m key, value \u001b[38;5;129;01min\u001b[39;00m x\u001b[38;5;241m.\u001b[39mitems():\n\u001b[1;32m--> 231\u001b[0m     y[deepcopy(key, memo)] \u001b[38;5;241m=\u001b[39m deepcopy(value, memo)\n\u001b[0;32m    232\u001b[0m \u001b[38;5;28;01mreturn\u001b[39;00m y\n",
      "File \u001b[1;32mD:\\anaconda3\\Lib\\copy.py:172\u001b[0m, in \u001b[0;36mdeepcopy\u001b[1;34m(x, memo, _nil)\u001b[0m\n\u001b[0;32m    170\u001b[0m                 y \u001b[38;5;241m=\u001b[39m x\n\u001b[0;32m    171\u001b[0m             \u001b[38;5;28;01melse\u001b[39;00m:\n\u001b[1;32m--> 172\u001b[0m                 y \u001b[38;5;241m=\u001b[39m _reconstruct(x, memo, \u001b[38;5;241m*\u001b[39mrv)\n\u001b[0;32m    174\u001b[0m \u001b[38;5;66;03m# If is its own copy, don't memoize.\u001b[39;00m\n\u001b[0;32m    175\u001b[0m \u001b[38;5;28;01mif\u001b[39;00m y \u001b[38;5;129;01mis\u001b[39;00m \u001b[38;5;129;01mnot\u001b[39;00m x:\n",
      "File \u001b[1;32mD:\\anaconda3\\Lib\\copy.py:265\u001b[0m, in \u001b[0;36m_reconstruct\u001b[1;34m(x, memo, func, args, state, listiter, dictiter, deepcopy)\u001b[0m\n\u001b[0;32m    263\u001b[0m \u001b[38;5;28;01mif\u001b[39;00m deep \u001b[38;5;129;01mand\u001b[39;00m args:\n\u001b[0;32m    264\u001b[0m     args \u001b[38;5;241m=\u001b[39m (deepcopy(arg, memo) \u001b[38;5;28;01mfor\u001b[39;00m arg \u001b[38;5;129;01min\u001b[39;00m args)\n\u001b[1;32m--> 265\u001b[0m y \u001b[38;5;241m=\u001b[39m func(\u001b[38;5;241m*\u001b[39margs)\n\u001b[0;32m    266\u001b[0m \u001b[38;5;28;01mif\u001b[39;00m deep:\n\u001b[0;32m    267\u001b[0m     memo[\u001b[38;5;28mid\u001b[39m(x)] \u001b[38;5;241m=\u001b[39m y\n",
      "File \u001b[1;32mD:\\anaconda3\\Lib\\copy.py:264\u001b[0m, in \u001b[0;36m<genexpr>\u001b[1;34m(.0)\u001b[0m\n\u001b[0;32m    262\u001b[0m deep \u001b[38;5;241m=\u001b[39m memo \u001b[38;5;129;01mis\u001b[39;00m \u001b[38;5;129;01mnot\u001b[39;00m \u001b[38;5;28;01mNone\u001b[39;00m\n\u001b[0;32m    263\u001b[0m \u001b[38;5;28;01mif\u001b[39;00m deep \u001b[38;5;129;01mand\u001b[39;00m args:\n\u001b[1;32m--> 264\u001b[0m     args \u001b[38;5;241m=\u001b[39m (deepcopy(arg, memo) \u001b[38;5;28;01mfor\u001b[39;00m arg \u001b[38;5;129;01min\u001b[39;00m args)\n\u001b[0;32m    265\u001b[0m y \u001b[38;5;241m=\u001b[39m func(\u001b[38;5;241m*\u001b[39margs)\n\u001b[0;32m    266\u001b[0m \u001b[38;5;28;01mif\u001b[39;00m deep:\n",
      "File \u001b[1;32mD:\\anaconda3\\Lib\\copy.py:137\u001b[0m, in \u001b[0;36mdeepcopy\u001b[1;34m(x, memo, _nil)\u001b[0m\n\u001b[0;32m    134\u001b[0m \u001b[38;5;28;01mif\u001b[39;00m memo \u001b[38;5;129;01mis\u001b[39;00m \u001b[38;5;28;01mNone\u001b[39;00m:\n\u001b[0;32m    135\u001b[0m     memo \u001b[38;5;241m=\u001b[39m {}\n\u001b[1;32m--> 137\u001b[0m d \u001b[38;5;241m=\u001b[39m \u001b[38;5;28mid\u001b[39m(x)\n\u001b[0;32m    138\u001b[0m y \u001b[38;5;241m=\u001b[39m memo\u001b[38;5;241m.\u001b[39mget(d, _nil)\n\u001b[0;32m    139\u001b[0m \u001b[38;5;28;01mif\u001b[39;00m y \u001b[38;5;129;01mis\u001b[39;00m \u001b[38;5;129;01mnot\u001b[39;00m _nil:\n",
      "\u001b[1;31mKeyboardInterrupt\u001b[0m: "
     ]
    }
   ],
   "source": [
    "search( RW_PROBLEM_3, 'BF/FIFO', 1000000, loop_check=False, heuristic=carry_item, cost=thecost)"
   ]
  }
 ],
 "metadata": {
  "colab": {
   "provenance": []
  },
  "kernelspec": {
   "display_name": "Python 3 (ipykernel)",
   "language": "python",
   "name": "python3"
  },
  "language_info": {
   "codemirror_mode": {
    "name": "ipython",
    "version": 3
   },
   "file_extension": ".py",
   "mimetype": "text/x-python",
   "name": "python",
   "nbconvert_exporter": "python",
   "pygments_lexer": "ipython3",
   "version": "3.11.3"
  }
 },
 "nbformat": 4,
 "nbformat_minor": 1
}
