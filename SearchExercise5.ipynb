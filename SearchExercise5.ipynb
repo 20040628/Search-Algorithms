{
 "cells": [
  {
   "cell_type": "code",
   "execution_count": 1,
   "metadata": {
    "colab": {
     "base_uri": "https://localhost:8080/"
    },
    "id": "RnR9_Heq5nG_",
    "outputId": "0ed20914-994a-4b12-8ad9-4b27851729cb"
   },
   "outputs": [
    {
     "name": "stdout",
     "output_type": "stream",
     "text": [
      "Loading bbSearch Version 2.1 (at 20:26, Mon 31 Mar)\n",
      "Last module source code edit 9am Thursday 24th Feb 2022\n"
     ]
    }
   ],
   "source": [
    "from bbSearchRaw import SearchProblem, search, thecost"
   ]
  },
  {
   "cell_type": "code",
   "execution_count": 2,
   "metadata": {
    "id": "ngXq3qU75nHG"
   },
   "outputs": [],
   "source": [
    "class Robot:\n",
    "    def __init__(self, location, carried_items, strength):\n",
    "        self.location      = location\n",
    "        self.carried_items = carried_items\n",
    "        self.strength      = strength\n",
    "\n",
    "    def weight_carried(self):\n",
    "        return sum([ITEM_WEIGHT[i] for i in self.carried_items])\n",
    "\n",
    "    ## Define unique string representation for the state of the robot object\n",
    "    def __repr__(self):\n",
    "        return str( ( self.location,\n",
    "                      self.carried_items,\n",
    "                      self.strength ) )\n",
    "\n",
    "class Door:\n",
    "    def __init__(self, roomA, roomB, doorkey=None, locked=False):\n",
    "        self.goes_between = {roomA, roomB}\n",
    "        self.doorkey      = doorkey\n",
    "        self.locked       = locked\n",
    "        # Define handy dictionary to get room on other side of a door\n",
    "        self.other_loc = {roomA:roomB, roomB:roomA}\n",
    "\n",
    "    ## Define a unique string representation for a door object\n",
    "    def __repr__(self):\n",
    "        return str( (\"door\", self.goes_between, self.doorkey, self.locked) )"
   ]
  },
  {
   "cell_type": "code",
   "execution_count": 3,
   "metadata": {
    "id": "YAPNtW105nHJ"
   },
   "outputs": [],
   "source": [
    "class State:\n",
    "    def __init__( self, robot, doors, room_contents ):\n",
    "        self.robot = robot\n",
    "        self.doors = doors\n",
    "        self.room_contents = room_contents\n",
    "\n",
    "    ## Define a string representation that will be uniquely identify the state.\n",
    "    ## An easy way is to form a tuple of representations of the components of\n",
    "    ## the state, then form a string from that:\n",
    "    def __repr__(self):\n",
    "        return str( ( self.robot.__repr__(),\n",
    "                      [d.__repr__() for d in self.doors],\n",
    "                      self.room_contents ) )\n"
   ]
  },
  {
   "cell_type": "code",
   "execution_count": 4,
   "metadata": {
    "id": "cGVcn1h35nHP"
   },
   "outputs": [],
   "source": [
    "from copy import deepcopy\n",
    "\n",
    "class RobotWorker( SearchProblem ):\n",
    "\n",
    "    def __init__( self, state, goal_item_locations ):\n",
    "        self.initial_state = state\n",
    "        self.goal_item_locations = goal_item_locations\n",
    "\n",
    "    def possible_actions( self, state ):\n",
    "\n",
    "        robot_location = state.robot.location\n",
    "        strength       = state.robot.strength\n",
    "        weight_carried = state.robot.weight_carried()\n",
    "\n",
    "        actions = []\n",
    "        # Can put down any carried item\n",
    "        for i in state.robot.carried_items:\n",
    "            actions.append( (\"put down\", i) )\n",
    "\n",
    "        # Can pick up any item in room if strong enough修改\n",
    "        for i in state.room_contents[robot_location]:\n",
    "            if ITEM_WEIGHT[i]==0:\n",
    "                actions.append( (\"pick up\", i))\n",
    "            elif any(i in goal_items for goal_items in self.goal_item_locations.values()):\n",
    "                if strength >= weight_carried + ITEM_WEIGHT[i]:\n",
    "                    actions.append((\"pick up\", i))\n",
    "\n",
    "        # If there is an unlocked door between robot location and\n",
    "        # another location can move to that location\n",
    "        for door in state.doors:\n",
    "            if  door.locked==False and robot_location in door.goes_between:\n",
    "                actions.append( (\"move to\", door.other_loc[robot_location]) )\n",
    "            elif door.locked==True and door.doorkey in state.robot.carried_items and robot_location in door.goes_between:\n",
    "                actions.append( (\"move to\", door.other_loc[robot_location]) )\n",
    "        # Now the actions list should contain all possible actions\n",
    "        return actions\n",
    "\n",
    "    def successor( self, state, action):\n",
    "        next_state = deepcopy(state)\n",
    "        act, target = action\n",
    "        if act== \"put down\":\n",
    "            next_state.robot.carried_items.remove(target)\n",
    "            next_state.room_contents[state.robot.location].add(target)\n",
    "\n",
    "        if act == \"pick up\":\n",
    "            next_state.robot.carried_items.append(target)\n",
    "            next_state.room_contents[state.robot.location].remove(target)\n",
    "\n",
    "        if act == \"move to\":\n",
    "            next_state.robot.location = target\n",
    "\n",
    "        return next_state\n",
    "\n",
    "    def goal_test(self, state):\n",
    "        #print(state.room_contents)\n",
    "        for room, contents in self.goal_item_locations.items():\n",
    "            for i in contents:\n",
    "                if not i in state.room_contents[room]:\n",
    "                    return False\n",
    "        return True\n",
    "\n",
    "    def display_state(self,state):\n",
    "        print(\"Robot location:\", state.robot.location)\n",
    "        print(\"Robot carrying:\", state.robot.carried_items)\n",
    "        print(\"Room contents:\", state.room_contents)"
   ]
  },
  {
   "cell_type": "markdown",
   "metadata": {},
   "source": [
    "## Simple"
   ]
  },
  {
   "cell_type": "code",
   "execution_count": 25,
   "metadata": {
    "id": "5k_U8vNi5nHM"
   },
   "outputs": [],
   "source": [
    "ROOM_CONTENTS = {\n",
    "    'workshop'     : {'key'},\n",
    "    'store room'   : {'bucket', 'suitcase'},\n",
    "    'tool cupboard' : {'hammer', 'anvil', 'saw', 'screwdriver'},\n",
    "}\n",
    "\n",
    "ITEM_WEIGHT = {\n",
    "    'key' : 0,\n",
    "    'bucket' : 2,\n",
    "    'suitcase' : 4,\n",
    "    'screwdriver' : 1,\n",
    "    'hammer' : 5,\n",
    "    'anvil' : 12,\n",
    "    'saw' : 2,\n",
    "}\n",
    "\n",
    "DOORS = [\n",
    "    Door('workshop', 'store room' ),\n",
    "    Door( 'store room', 'tool cupboard', doorkey='key', locked= False )\n",
    "]\n"
   ]
  },
  {
   "cell_type": "code",
   "execution_count": 26,
   "metadata": {
    "id": "GhVuYfAF5nHS"
   },
   "outputs": [],
   "source": [
    "rob = Robot('store room', [], 15 )\n",
    "\n",
    "state = State(rob, DOORS, ROOM_CONTENTS)\n",
    "\n",
    "goal_item_locations =  {\"store room\":{\"hammer\", \"screwdriver\", \"anvil\"}}\n",
    "\n",
    "RW_PROBLEM_1 = RobotWorker( state, goal_item_locations )"
   ]
  },
  {
   "cell_type": "markdown",
   "metadata": {},
   "source": [
    "## Middle"
   ]
  },
  {
   "cell_type": "code",
   "execution_count": 19,
   "metadata": {},
   "outputs": [],
   "source": [
    "ROOM_CONTENTS = {\n",
    "    'workshop'     : {'key1'},\n",
    "    'store room'   : {'bucket', 'suitcase','key2'},\n",
    "    'tool cupboard' : {'hammer', 'anvil', 'saw', 'screwdriver'},\n",
    "    'warehouse': {'box', 'crate', 'container'}\n",
    "}\n",
    "\n",
    "ITEM_WEIGHT = {\n",
    "    'key1' : 0,\n",
    "    'bucket' : 2,\n",
    "    'suitcase' : 4,\n",
    "    'screwdriver' : 1,\n",
    "    'hammer' : 5,\n",
    "    'anvil' : 12,\n",
    "    'saw' : 2,\n",
    "    'box':3,\n",
    "    'crate':8,\n",
    "    'container':10,\n",
    "    'key2':0\n",
    "}\n",
    "\n",
    "DOORS = [\n",
    "    Door('workshop', 'store room' ),\n",
    "    Door( 'store room', 'tool cupboard', doorkey='key1', locked=True),\n",
    "    Door( 'workshop', 'warehouse', doorkey='key2', locked=True ),\n",
    "    Door('warehouse','tool cupboard')\n",
    "]\n",
    " "
   ]
  },
  {
   "cell_type": "code",
   "execution_count": 20,
   "metadata": {},
   "outputs": [],
   "source": [
    "rob = Robot('store room', [], 15 )\n",
    "\n",
    "state = State(rob, DOORS, ROOM_CONTENTS)\n",
    "\n",
    "goal_item_locations =  {\n",
    "    \"workshop\":{\"box\"},\n",
    "    \"store room\":{\"hammer\", \"screwdriver\", \"anvil\"},\n",
    "    \"warehouse\" :{\"bucket\"}\n",
    "}\n",
    "\n",
    "RW_PROBLEM_2 = RobotWorker( state, goal_item_locations )"
   ]
  },
  {
   "cell_type": "markdown",
   "metadata": {},
   "source": [
    "## 查看可能的动作"
   ]
  },
  {
   "cell_type": "code",
   "execution_count": 9,
   "metadata": {},
   "outputs": [
    {
     "data": {
      "text/plain": [
       "[('move to', 'workshop')]"
      ]
     },
     "execution_count": 9,
     "metadata": {},
     "output_type": "execute_result"
    }
   ],
   "source": [
    "poss_acts = RW_PROBLEM_1.possible_actions( RW_PROBLEM_1.initial_state )\n",
    "poss_acts"
   ]
  },
  {
   "cell_type": "code",
   "execution_count": 10,
   "metadata": {},
   "outputs": [
    {
     "name": "stdout",
     "output_type": "stream",
     "text": [
      "Action ('move to', 'workshop') leads to the following state:\n",
      "Robot location: workshop\n",
      "Robot carrying: []\n",
      "Room contents: {'workshop': {'key'}, 'store room': {'suitcase', 'bucket'}, 'tool cupboard': {'anvil', 'hammer', 'screwdriver', 'saw'}}\n",
      "\n"
     ]
    }
   ],
   "source": [
    "for act in poss_acts:\n",
    "    print(\"Action\", act, \"leads to the following state:\")\n",
    "    next_state = RW_PROBLEM_1.successor( RW_PROBLEM_1.initial_state, act )\n",
    "    RW_PROBLEM_1.display_state(next_state)\n",
    "    print()"
   ]
  },
  {
   "cell_type": "markdown",
   "metadata": {},
   "source": [
    "## 启发式"
   ]
  },
  {
   "cell_type": "code",
   "execution_count": 11,
   "metadata": {},
   "outputs": [],
   "source": [
    "def misplace (state,goal_position):\n",
    "    total_distance=0\n",
    "    for room, contents in goal_position.items():\n",
    "            for i in contents:\n",
    "                if not i in state.room_contents[room]:\n",
    "                    total_distance +=1 \n",
    "    return total_distance*2"
   ]
  },
  {
   "cell_type": "code",
   "execution_count": 12,
   "metadata": {},
   "outputs": [],
   "source": [
    "def carry_item (state, goal_position):\n",
    "    total_distance = 0\n",
    "    robot_location = state.robot.location\n",
    "    carried_items = state.robot.carried_items\n",
    "\n",
    "    for room, contents in goal_position.items():\n",
    "        for item in contents:\n",
    "            if item not in carried_items and item not in state.room_contents[room] :\n",
    "                total_distance += 1\n",
    "            # If the target item is on the robot and the robot is not in the target room, \n",
    "            # the robot may need to go back and put the item\n",
    "            elif item in carried_items:\n",
    "                if robot_location != room:\n",
    "                    total_distance += 1 \n",
    "    return total_distance"
   ]
  },
  {
   "cell_type": "markdown",
   "metadata": {},
   "source": [
    "## Simple Test"
   ]
  },
  {
   "cell_type": "code",
   "execution_count": 27,
   "metadata": {
    "colab": {
     "base_uri": "https://localhost:8080/",
     "height": 680
    },
    "id": "kSbvvWPA5nHY",
    "outputId": "7933c83c-f5c4-4d95-ebfc-689d729ea775"
   },
   "outputs": [
    {
     "name": "stdout",
     "output_type": "stream",
     "text": [
      "This is the general SearchProblem parent class\n",
      "You must extend this class to encode a particular search problem.\n",
      "\n",
      "** Running Brandon's Search Algorithm **\n",
      "Strategy: mode=BF/FIFO, cost=None, heuristic=None\n",
      "Max search nodes: 10000000  (max number added to queue)\n",
      "Searching (will output '.' each 1000 goal_tests)\n",
      "\n",
      ":-)) *SUCCESS* ((-:\n",
      "\n",
      "Path length = 10\n",
      "Goal state is:\n",
      "Robot location: store room\n",
      "Robot carrying: []\n",
      "Room contents: {'workshop': {'key'}, 'store room': {'screwdriver', 'suitcase', 'bucket', 'anvil', 'hammer'}, 'tool cupboard': {'saw'}}\n",
      "The action path to the solution is:\n",
      "    ('move to', 'tool cupboard')\n",
      "    ('pick up', 'anvil')\n",
      "    ('pick up', 'screwdriver')\n",
      "    ('move to', 'store room')\n",
      "    ('put down', 'anvil')\n",
      "    ('put down', 'screwdriver')\n",
      "    ('move to', 'tool cupboard')\n",
      "    ('pick up', 'hammer')\n",
      "    ('move to', 'store room')\n",
      "    ('put down', 'hammer')\n",
      "\n",
      "\n",
      "SEARCH SPACE STATS:\n",
      "Total nodes generated          =     2125  (includes start)\n",
      "Nodes discarded by loop_check  =     1259  (866 distinct states added to queue)\n",
      "Nodes tested (by goal_test)    =      632  (631 expanded + 1 goal)\n",
      "Nodes left in queue            =      234\n",
      "\n",
      "Time taken = 0.3956 seconds\n",
      "\n"
     ]
    },
    {
     "data": {
      "text/plain": [
       "'GOAL_STATE_FOUND'"
      ]
     },
     "execution_count": 27,
     "metadata": {},
     "output_type": "execute_result"
    }
   ],
   "source": [
    "search( RW_PROBLEM_1, 'BF/FIFO', 10000000, loop_check=True)"
   ]
  },
  {
   "cell_type": "code",
   "execution_count": 28,
   "metadata": {},
   "outputs": [
    {
     "name": "stdout",
     "output_type": "stream",
     "text": [
      "This is the general SearchProblem parent class\n",
      "You must extend this class to encode a particular search problem.\n",
      "\n",
      "** Running Brandon's Search Algorithm **\n",
      "Strategy: mode=BF/FIFO, cost=None, heuristic=misplace\n",
      "Max search nodes: 10000000  (max number added to queue)\n",
      "Searching (will output '.' each 1000 goal_tests)\n",
      "\n",
      ":-)) *SUCCESS* ((-:\n",
      "\n",
      "Path length = 12\n",
      "Goal state is:\n",
      "Robot location: store room\n",
      "Robot carrying: []\n",
      "Room contents: {'workshop': {'key'}, 'store room': {'screwdriver', 'suitcase', 'bucket', 'anvil', 'hammer'}, 'tool cupboard': {'saw'}}\n",
      "The action path to the solution is:\n",
      "    ('move to', 'tool cupboard')\n",
      "    ('pick up', 'anvil')\n",
      "    ('move to', 'store room')\n",
      "    ('put down', 'anvil')\n",
      "    ('move to', 'tool cupboard')\n",
      "    ('pick up', 'screwdriver')\n",
      "    ('move to', 'store room')\n",
      "    ('put down', 'screwdriver')\n",
      "    ('move to', 'tool cupboard')\n",
      "    ('pick up', 'hammer')\n",
      "    ('move to', 'store room')\n",
      "    ('put down', 'hammer')\n",
      "\n",
      "\n",
      "SEARCH SPACE STATS:\n",
      "Total nodes generated          =       82  (includes start)\n",
      "Nodes discarded by loop_check  =       25  (57 distinct states added to queue)\n",
      "Nodes tested (by goal_test)    =       28  (27 expanded + 1 goal)\n",
      "Nodes left in queue            =       29\n",
      "\n",
      "Time taken = 0.0072 seconds\n",
      "\n"
     ]
    },
    {
     "data": {
      "text/plain": [
       "'GOAL_STATE_FOUND'"
      ]
     },
     "execution_count": 28,
     "metadata": {},
     "output_type": "execute_result"
    }
   ],
   "source": [
    "search( RW_PROBLEM_1, 'BF/FIFO', 10000000, loop_check=True, heuristic=misplace)"
   ]
  },
  {
   "cell_type": "code",
   "execution_count": 29,
   "metadata": {},
   "outputs": [
    {
     "name": "stdout",
     "output_type": "stream",
     "text": [
      "This is the general SearchProblem parent class\n",
      "You must extend this class to encode a particular search problem.\n",
      "\n",
      "** Running Brandon's Search Algorithm **\n",
      "Strategy: mode=BF/FIFO, cost=None, heuristic=carry_item\n",
      "Max search nodes: 10000000  (max number added to queue)\n",
      "Searching (will output '.' each 1000 goal_tests)\n",
      "\n",
      ":-)) *SUCCESS* ((-:\n",
      "\n",
      "Path length = 12\n",
      "Goal state is:\n",
      "Robot location: store room\n",
      "Robot carrying: []\n",
      "Room contents: {'workshop': {'key'}, 'store room': {'screwdriver', 'suitcase', 'bucket', 'anvil', 'hammer'}, 'tool cupboard': {'saw'}}\n",
      "The action path to the solution is:\n",
      "    ('move to', 'tool cupboard')\n",
      "    ('pick up', 'anvil')\n",
      "    ('move to', 'store room')\n",
      "    ('put down', 'anvil')\n",
      "    ('move to', 'tool cupboard')\n",
      "    ('pick up', 'screwdriver')\n",
      "    ('move to', 'store room')\n",
      "    ('put down', 'screwdriver')\n",
      "    ('move to', 'tool cupboard')\n",
      "    ('pick up', 'hammer')\n",
      "    ('move to', 'store room')\n",
      "    ('put down', 'hammer')\n",
      "\n",
      "\n",
      "SEARCH SPACE STATS:\n",
      "Total nodes generated          =       70  (includes start)\n",
      "Nodes discarded by loop_check  =       27  (43 distinct states added to queue)\n",
      "Nodes tested (by goal_test)    =       24  (23 expanded + 1 goal)\n",
      "Nodes left in queue            =       19\n",
      "\n",
      "Time taken = 0.0063 seconds\n",
      "\n"
     ]
    },
    {
     "data": {
      "text/plain": [
       "'GOAL_STATE_FOUND'"
      ]
     },
     "execution_count": 29,
     "metadata": {},
     "output_type": "execute_result"
    }
   ],
   "source": [
    "search( RW_PROBLEM_1, 'BF/FIFO', 10000000, loop_check=True, heuristic= carry_item)"
   ]
  },
  {
   "cell_type": "code",
   "execution_count": null,
   "metadata": {},
   "outputs": [],
   "source": [
    "search( RW_PROBLEM_1, 'BF/FIFO', 10000000, loop_check=True, heuristic=misplace,show_state_path=True)"
   ]
  },
  {
   "cell_type": "markdown",
   "metadata": {},
   "source": [
    "## Middle Test"
   ]
  },
  {
   "cell_type": "code",
   "execution_count": 21,
   "metadata": {},
   "outputs": [
    {
     "name": "stdout",
     "output_type": "stream",
     "text": [
      "This is the general SearchProblem parent class\n",
      "You must extend this class to encode a particular search problem.\n",
      "\n",
      "** Running Brandon's Search Algorithm **\n",
      "Strategy: mode=BF/FIFO, cost=None, heuristic=None\n",
      "Max search nodes: 10000000  (max number added to queue)\n",
      "Searching (will output '.' each 1000 goal_tests)\n",
      ".................................................................................................... (100000)\n",
      "..................................................................."
     ]
    },
    {
     "ename": "KeyboardInterrupt",
     "evalue": "",
     "output_type": "error",
     "traceback": [
      "\u001b[1;31m---------------------------------------------------------------------------\u001b[0m",
      "\u001b[1;31mKeyboardInterrupt\u001b[0m                         Traceback (most recent call last)",
      "Cell \u001b[1;32mIn[21], line 1\u001b[0m\n\u001b[1;32m----> 1\u001b[0m \u001b[43msearch\u001b[49m\u001b[43m(\u001b[49m\u001b[43m \u001b[49m\u001b[43mRW_PROBLEM_2\u001b[49m\u001b[43m,\u001b[49m\u001b[43m \u001b[49m\u001b[38;5;124;43m'\u001b[39;49m\u001b[38;5;124;43mBF/FIFO\u001b[39;49m\u001b[38;5;124;43m'\u001b[39;49m\u001b[43m,\u001b[49m\u001b[43m \u001b[49m\u001b[38;5;241;43m10000000\u001b[39;49m\u001b[43m,\u001b[49m\u001b[43m \u001b[49m\u001b[43mloop_check\u001b[49m\u001b[38;5;241;43m=\u001b[39;49m\u001b[38;5;28;43;01mTrue\u001b[39;49;00m\u001b[43m)\u001b[49m\n",
      "File \u001b[1;32mD:\\3\\Artificial Intelligence\\Assessment1\\code\\Search-Algorithms\\bbSearchRaw.py:419\u001b[0m, in \u001b[0;36msearch\u001b[1;34m(problem, mode, max_nodes, loop_check, randomise, cost, heuristic, show_path, show_state_path, dots, return_info)\u001b[0m\n\u001b[0;32m    416\u001b[0m     random\u001b[38;5;241m.\u001b[39mshuffle(actions)\n\u001b[0;32m    418\u001b[0m \u001b[38;5;28;01mfor\u001b[39;00m i, a \u001b[38;5;129;01min\u001b[39;00m \u001b[38;5;28menumerate\u001b[39m(actions):\n\u001b[1;32m--> 419\u001b[0m     suc \u001b[38;5;241m=\u001b[39m \u001b[43mproblem\u001b[49m\u001b[38;5;241;43m.\u001b[39;49m\u001b[43msuccessor\u001b[49m\u001b[43m(\u001b[49m\u001b[43mstate\u001b[49m\u001b[43m,\u001b[49m\u001b[43ma\u001b[49m\u001b[43m)\u001b[49m\n\u001b[0;32m    420\u001b[0m     nodes_generated \u001b[38;5;241m+\u001b[39m\u001b[38;5;241m=\u001b[39m \u001b[38;5;241m1\u001b[39m\n\u001b[0;32m    421\u001b[0m     \u001b[38;5;28;01mif\u001b[39;00m loop_check:\n",
      "Cell \u001b[1;32mIn[4], line 39\u001b[0m, in \u001b[0;36mRobotWorker.successor\u001b[1;34m(self, state, action)\u001b[0m\n\u001b[0;32m     38\u001b[0m \u001b[38;5;28;01mdef\u001b[39;00m \u001b[38;5;21msuccessor\u001b[39m( \u001b[38;5;28mself\u001b[39m, state, action):\n\u001b[1;32m---> 39\u001b[0m     next_state \u001b[38;5;241m=\u001b[39m \u001b[43mdeepcopy\u001b[49m\u001b[43m(\u001b[49m\u001b[43mstate\u001b[49m\u001b[43m)\u001b[49m\n\u001b[0;32m     40\u001b[0m     act, target \u001b[38;5;241m=\u001b[39m action\n\u001b[0;32m     41\u001b[0m     \u001b[38;5;28;01mif\u001b[39;00m act\u001b[38;5;241m==\u001b[39m \u001b[38;5;124m\"\u001b[39m\u001b[38;5;124mput down\u001b[39m\u001b[38;5;124m\"\u001b[39m:\n",
      "File \u001b[1;32mD:\\anaconda\\lib\\copy.py:172\u001b[0m, in \u001b[0;36mdeepcopy\u001b[1;34m(x, memo, _nil)\u001b[0m\n\u001b[0;32m    170\u001b[0m                 y \u001b[38;5;241m=\u001b[39m x\n\u001b[0;32m    171\u001b[0m             \u001b[38;5;28;01melse\u001b[39;00m:\n\u001b[1;32m--> 172\u001b[0m                 y \u001b[38;5;241m=\u001b[39m \u001b[43m_reconstruct\u001b[49m\u001b[43m(\u001b[49m\u001b[43mx\u001b[49m\u001b[43m,\u001b[49m\u001b[43m \u001b[49m\u001b[43mmemo\u001b[49m\u001b[43m,\u001b[49m\u001b[43m \u001b[49m\u001b[38;5;241;43m*\u001b[39;49m\u001b[43mrv\u001b[49m\u001b[43m)\u001b[49m\n\u001b[0;32m    174\u001b[0m \u001b[38;5;66;03m# If is its own copy, don't memoize.\u001b[39;00m\n\u001b[0;32m    175\u001b[0m \u001b[38;5;28;01mif\u001b[39;00m y \u001b[38;5;129;01mis\u001b[39;00m \u001b[38;5;129;01mnot\u001b[39;00m x:\n",
      "File \u001b[1;32mD:\\anaconda\\lib\\copy.py:271\u001b[0m, in \u001b[0;36m_reconstruct\u001b[1;34m(x, memo, func, args, state, listiter, dictiter, deepcopy)\u001b[0m\n\u001b[0;32m    269\u001b[0m \u001b[38;5;28;01mif\u001b[39;00m state \u001b[38;5;129;01mis\u001b[39;00m \u001b[38;5;129;01mnot\u001b[39;00m \u001b[38;5;28;01mNone\u001b[39;00m:\n\u001b[0;32m    270\u001b[0m     \u001b[38;5;28;01mif\u001b[39;00m deep:\n\u001b[1;32m--> 271\u001b[0m         state \u001b[38;5;241m=\u001b[39m \u001b[43mdeepcopy\u001b[49m\u001b[43m(\u001b[49m\u001b[43mstate\u001b[49m\u001b[43m,\u001b[49m\u001b[43m \u001b[49m\u001b[43mmemo\u001b[49m\u001b[43m)\u001b[49m\n\u001b[0;32m    272\u001b[0m     \u001b[38;5;28;01mif\u001b[39;00m \u001b[38;5;28mhasattr\u001b[39m(y, \u001b[38;5;124m'\u001b[39m\u001b[38;5;124m__setstate__\u001b[39m\u001b[38;5;124m'\u001b[39m):\n\u001b[0;32m    273\u001b[0m         y\u001b[38;5;241m.\u001b[39m__setstate__(state)\n",
      "File \u001b[1;32mD:\\anaconda\\lib\\copy.py:146\u001b[0m, in \u001b[0;36mdeepcopy\u001b[1;34m(x, memo, _nil)\u001b[0m\n\u001b[0;32m    144\u001b[0m copier \u001b[38;5;241m=\u001b[39m _deepcopy_dispatch\u001b[38;5;241m.\u001b[39mget(\u001b[38;5;28mcls\u001b[39m)\n\u001b[0;32m    145\u001b[0m \u001b[38;5;28;01mif\u001b[39;00m copier \u001b[38;5;129;01mis\u001b[39;00m \u001b[38;5;129;01mnot\u001b[39;00m \u001b[38;5;28;01mNone\u001b[39;00m:\n\u001b[1;32m--> 146\u001b[0m     y \u001b[38;5;241m=\u001b[39m \u001b[43mcopier\u001b[49m\u001b[43m(\u001b[49m\u001b[43mx\u001b[49m\u001b[43m,\u001b[49m\u001b[43m \u001b[49m\u001b[43mmemo\u001b[49m\u001b[43m)\u001b[49m\n\u001b[0;32m    147\u001b[0m \u001b[38;5;28;01melse\u001b[39;00m:\n\u001b[0;32m    148\u001b[0m     \u001b[38;5;28;01mif\u001b[39;00m \u001b[38;5;28missubclass\u001b[39m(\u001b[38;5;28mcls\u001b[39m, \u001b[38;5;28mtype\u001b[39m):\n",
      "File \u001b[1;32mD:\\anaconda\\lib\\copy.py:231\u001b[0m, in \u001b[0;36m_deepcopy_dict\u001b[1;34m(x, memo, deepcopy)\u001b[0m\n\u001b[0;32m    229\u001b[0m memo[\u001b[38;5;28mid\u001b[39m(x)] \u001b[38;5;241m=\u001b[39m y\n\u001b[0;32m    230\u001b[0m \u001b[38;5;28;01mfor\u001b[39;00m key, value \u001b[38;5;129;01min\u001b[39;00m x\u001b[38;5;241m.\u001b[39mitems():\n\u001b[1;32m--> 231\u001b[0m     y[deepcopy(key, memo)] \u001b[38;5;241m=\u001b[39m \u001b[43mdeepcopy\u001b[49m\u001b[43m(\u001b[49m\u001b[43mvalue\u001b[49m\u001b[43m,\u001b[49m\u001b[43m \u001b[49m\u001b[43mmemo\u001b[49m\u001b[43m)\u001b[49m\n\u001b[0;32m    232\u001b[0m \u001b[38;5;28;01mreturn\u001b[39;00m y\n",
      "File \u001b[1;32mD:\\anaconda\\lib\\copy.py:146\u001b[0m, in \u001b[0;36mdeepcopy\u001b[1;34m(x, memo, _nil)\u001b[0m\n\u001b[0;32m    144\u001b[0m copier \u001b[38;5;241m=\u001b[39m _deepcopy_dispatch\u001b[38;5;241m.\u001b[39mget(\u001b[38;5;28mcls\u001b[39m)\n\u001b[0;32m    145\u001b[0m \u001b[38;5;28;01mif\u001b[39;00m copier \u001b[38;5;129;01mis\u001b[39;00m \u001b[38;5;129;01mnot\u001b[39;00m \u001b[38;5;28;01mNone\u001b[39;00m:\n\u001b[1;32m--> 146\u001b[0m     y \u001b[38;5;241m=\u001b[39m \u001b[43mcopier\u001b[49m\u001b[43m(\u001b[49m\u001b[43mx\u001b[49m\u001b[43m,\u001b[49m\u001b[43m \u001b[49m\u001b[43mmemo\u001b[49m\u001b[43m)\u001b[49m\n\u001b[0;32m    147\u001b[0m \u001b[38;5;28;01melse\u001b[39;00m:\n\u001b[0;32m    148\u001b[0m     \u001b[38;5;28;01mif\u001b[39;00m \u001b[38;5;28missubclass\u001b[39m(\u001b[38;5;28mcls\u001b[39m, \u001b[38;5;28mtype\u001b[39m):\n",
      "File \u001b[1;32mD:\\anaconda\\lib\\copy.py:231\u001b[0m, in \u001b[0;36m_deepcopy_dict\u001b[1;34m(x, memo, deepcopy)\u001b[0m\n\u001b[0;32m    229\u001b[0m memo[\u001b[38;5;28mid\u001b[39m(x)] \u001b[38;5;241m=\u001b[39m y\n\u001b[0;32m    230\u001b[0m \u001b[38;5;28;01mfor\u001b[39;00m key, value \u001b[38;5;129;01min\u001b[39;00m x\u001b[38;5;241m.\u001b[39mitems():\n\u001b[1;32m--> 231\u001b[0m     y[deepcopy(key, memo)] \u001b[38;5;241m=\u001b[39m \u001b[43mdeepcopy\u001b[49m\u001b[43m(\u001b[49m\u001b[43mvalue\u001b[49m\u001b[43m,\u001b[49m\u001b[43m \u001b[49m\u001b[43mmemo\u001b[49m\u001b[43m)\u001b[49m\n\u001b[0;32m    232\u001b[0m \u001b[38;5;28;01mreturn\u001b[39;00m y\n",
      "File \u001b[1;32mD:\\anaconda\\lib\\copy.py:172\u001b[0m, in \u001b[0;36mdeepcopy\u001b[1;34m(x, memo, _nil)\u001b[0m\n\u001b[0;32m    170\u001b[0m                 y \u001b[38;5;241m=\u001b[39m x\n\u001b[0;32m    171\u001b[0m             \u001b[38;5;28;01melse\u001b[39;00m:\n\u001b[1;32m--> 172\u001b[0m                 y \u001b[38;5;241m=\u001b[39m \u001b[43m_reconstruct\u001b[49m\u001b[43m(\u001b[49m\u001b[43mx\u001b[49m\u001b[43m,\u001b[49m\u001b[43m \u001b[49m\u001b[43mmemo\u001b[49m\u001b[43m,\u001b[49m\u001b[43m \u001b[49m\u001b[38;5;241;43m*\u001b[39;49m\u001b[43mrv\u001b[49m\u001b[43m)\u001b[49m\n\u001b[0;32m    174\u001b[0m \u001b[38;5;66;03m# If is its own copy, don't memoize.\u001b[39;00m\n\u001b[0;32m    175\u001b[0m \u001b[38;5;28;01mif\u001b[39;00m y \u001b[38;5;129;01mis\u001b[39;00m \u001b[38;5;129;01mnot\u001b[39;00m x:\n",
      "File \u001b[1;32mD:\\anaconda\\lib\\copy.py:265\u001b[0m, in \u001b[0;36m_reconstruct\u001b[1;34m(x, memo, func, args, state, listiter, dictiter, deepcopy)\u001b[0m\n\u001b[0;32m    263\u001b[0m \u001b[38;5;28;01mif\u001b[39;00m deep \u001b[38;5;129;01mand\u001b[39;00m args:\n\u001b[0;32m    264\u001b[0m     args \u001b[38;5;241m=\u001b[39m (deepcopy(arg, memo) \u001b[38;5;28;01mfor\u001b[39;00m arg \u001b[38;5;129;01min\u001b[39;00m args)\n\u001b[1;32m--> 265\u001b[0m y \u001b[38;5;241m=\u001b[39m \u001b[43mfunc\u001b[49m\u001b[43m(\u001b[49m\u001b[38;5;241;43m*\u001b[39;49m\u001b[43margs\u001b[49m\u001b[43m)\u001b[49m\n\u001b[0;32m    266\u001b[0m \u001b[38;5;28;01mif\u001b[39;00m deep:\n\u001b[0;32m    267\u001b[0m     memo[\u001b[38;5;28mid\u001b[39m(x)] \u001b[38;5;241m=\u001b[39m y\n",
      "File \u001b[1;32mD:\\anaconda\\lib\\copy.py:264\u001b[0m, in \u001b[0;36m<genexpr>\u001b[1;34m(.0)\u001b[0m\n\u001b[0;32m    262\u001b[0m deep \u001b[38;5;241m=\u001b[39m memo \u001b[38;5;129;01mis\u001b[39;00m \u001b[38;5;129;01mnot\u001b[39;00m \u001b[38;5;28;01mNone\u001b[39;00m\n\u001b[0;32m    263\u001b[0m \u001b[38;5;28;01mif\u001b[39;00m deep \u001b[38;5;129;01mand\u001b[39;00m args:\n\u001b[1;32m--> 264\u001b[0m     args \u001b[38;5;241m=\u001b[39m (\u001b[43mdeepcopy\u001b[49m\u001b[43m(\u001b[49m\u001b[43marg\u001b[49m\u001b[43m,\u001b[49m\u001b[43m \u001b[49m\u001b[43mmemo\u001b[49m\u001b[43m)\u001b[49m \u001b[38;5;28;01mfor\u001b[39;00m arg \u001b[38;5;129;01min\u001b[39;00m args)\n\u001b[0;32m    265\u001b[0m y \u001b[38;5;241m=\u001b[39m func(\u001b[38;5;241m*\u001b[39margs)\n\u001b[0;32m    266\u001b[0m \u001b[38;5;28;01mif\u001b[39;00m deep:\n",
      "File \u001b[1;32mD:\\anaconda\\lib\\copy.py:146\u001b[0m, in \u001b[0;36mdeepcopy\u001b[1;34m(x, memo, _nil)\u001b[0m\n\u001b[0;32m    144\u001b[0m copier \u001b[38;5;241m=\u001b[39m _deepcopy_dispatch\u001b[38;5;241m.\u001b[39mget(\u001b[38;5;28mcls\u001b[39m)\n\u001b[0;32m    145\u001b[0m \u001b[38;5;28;01mif\u001b[39;00m copier \u001b[38;5;129;01mis\u001b[39;00m \u001b[38;5;129;01mnot\u001b[39;00m \u001b[38;5;28;01mNone\u001b[39;00m:\n\u001b[1;32m--> 146\u001b[0m     y \u001b[38;5;241m=\u001b[39m \u001b[43mcopier\u001b[49m\u001b[43m(\u001b[49m\u001b[43mx\u001b[49m\u001b[43m,\u001b[49m\u001b[43m \u001b[49m\u001b[43mmemo\u001b[49m\u001b[43m)\u001b[49m\n\u001b[0;32m    147\u001b[0m \u001b[38;5;28;01melse\u001b[39;00m:\n\u001b[0;32m    148\u001b[0m     \u001b[38;5;28;01mif\u001b[39;00m \u001b[38;5;28missubclass\u001b[39m(\u001b[38;5;28mcls\u001b[39m, \u001b[38;5;28mtype\u001b[39m):\n",
      "File \u001b[1;32mD:\\anaconda\\lib\\copy.py:206\u001b[0m, in \u001b[0;36m_deepcopy_list\u001b[1;34m(x, memo, deepcopy)\u001b[0m\n\u001b[0;32m    204\u001b[0m append \u001b[38;5;241m=\u001b[39m y\u001b[38;5;241m.\u001b[39mappend\n\u001b[0;32m    205\u001b[0m \u001b[38;5;28;01mfor\u001b[39;00m a \u001b[38;5;129;01min\u001b[39;00m x:\n\u001b[1;32m--> 206\u001b[0m     append(\u001b[43mdeepcopy\u001b[49m\u001b[43m(\u001b[49m\u001b[43ma\u001b[49m\u001b[43m,\u001b[49m\u001b[43m \u001b[49m\u001b[43mmemo\u001b[49m\u001b[43m)\u001b[49m)\n\u001b[0;32m    207\u001b[0m \u001b[38;5;28;01mreturn\u001b[39;00m y\n",
      "File \u001b[1;32mD:\\anaconda\\lib\\copy.py:128\u001b[0m, in \u001b[0;36mdeepcopy\u001b[1;34m(x, memo, _nil)\u001b[0m\n\u001b[0;32m    124\u001b[0m     d[PyStringMap] \u001b[38;5;241m=\u001b[39m PyStringMap\u001b[38;5;241m.\u001b[39mcopy\n\u001b[0;32m    126\u001b[0m \u001b[38;5;28;01mdel\u001b[39;00m d, t\n\u001b[1;32m--> 128\u001b[0m \u001b[38;5;28;01mdef\u001b[39;00m \u001b[38;5;21mdeepcopy\u001b[39m(x, memo\u001b[38;5;241m=\u001b[39m\u001b[38;5;28;01mNone\u001b[39;00m, _nil\u001b[38;5;241m=\u001b[39m[]):\n\u001b[0;32m    129\u001b[0m     \u001b[38;5;124;03m\"\"\"Deep copy operation on arbitrary Python objects.\u001b[39;00m\n\u001b[0;32m    130\u001b[0m \n\u001b[0;32m    131\u001b[0m \u001b[38;5;124;03m    See the module's __doc__ string for more info.\u001b[39;00m\n\u001b[0;32m    132\u001b[0m \u001b[38;5;124;03m    \"\"\"\u001b[39;00m\n\u001b[0;32m    134\u001b[0m     \u001b[38;5;28;01mif\u001b[39;00m memo \u001b[38;5;129;01mis\u001b[39;00m \u001b[38;5;28;01mNone\u001b[39;00m:\n",
      "\u001b[1;31mKeyboardInterrupt\u001b[0m: "
     ]
    }
   ],
   "source": [
    "search( RW_PROBLEM_2, 'BF/FIFO', 10000000, loop_check=True)"
   ]
  },
  {
   "cell_type": "code",
   "execution_count": 22,
   "metadata": {},
   "outputs": [
    {
     "name": "stdout",
     "output_type": "stream",
     "text": [
      "This is the general SearchProblem parent class\n",
      "You must extend this class to encode a particular search problem.\n",
      "\n",
      "** Running Brandon's Search Algorithm **\n",
      "Strategy: mode=BF/FIFO, cost=None, heuristic=misplace\n",
      "Max search nodes: 10000000  (max number added to queue)\n",
      "Searching (will output '.' each 1000 goal_tests)\n",
      "\n",
      ":-)) *SUCCESS* ((-:\n",
      "\n",
      "Path length = 22\n",
      "Goal state is:\n",
      "Robot location: store room\n",
      "Robot carrying: ['key2', 'key1']\n",
      "Room contents: {'workshop': {'box'}, 'store room': {'hammer', 'anvil', 'suitcase', 'screwdriver'}, 'tool cupboard': {'saw'}, 'warehouse': {'crate', 'container', 'bucket'}}\n",
      "The action path to the solution is:\n",
      "    ('pick up', 'key2')\n",
      "    ('pick up', 'bucket')\n",
      "    ('move to', 'workshop')\n",
      "    ('move to', 'warehouse')\n",
      "    ('put down', 'bucket')\n",
      "    ('pick up', 'box')\n",
      "    ('move to', 'workshop')\n",
      "    ('put down', 'box')\n",
      "    ('pick up', 'key1')\n",
      "    ('move to', 'store room')\n",
      "    ('move to', 'tool cupboard')\n",
      "    ('pick up', 'anvil')\n",
      "    ('move to', 'store room')\n",
      "    ('put down', 'anvil')\n",
      "    ('move to', 'tool cupboard')\n",
      "    ('pick up', 'screwdriver')\n",
      "    ('move to', 'store room')\n",
      "    ('put down', 'screwdriver')\n",
      "    ('move to', 'tool cupboard')\n",
      "    ('pick up', 'hammer')\n",
      "    ('move to', 'store room')\n",
      "    ('put down', 'hammer')\n",
      "\n",
      "\n",
      "SEARCH SPACE STATS:\n",
      "Total nodes generated          =      997  (includes start)\n",
      "Nodes discarded by loop_check  =      347  (650 distinct states added to queue)\n",
      "Nodes tested (by goal_test)    =      227  (226 expanded + 1 goal)\n",
      "Nodes left in queue            =      423\n",
      "\n",
      "Time taken = 0.2668 seconds\n",
      "\n"
     ]
    },
    {
     "data": {
      "text/plain": [
       "'GOAL_STATE_FOUND'"
      ]
     },
     "execution_count": 22,
     "metadata": {},
     "output_type": "execute_result"
    }
   ],
   "source": [
    "search( RW_PROBLEM_2, 'BF/FIFO', 10000000, loop_check=True, heuristic=misplace)"
   ]
  },
  {
   "cell_type": "code",
   "execution_count": 23,
   "metadata": {},
   "outputs": [
    {
     "name": "stdout",
     "output_type": "stream",
     "text": [
      "This is the general SearchProblem parent class\n",
      "You must extend this class to encode a particular search problem.\n",
      "\n",
      "** Running Brandon's Search Algorithm **\n",
      "Strategy: mode=BF/FIFO, cost=None, heuristic=carry_item\n",
      "Max search nodes: 10000000  (max number added to queue)\n",
      "Searching (will output '.' each 1000 goal_tests)\n",
      "\n",
      ":-)) *SUCCESS* ((-:\n",
      "\n",
      "Path length = 22\n",
      "Goal state is:\n",
      "Robot location: store room\n",
      "Robot carrying: ['key2', 'key1']\n",
      "Room contents: {'workshop': {'box'}, 'store room': {'hammer', 'anvil', 'suitcase', 'screwdriver'}, 'tool cupboard': {'saw'}, 'warehouse': {'crate', 'container', 'bucket'}}\n",
      "The action path to the solution is:\n",
      "    ('pick up', 'key2')\n",
      "    ('pick up', 'bucket')\n",
      "    ('move to', 'workshop')\n",
      "    ('move to', 'warehouse')\n",
      "    ('put down', 'bucket')\n",
      "    ('pick up', 'box')\n",
      "    ('move to', 'workshop')\n",
      "    ('put down', 'box')\n",
      "    ('pick up', 'key1')\n",
      "    ('move to', 'store room')\n",
      "    ('move to', 'tool cupboard')\n",
      "    ('pick up', 'anvil')\n",
      "    ('move to', 'store room')\n",
      "    ('put down', 'anvil')\n",
      "    ('move to', 'tool cupboard')\n",
      "    ('pick up', 'screwdriver')\n",
      "    ('move to', 'store room')\n",
      "    ('put down', 'screwdriver')\n",
      "    ('move to', 'tool cupboard')\n",
      "    ('pick up', 'hammer')\n",
      "    ('move to', 'store room')\n",
      "    ('put down', 'hammer')\n",
      "\n",
      "\n",
      "SEARCH SPACE STATS:\n",
      "Total nodes generated          =      737  (includes start)\n",
      "Nodes discarded by loop_check  =      286  (451 distinct states added to queue)\n",
      "Nodes tested (by goal_test)    =      162  (161 expanded + 1 goal)\n",
      "Nodes left in queue            =      289\n",
      "\n",
      "Time taken = 0.1983 seconds\n",
      "\n"
     ]
    },
    {
     "data": {
      "text/plain": [
       "'GOAL_STATE_FOUND'"
      ]
     },
     "execution_count": 23,
     "metadata": {},
     "output_type": "execute_result"
    }
   ],
   "source": [
    "search( RW_PROBLEM_2, 'BF/FIFO', 10000000, loop_check=True, heuristic=carry_item)"
   ]
  },
  {
   "cell_type": "code",
   "execution_count": null,
   "metadata": {},
   "outputs": [],
   "source": [
    "search( RW_PROBLEM_2, 'BF/FIFO', 10000000, loop_check=True, heuristic=misplace, cost=thecost)"
   ]
  }
 ],
 "metadata": {
  "colab": {
   "provenance": []
  },
  "kernelspec": {
   "display_name": "Python 3 (ipykernel)",
   "language": "python",
   "name": "python3"
  },
  "language_info": {
   "codemirror_mode": {
    "name": "ipython",
    "version": 3
   },
   "file_extension": ".py",
   "mimetype": "text/x-python",
   "name": "python",
   "nbconvert_exporter": "python",
   "pygments_lexer": "ipython3",
   "version": "3.10.9"
  }
 },
 "nbformat": 4,
 "nbformat_minor": 1
}
