{
 "cells": [
  {
   "cell_type": "code",
   "execution_count": 1,
   "metadata": {
    "colab": {
     "base_uri": "https://localhost:8080/"
    },
    "id": "RnR9_Heq5nG_",
    "outputId": "0ed20914-994a-4b12-8ad9-4b27851729cb"
   },
   "outputs": [
    {
     "name": "stdout",
     "output_type": "stream",
     "text": [
      "Loading bbSearch Version 2.1 (at 21:54, Wed 26 Mar)\n",
      "Last module source code edit 9am Thursday 24th Feb 2022\n"
     ]
    }
   ],
   "source": [
    "from bbSearchRaw import SearchProblem, search"
   ]
  },
  {
   "cell_type": "code",
   "execution_count": 2,
   "metadata": {
    "id": "ngXq3qU75nHG"
   },
   "outputs": [],
   "source": [
    "class Robot:\n",
    "    def __init__(self, location, carried_items, strength):\n",
    "        self.location      = location\n",
    "        self.carried_items = carried_items\n",
    "        self.strength      = strength\n",
    "\n",
    "    def weight_carried(self):\n",
    "        return sum([ITEM_WEIGHT[i] for i in self.carried_items])\n",
    "\n",
    "    ## Define unique string representation for the state of the robot object\n",
    "    def __repr__(self):\n",
    "        return str( ( self.location,\n",
    "                      self.carried_items,\n",
    "                      self.strength ) )\n",
    "\n",
    "class Door:\n",
    "    def __init__(self, roomA, roomB, doorkey=None, locked=False):\n",
    "        self.goes_between = {roomA, roomB}\n",
    "        self.doorkey      = doorkey\n",
    "        self.locked       = locked\n",
    "        # Define handy dictionary to get room on other side of a door\n",
    "        self.other_loc = {roomA:roomB, roomB:roomA}\n",
    "\n",
    "    ## Define a unique string representation for a door object\n",
    "    def __repr__(self):\n",
    "        return str( (\"door\", self.goes_between, self.doorkey, self.locked) )"
   ]
  },
  {
   "cell_type": "code",
   "execution_count": 3,
   "metadata": {
    "id": "YAPNtW105nHJ"
   },
   "outputs": [],
   "source": [
    "class State:\n",
    "    def __init__( self, robot, doors, room_contents ):\n",
    "        self.robot = robot\n",
    "        self.doors = doors\n",
    "        self.room_contents = room_contents\n",
    "\n",
    "    ## Define a string representation that will be uniquely identify the state.\n",
    "    ## An easy way is to form a tuple of representations of the components of\n",
    "    ## the state, then form a string from that:\n",
    "    def __repr__(self):\n",
    "        return str( ( self.robot.__repr__(),\n",
    "                      [d.__repr__() for d in self.doors],\n",
    "                      self.room_contents ) )\n"
   ]
  },
  {
   "cell_type": "code",
   "execution_count": 5,
   "metadata": {
    "id": "cGVcn1h35nHP"
   },
   "outputs": [],
   "source": [
    "from copy import deepcopy\n",
    "\n",
    "class RobotWorker( SearchProblem ):\n",
    "\n",
    "    def __init__( self, state, goal_item_locations ):\n",
    "        self.initial_state = state\n",
    "        self.goal_item_locations = goal_item_locations\n",
    "\n",
    "    def possible_actions( self, state ):\n",
    "\n",
    "        robot_location = state.robot.location\n",
    "        strength       = state.robot.strength\n",
    "        weight_carried = state.robot.weight_carried()\n",
    "\n",
    "        actions = []\n",
    "        # Can put down any carried item\n",
    "        for i in state.robot.carried_items:\n",
    "            actions.append( (\"put down\", i) )\n",
    "\n",
    "        # Can pick up any item in room if strong enough修改\n",
    "        for i in state.room_contents[robot_location]:\n",
    "            if ITEM_WEIGHT[i]==0:\n",
    "                actions.append( (\"pick up\", i))\n",
    "            elif any(i in goal_items for goal_items in self.goal_item_locations.values()):\n",
    "                if strength >= weight_carried + ITEM_WEIGHT[i]:\n",
    "                    actions.append((\"pick up\", i))\n",
    "\n",
    "        # If there is an unlocked door between robot location and\n",
    "        # another location can move to that location\n",
    "#         print(state.doors)\n",
    "        for door in state.doors:\n",
    "            if  door.locked==False and robot_location in door.goes_between:\n",
    "                actions.append( (\"move to\", door.other_loc[robot_location]) )\n",
    "            elif door.locked==True and door.doorkey in state.robot.carried_items and robot_location in door.goes_between:\n",
    "#                 print(door)\n",
    "#                 print(robot_location)\n",
    "#                 print(door.doorkey)\n",
    "#                 print(door.other_loc[robot_location])\n",
    "                actions.append( (\"move to\", door.other_loc[robot_location]) )\n",
    "        # Now the actions list should contain all possible actions\n",
    "        return actions\n",
    "\n",
    "    def successor( self, state, action):\n",
    "        next_state = deepcopy(state)\n",
    "        act, target = action\n",
    "        if act== \"put down\":\n",
    "            next_state.robot.carried_items.remove(target)\n",
    "            next_state.room_contents[state.robot.location].add(target)\n",
    "\n",
    "        if act == \"pick up\":\n",
    "            next_state.robot.carried_items.append(target)\n",
    "            next_state.room_contents[state.robot.location].remove(target)\n",
    "\n",
    "        if act == \"move to\":\n",
    "            next_state.robot.location = target\n",
    "\n",
    "        return next_state\n",
    "\n",
    "    def goal_test(self, state):\n",
    "        #print(state.room_contents)\n",
    "        for room, contents in self.goal_item_locations.items():\n",
    "            for i in contents:\n",
    "                if not i in state.room_contents[room]:\n",
    "                    return False\n",
    "        return True\n",
    "\n",
    "    def display_state(self,state):\n",
    "        print(\"Robot location:\", state.robot.location)\n",
    "        print(\"Robot carrying:\", state.robot.carried_items)\n",
    "        print(\"Room contents:\", state.room_contents)"
   ]
  },
  {
   "cell_type": "markdown",
   "metadata": {},
   "source": [
    "## middle"
   ]
  },
  {
   "cell_type": "code",
   "execution_count": 4,
   "metadata": {
    "id": "5k_U8vNi5nHM"
   },
   "outputs": [],
   "source": [
    "# ROOM_CONTENTS = {\n",
    "#     'workshop'     : {'rusty key'},\n",
    "#     'store room'   : {'bucket', 'suitcase'},\n",
    "#     'tool cupboard' : {'sledge hammer', 'anvil', 'saw', 'screwdriver'},\n",
    "# }\n",
    "\n",
    "# ITEM_WEIGHT = {\n",
    "#       'rusty key' : 0,\n",
    "#          'bucket' : 2,\n",
    "#        'suitcase' : 4,\n",
    "#     'screwdriver' : 1,\n",
    "#   'sledge hammer' : 5,\n",
    "#           'anvil' : 12,\n",
    "#             'saw' : 2,\n",
    "# }\n",
    "\n",
    "# DOORS = [\n",
    "#     Door('workshop', 'store room' ),\n",
    "#     Door( 'store room', 'tool cupboard', doorkey='rusty key', locked=False )\n",
    "# ]\n",
    "ROOM_CONTENTS = {\n",
    "    'workshop'     : {'thing3'},\n",
    "    'store room'   : {'bucket', 'suitcase','key2','rusty key'},\n",
    "    'tool cupboard' : {'sledge hammer', 'anvil', 'saw', 'screwdriver'},\n",
    "    'room1': {'thing1', 'thing2'}\n",
    "}\n",
    "\n",
    "ITEM_WEIGHT = {\n",
    "      'rusty key' : 0,\n",
    "         'bucket' : 2,\n",
    "       'suitcase' : 4,\n",
    "    'screwdriver' : 1,\n",
    "  'sledge hammer' : 5,\n",
    "          'anvil' : 12,\n",
    "            'saw' : 2,\n",
    "    'thing1':3,\n",
    "    'thing2':8,\n",
    "    'thing3':10,\n",
    "    'key2':0\n",
    "}\n",
    "\n",
    "DOORS = [\n",
    "    Door('workshop', 'store room' ),\n",
    "    Door( 'store room', 'tool cupboard', doorkey='rusty key', locked=True),\n",
    "    Door( 'workshop', 'room1', doorkey='key2', locked=True ),\n",
    "    Door('room1','tool cupboard')\n",
    "]\n"
   ]
  },
  {
   "cell_type": "code",
   "execution_count": 6,
   "metadata": {
    "id": "GhVuYfAF5nHS"
   },
   "outputs": [],
   "source": [
    "# rob = Robot('store room', [], 15 )\n",
    "\n",
    "# state = State(rob, DOORS, ROOM_CONTENTS)\n",
    "\n",
    "# goal_item_locations =  {\"store room\":{\"sledge hammer\", \"screwdriver\", \"anvil\"}}\n",
    "\n",
    "# RW_PROBLEM_1 = RobotWorker( state, goal_item_locations )\n",
    "rob = Robot('store room', [], 15 )\n",
    "\n",
    "state = State(rob, DOORS, ROOM_CONTENTS)\n",
    "\n",
    "goal_item_locations =  {\n",
    "    \"workshop\":{\"thing1\"},\n",
    "    \"store room\":{\"sledge hammer\", \"screwdriver\", \"anvil\"},\n",
    "    \"room1\" :{\"bucket\"}\n",
    "}\n",
    "\n",
    "RW_PROBLEM_1 = RobotWorker( state, goal_item_locations )"
   ]
  },
  {
   "cell_type": "markdown",
   "metadata": {},
   "source": [
    "## hard"
   ]
  },
  {
   "cell_type": "code",
   "execution_count": 15,
   "metadata": {},
   "outputs": [],
   "source": [
    "ROOM_CONTENTS = {\n",
    "    'workshop'     : {'rusty key'},\n",
    "    'store room'   : {'bucket', 'suitcase','key2'},\n",
    "    'tool cupboard' : {'sledge hammer', 'anvil', 'saw', 'screwdriver'},\n",
    "    'room1': {'thing1', 'thing2','thing3'}\n",
    "}\n",
    "\n",
    "ITEM_WEIGHT = {\n",
    "      'rusty key' : 0,\n",
    "         'bucket' : 2,\n",
    "       'suitcase' : 4,\n",
    "    'screwdriver' : 1,\n",
    "  'sledge hammer' : 5,\n",
    "          'anvil' : 12,\n",
    "            'saw' : 2,\n",
    "    'thing1':3,\n",
    "    'thing2':8,\n",
    "    'thing3':10,\n",
    "    'key2':0\n",
    "}\n",
    "\n",
    "DOORS = [\n",
    "    Door('workshop', 'store room' ),\n",
    "    Door( 'store room', 'tool cupboard', doorkey='rusty key', locked=True),\n",
    "    Door( 'workshop', 'room1', doorkey='key2', locked=True ),\n",
    "    Door('room1','tool cupboard')\n",
    "]\n"
   ]
  },
  {
   "cell_type": "code",
   "execution_count": 16,
   "metadata": {},
   "outputs": [],
   "source": [
    "rob = Robot('store room', [], 15 )\n",
    "\n",
    "state = State(rob, DOORS, ROOM_CONTENTS)\n",
    "\n",
    "goal_item_locations =  {\n",
    "    \"workshop\":{\"thing1\"},\n",
    "    \"store room\":{\"sledge hammer\", \"screwdriver\", \"anvil\"},\n",
    "    \"room1\" :{\"bucket\"}\n",
    "}\n",
    "\n",
    "RW_PROBLEM_2 = RobotWorker( state, goal_item_locations )"
   ]
  },
  {
   "cell_type": "markdown",
   "metadata": {},
   "source": [
    "## 查看可能的动作"
   ]
  },
  {
   "cell_type": "code",
   "execution_count": 7,
   "metadata": {},
   "outputs": [
    {
     "data": {
      "text/plain": [
       "[('pick up', 'key2'),\n",
       " ('pick up', 'rusty key'),\n",
       " ('pick up', 'bucket'),\n",
       " ('move to', 'workshop')]"
      ]
     },
     "execution_count": 7,
     "metadata": {},
     "output_type": "execute_result"
    }
   ],
   "source": [
    "poss_acts = RW_PROBLEM_1.possible_actions( RW_PROBLEM_1.initial_state )\n",
    "poss_acts"
   ]
  },
  {
   "cell_type": "code",
   "execution_count": 8,
   "metadata": {},
   "outputs": [
    {
     "name": "stdout",
     "output_type": "stream",
     "text": [
      "Action ('pick up', 'key2') leads to the following state:\n",
      "Robot location: store room\n",
      "Robot carrying: ['key2']\n",
      "Room contents: {'workshop': {'thing3'}, 'store room': {'rusty key', 'bucket', 'suitcase'}, 'tool cupboard': {'sledge hammer', 'anvil', 'screwdriver', 'saw'}, 'room1': {'thing1', 'thing2'}}\n",
      "\n",
      "Action ('pick up', 'rusty key') leads to the following state:\n",
      "Robot location: store room\n",
      "Robot carrying: ['rusty key']\n",
      "Room contents: {'workshop': {'thing3'}, 'store room': {'key2', 'bucket', 'suitcase'}, 'tool cupboard': {'sledge hammer', 'anvil', 'screwdriver', 'saw'}, 'room1': {'thing1', 'thing2'}}\n",
      "\n",
      "Action ('pick up', 'bucket') leads to the following state:\n",
      "Robot location: store room\n",
      "Robot carrying: ['bucket']\n",
      "Room contents: {'workshop': {'thing3'}, 'store room': {'key2', 'rusty key', 'suitcase'}, 'tool cupboard': {'sledge hammer', 'anvil', 'screwdriver', 'saw'}, 'room1': {'thing1', 'thing2'}}\n",
      "\n",
      "Action ('move to', 'workshop') leads to the following state:\n",
      "Robot location: workshop\n",
      "Robot carrying: []\n",
      "Room contents: {'workshop': {'thing3'}, 'store room': {'key2', 'rusty key', 'bucket', 'suitcase'}, 'tool cupboard': {'sledge hammer', 'anvil', 'screwdriver', 'saw'}, 'room1': {'thing1', 'thing2'}}\n",
      "\n"
     ]
    }
   ],
   "source": [
    "for act in poss_acts:\n",
    "    print(\"Action\", act, \"leads to the following state:\")\n",
    "    next_state = RW_PROBLEM_1.successor( RW_PROBLEM_1.initial_state, act )\n",
    "    RW_PROBLEM_1.display_state(next_state)\n",
    "    print()"
   ]
  },
  {
   "cell_type": "markdown",
   "metadata": {},
   "source": [
    "## 没有启发式"
   ]
  },
  {
   "cell_type": "code",
   "execution_count": 18,
   "metadata": {
    "colab": {
     "base_uri": "https://localhost:8080/",
     "height": 680
    },
    "id": "kSbvvWPA5nHY",
    "outputId": "7933c83c-f5c4-4d95-ebfc-689d729ea775"
   },
   "outputs": [
    {
     "name": "stdout",
     "output_type": "stream",
     "text": [
      "This is the general SearchProblem parent class\n",
      "You must extend this class to encode a particular search problem.\n",
      "\n",
      "** Running Brandon's Search Algorithm **\n",
      "Strategy: mode=BF/FIFO, cost=None, heuristic=None\n",
      "Max search nodes: 100000  (max number added to queue)\n",
      "Searching (will output '.' each 1000 goal_tests)\n",
      ".........................................................\n",
      "!! Search node limit (100000) reached !!\n",
      "): No solution found :(\n",
      "\n",
      "\n",
      "SEARCH SPACE STATS:\n",
      "Total nodes generated          =   306595  (includes start)\n",
      "Nodes discarded by loop_check  =   206594  (100001 distinct states added to queue)\n",
      "Nodes tested (by goal_test)    =    57710  (all expanded)\n",
      "Nodes left in queue            =    42290\n",
      "\n",
      "Time taken = 43.4444 seconds\n",
      "\n"
     ]
    },
    {
     "data": {
      "text/plain": [
       "'NODE_LIMIT_EXCEEDED'"
      ]
     },
     "execution_count": 18,
     "metadata": {},
     "output_type": "execute_result"
    }
   ],
   "source": [
    "search( RW_PROBLEM_1, 'BF/FIFO', 100000, loop_check=True)"
   ]
  },
  {
   "cell_type": "markdown",
   "metadata": {},
   "source": [
    "## 启发式"
   ]
  },
  {
   "cell_type": "code",
   "execution_count": 11,
   "metadata": {
    "id": "q6FWq07B5nHa"
   },
   "outputs": [],
   "source": [
    "def heuristic(state,goal_position):\n",
    "    total_distance=0\n",
    "    for room, contents in state.room_contents.items():\n",
    "        if room in goal_position:\n",
    "            for i in contents:\n",
    "                if i not in goal_position[room]:\n",
    "                    total_distance +=1 \n",
    "    return total_distance"
   ]
  },
  {
   "cell_type": "code",
   "execution_count": 12,
   "metadata": {},
   "outputs": [
    {
     "name": "stdout",
     "output_type": "stream",
     "text": [
      "This is the general SearchProblem parent class\n",
      "You must extend this class to encode a particular search problem.\n",
      "\n",
      "** Running Brandon's Search Algorithm **\n",
      "Strategy: mode=BF/FIFO, cost=None, heuristic=heuristic\n",
      "Max search nodes: 100000  (max number added to queue)\n",
      "Searching (will output '.' each 1000 goal_tests)\n",
      "..........................\n",
      ":-)) *SUCCESS* ((-:\n",
      "\n",
      "Path length = 19\n",
      "Goal state is:\n",
      "Robot location: workshop\n",
      "Robot carrying: ['key2', 'rusty key']\n",
      "Room contents: {'workshop': {'thing3', 'thing1'}, 'store room': {'sledge hammer', 'screwdriver', 'anvil', 'suitcase'}, 'tool cupboard': {'saw'}, 'room1': {'bucket', 'thing2'}}\n",
      "The action path to the solution is:\n",
      "    ('pick up', 'key2')\n",
      "    ('pick up', 'rusty key')\n",
      "    ('pick up', 'bucket')\n",
      "    ('move to', 'workshop')\n",
      "    ('move to', 'room1')\n",
      "    ('pick up', 'thing1')\n",
      "    ('put down', 'bucket')\n",
      "    ('move to', 'tool cupboard')\n",
      "    ('pick up', 'sledge hammer')\n",
      "    ('pick up', 'screwdriver')\n",
      "    ('move to', 'store room')\n",
      "    ('put down', 'sledge hammer')\n",
      "    ('put down', 'screwdriver')\n",
      "    ('move to', 'tool cupboard')\n",
      "    ('pick up', 'anvil')\n",
      "    ('move to', 'store room')\n",
      "    ('put down', 'anvil')\n",
      "    ('move to', 'workshop')\n",
      "    ('put down', 'thing1')\n",
      "\n",
      "The state/action path to the solution is:\n",
      "Robot location: store room\n",
      "Robot carrying: []\n",
      "Room contents: {'workshop': {'thing3'}, 'store room': {'key2', 'rusty key', 'bucket', 'suitcase'}, 'tool cupboard': {'sledge hammer', 'anvil', 'screwdriver', 'saw'}, 'room1': {'thing1', 'thing2'}}\n",
      "    ('pick up', 'key2')\n",
      "Robot location: store room\n",
      "Robot carrying: ['key2']\n",
      "Room contents: {'workshop': {'thing3'}, 'store room': {'rusty key', 'bucket', 'suitcase'}, 'tool cupboard': {'sledge hammer', 'anvil', 'screwdriver', 'saw'}, 'room1': {'thing1', 'thing2'}}\n",
      "    ('pick up', 'rusty key')\n",
      "Robot location: store room\n",
      "Robot carrying: ['key2', 'rusty key']\n",
      "Room contents: {'workshop': {'thing3'}, 'store room': {'bucket', 'suitcase'}, 'tool cupboard': {'sledge hammer', 'anvil', 'screwdriver', 'saw'}, 'room1': {'thing1', 'thing2'}}\n",
      "    ('pick up', 'bucket')\n",
      "Robot location: store room\n",
      "Robot carrying: ['key2', 'rusty key', 'bucket']\n",
      "Room contents: {'workshop': {'thing3'}, 'store room': {'suitcase'}, 'tool cupboard': {'sledge hammer', 'anvil', 'screwdriver', 'saw'}, 'room1': {'thing1', 'thing2'}}\n",
      "    ('move to', 'workshop')\n",
      "Robot location: workshop\n",
      "Robot carrying: ['key2', 'rusty key', 'bucket']\n",
      "Room contents: {'workshop': {'thing3'}, 'store room': {'suitcase'}, 'tool cupboard': {'sledge hammer', 'anvil', 'screwdriver', 'saw'}, 'room1': {'thing1', 'thing2'}}\n",
      "    ('move to', 'room1')\n",
      "Robot location: room1\n",
      "Robot carrying: ['key2', 'rusty key', 'bucket']\n",
      "Room contents: {'workshop': {'thing3'}, 'store room': {'suitcase'}, 'tool cupboard': {'sledge hammer', 'anvil', 'screwdriver', 'saw'}, 'room1': {'thing1', 'thing2'}}\n",
      "    ('pick up', 'thing1')\n",
      "Robot location: room1\n",
      "Robot carrying: ['key2', 'rusty key', 'bucket', 'thing1']\n",
      "Room contents: {'workshop': {'thing3'}, 'store room': {'suitcase'}, 'tool cupboard': {'sledge hammer', 'anvil', 'screwdriver', 'saw'}, 'room1': {'thing2'}}\n",
      "    ('put down', 'bucket')\n",
      "Robot location: room1\n",
      "Robot carrying: ['key2', 'rusty key', 'thing1']\n",
      "Room contents: {'workshop': {'thing3'}, 'store room': {'suitcase'}, 'tool cupboard': {'sledge hammer', 'anvil', 'screwdriver', 'saw'}, 'room1': {'bucket', 'thing2'}}\n",
      "    ('move to', 'tool cupboard')\n",
      "Robot location: tool cupboard\n",
      "Robot carrying: ['key2', 'rusty key', 'thing1']\n",
      "Room contents: {'workshop': {'thing3'}, 'store room': {'suitcase'}, 'tool cupboard': {'sledge hammer', 'anvil', 'screwdriver', 'saw'}, 'room1': {'bucket', 'thing2'}}\n",
      "    ('pick up', 'sledge hammer')\n",
      "Robot location: tool cupboard\n",
      "Robot carrying: ['key2', 'rusty key', 'thing1', 'sledge hammer']\n",
      "Room contents: {'workshop': {'thing3'}, 'store room': {'suitcase'}, 'tool cupboard': {'anvil', 'screwdriver', 'saw'}, 'room1': {'bucket', 'thing2'}}\n",
      "    ('pick up', 'screwdriver')\n",
      "Robot location: tool cupboard\n",
      "Robot carrying: ['key2', 'rusty key', 'thing1', 'sledge hammer', 'screwdriver']\n",
      "Room contents: {'workshop': {'thing3'}, 'store room': {'suitcase'}, 'tool cupboard': {'anvil', 'saw'}, 'room1': {'bucket', 'thing2'}}\n",
      "    ('move to', 'store room')\n",
      "Robot location: store room\n",
      "Robot carrying: ['key2', 'rusty key', 'thing1', 'sledge hammer', 'screwdriver']\n",
      "Room contents: {'workshop': {'thing3'}, 'store room': {'suitcase'}, 'tool cupboard': {'anvil', 'saw'}, 'room1': {'bucket', 'thing2'}}\n",
      "    ('put down', 'sledge hammer')\n",
      "Robot location: store room\n",
      "Robot carrying: ['key2', 'rusty key', 'thing1', 'screwdriver']\n",
      "Room contents: {'workshop': {'thing3'}, 'store room': {'sledge hammer', 'suitcase'}, 'tool cupboard': {'anvil', 'saw'}, 'room1': {'bucket', 'thing2'}}\n",
      "    ('put down', 'screwdriver')\n",
      "Robot location: store room\n",
      "Robot carrying: ['key2', 'rusty key', 'thing1']\n",
      "Room contents: {'workshop': {'thing3'}, 'store room': {'sledge hammer', 'screwdriver', 'suitcase'}, 'tool cupboard': {'anvil', 'saw'}, 'room1': {'bucket', 'thing2'}}\n",
      "    ('move to', 'tool cupboard')\n",
      "Robot location: tool cupboard\n",
      "Robot carrying: ['key2', 'rusty key', 'thing1']\n",
      "Room contents: {'workshop': {'thing3'}, 'store room': {'sledge hammer', 'suitcase', 'screwdriver'}, 'tool cupboard': {'anvil', 'saw'}, 'room1': {'bucket', 'thing2'}}\n",
      "    ('pick up', 'anvil')\n",
      "Robot location: tool cupboard\n",
      "Robot carrying: ['key2', 'rusty key', 'thing1', 'anvil']\n",
      "Room contents: {'workshop': {'thing3'}, 'store room': {'sledge hammer', 'screwdriver', 'suitcase'}, 'tool cupboard': {'saw'}, 'room1': {'bucket', 'thing2'}}\n",
      "    ('move to', 'store room')\n",
      "Robot location: store room\n",
      "Robot carrying: ['key2', 'rusty key', 'thing1', 'anvil']\n",
      "Room contents: {'workshop': {'thing3'}, 'store room': {'sledge hammer', 'suitcase', 'screwdriver'}, 'tool cupboard': {'saw'}, 'room1': {'bucket', 'thing2'}}\n",
      "    ('put down', 'anvil')\n",
      "Robot location: store room\n",
      "Robot carrying: ['key2', 'rusty key', 'thing1']\n",
      "Room contents: {'workshop': {'thing3'}, 'store room': {'sledge hammer', 'screwdriver', 'anvil', 'suitcase'}, 'tool cupboard': {'saw'}, 'room1': {'bucket', 'thing2'}}\n",
      "    ('move to', 'workshop')\n",
      "Robot location: workshop\n",
      "Robot carrying: ['key2', 'rusty key', 'thing1']\n",
      "Room contents: {'workshop': {'thing3'}, 'store room': {'sledge hammer', 'suitcase', 'anvil', 'screwdriver'}, 'tool cupboard': {'saw'}, 'room1': {'bucket', 'thing2'}}\n",
      "    ('put down', 'thing1')\n",
      "Robot location: workshop\n",
      "Robot carrying: ['key2', 'rusty key']\n",
      "Room contents: {'workshop': {'thing3', 'thing1'}, 'store room': {'sledge hammer', 'screwdriver', 'anvil', 'suitcase'}, 'tool cupboard': {'saw'}, 'room1': {'bucket', 'thing2'}}\n",
      "\n",
      "SEARCH SPACE STATS:\n",
      "Total nodes generated          =   168186  (includes start)\n",
      "Nodes discarded by loop_check  =   119167  (49019 distinct states added to queue)\n",
      "Nodes tested (by goal_test)    =    26002  (26001 expanded + 1 goal)\n",
      "Nodes left in queue            =    23017\n",
      "\n",
      "Time taken = 24.1103 seconds\n",
      "\n"
     ]
    },
    {
     "data": {
      "text/plain": [
       "'GOAL_STATE_FOUND'"
      ]
     },
     "execution_count": 12,
     "metadata": {},
     "output_type": "execute_result"
    }
   ],
   "source": [
    "search( RW_PROBLEM_1, 'BF/FIFO', 100000, loop_check=True, heuristic=heuristic,show_state_path=True)"
   ]
  },
  {
   "cell_type": "code",
   "execution_count": 13,
   "metadata": {},
   "outputs": [],
   "source": [
    "def heuristic2 (state,goal_position):\n",
    "    total_distance=0\n",
    "    for room, contents in goal_position.items():\n",
    "            for i in contents:\n",
    "                if not i in state.room_contents[room]:\n",
    "                    total_distance +=1 \n",
    "    return total_distance"
   ]
  },
  {
   "cell_type": "code",
   "execution_count": 14,
   "metadata": {},
   "outputs": [
    {
     "name": "stdout",
     "output_type": "stream",
     "text": [
      "This is the general SearchProblem parent class\n",
      "You must extend this class to encode a particular search problem.\n",
      "\n",
      "** Running Brandon's Search Algorithm **\n",
      "Strategy: mode=BF/FIFO, cost=None, heuristic=heuristic2\n",
      "Max search nodes: 100000  (max number added to queue)\n",
      "Searching (will output '.' each 1000 goal_tests)\n",
      "\n",
      ":-)) *SUCCESS* ((-:\n",
      "\n",
      "Path length = 22\n",
      "Goal state is:\n",
      "Robot location: store room\n",
      "Robot carrying: ['key2', 'rusty key']\n",
      "Room contents: {'workshop': {'thing3', 'thing1'}, 'store room': {'sledge hammer', 'screwdriver', 'anvil', 'suitcase'}, 'tool cupboard': {'saw'}, 'room1': {'bucket', 'thing2'}}\n",
      "The action path to the solution is:\n",
      "    ('pick up', 'key2')\n",
      "    ('pick up', 'bucket')\n",
      "    ('move to', 'workshop')\n",
      "    ('move to', 'room1')\n",
      "    ('put down', 'bucket')\n",
      "    ('pick up', 'thing1')\n",
      "    ('move to', 'workshop')\n",
      "    ('put down', 'thing1')\n",
      "    ('move to', 'store room')\n",
      "    ('pick up', 'rusty key')\n",
      "    ('move to', 'tool cupboard')\n",
      "    ('pick up', 'sledge hammer')\n",
      "    ('move to', 'store room')\n",
      "    ('put down', 'sledge hammer')\n",
      "    ('move to', 'tool cupboard')\n",
      "    ('pick up', 'anvil')\n",
      "    ('move to', 'store room')\n",
      "    ('put down', 'anvil')\n",
      "    ('move to', 'tool cupboard')\n",
      "    ('pick up', 'screwdriver')\n",
      "    ('move to', 'store room')\n",
      "    ('put down', 'screwdriver')\n",
      "\n",
      "\n",
      "SEARCH SPACE STATS:\n",
      "Total nodes generated          =     1046  (includes start)\n",
      "Nodes discarded by loop_check  =      398  (648 distinct states added to queue)\n",
      "Nodes tested (by goal_test)    =      230  (229 expanded + 1 goal)\n",
      "Nodes left in queue            =      418\n",
      "\n",
      "Time taken = 0.7299 seconds\n",
      "\n"
     ]
    },
    {
     "data": {
      "text/plain": [
       "'GOAL_STATE_FOUND'"
      ]
     },
     "execution_count": 14,
     "metadata": {},
     "output_type": "execute_result"
    }
   ],
   "source": [
    "search( RW_PROBLEM_1, 'BF/FIFO', 100000, loop_check=True, heuristic=heuristic2)"
   ]
  },
  {
   "cell_type": "code",
   "execution_count": 17,
   "metadata": {},
   "outputs": [
    {
     "name": "stdout",
     "output_type": "stream",
     "text": [
      "This is the general SearchProblem parent class\n",
      "You must extend this class to encode a particular search problem.\n",
      "\n",
      "** Running Brandon's Search Algorithm **\n",
      "Strategy: mode=BF/FIFO, cost=None, heuristic=heuristic2\n",
      "Max search nodes: 100000  (max number added to queue)\n",
      "Searching (will output '.' each 1000 goal_tests)\n",
      "\n",
      ":-)) *SUCCESS* ((-:\n",
      "\n",
      "Path length = 22\n",
      "Goal state is:\n",
      "Robot location: store room\n",
      "Robot carrying: ['key2', 'rusty key']\n",
      "Room contents: {'workshop': {'thing1'}, 'store room': {'sledge hammer', 'screwdriver', 'anvil', 'suitcase'}, 'tool cupboard': {'saw'}, 'room1': {'thing3', 'bucket', 'thing2'}}\n",
      "The action path to the solution is:\n",
      "    ('pick up', 'key2')\n",
      "    ('pick up', 'bucket')\n",
      "    ('move to', 'workshop')\n",
      "    ('move to', 'room1')\n",
      "    ('put down', 'bucket')\n",
      "    ('pick up', 'thing1')\n",
      "    ('move to', 'workshop')\n",
      "    ('put down', 'thing1')\n",
      "    ('pick up', 'rusty key')\n",
      "    ('move to', 'store room')\n",
      "    ('move to', 'tool cupboard')\n",
      "    ('pick up', 'sledge hammer')\n",
      "    ('move to', 'store room')\n",
      "    ('put down', 'sledge hammer')\n",
      "    ('move to', 'tool cupboard')\n",
      "    ('pick up', 'anvil')\n",
      "    ('move to', 'store room')\n",
      "    ('put down', 'anvil')\n",
      "    ('move to', 'tool cupboard')\n",
      "    ('pick up', 'screwdriver')\n",
      "    ('move to', 'store room')\n",
      "    ('put down', 'screwdriver')\n",
      "\n",
      "\n",
      "SEARCH SPACE STATS:\n",
      "Total nodes generated          =      906  (includes start)\n",
      "Nodes discarded by loop_check  =      353  (553 distinct states added to queue)\n",
      "Nodes tested (by goal_test)    =      205  (204 expanded + 1 goal)\n",
      "Nodes left in queue            =      348\n",
      "\n",
      "Time taken = 0.1545 seconds\n",
      "\n"
     ]
    },
    {
     "data": {
      "text/plain": [
       "'GOAL_STATE_FOUND'"
      ]
     },
     "execution_count": 17,
     "metadata": {},
     "output_type": "execute_result"
    }
   ],
   "source": [
    "search( RW_PROBLEM_2, 'BF/FIFO', 100000, loop_check=True, heuristic=heuristic2)"
   ]
  },
  {
   "cell_type": "code",
   "execution_count": null,
   "metadata": {},
   "outputs": [],
   "source": []
  }
 ],
 "metadata": {
  "colab": {
   "provenance": []
  },
  "kernelspec": {
   "display_name": "Python 3 (ipykernel)",
   "language": "python",
   "name": "python3"
  },
  "language_info": {
   "codemirror_mode": {
    "name": "ipython",
    "version": 3
   },
   "file_extension": ".py",
   "mimetype": "text/x-python",
   "name": "python",
   "nbconvert_exporter": "python",
   "pygments_lexer": "ipython3",
   "version": "3.11.3"
  }
 },
 "nbformat": 4,
 "nbformat_minor": 1
}
