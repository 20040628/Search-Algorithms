{
 "cells": [
  {
   "cell_type": "code",
   "execution_count": 1,
   "id": "1d651cb9",
   "metadata": {},
   "outputs": [
    {
     "name": "stdout",
     "output_type": "stream",
     "text": [
      "Loading bbSearch Version 2.1 (at 21:58, Thu 20 Mar)\n",
      "Last module source code edit 9am Thursday 24th Feb 2022\n"
     ]
    }
   ],
   "source": [
    "from bbSearch import SearchProblem, search,thecost\n",
    "import math"
   ]
  },
  {
   "cell_type": "code",
   "execution_count": 2,
   "id": "42b30ae5",
   "metadata": {},
   "outputs": [],
   "source": [
    "import matplotlib.pyplot as plt\n",
    "import matplotlib.patches as patches\n",
    "from copy import deepcopy\n",
    "\n",
    "plt.ioff()  ## Turn off immediate display of plots\n",
    "\n",
    "COLORS = [\"lightgray\", \"red\", \"blue\", \"green\", \"yellow\",\n",
    "          \"orange\", \"purple\", \"pink\", \"brown\"]\n",
    "\n",
    "class BlockState:\n",
    "\n",
    "      # Specify mapping from directions to grid coordinate offsets:\n",
    "      neighbour_offset = {\"left\": (0,-1), \"right\": (0,+1), \"down\":(+1,0), \"up\":(-1,0)}\n",
    "\n",
    "      def __init__( self, blockstate, colors=COLORS ):\n",
    "        self.blockstate = blockstate\n",
    "        self.nrows = len(blockstate)\n",
    "        self.ncols = len(blockstate[0])\n",
    "        self.blocknums = set().union(*[set(row) for row in blockstate])\n",
    "        self.blocknums = self.blocknums - {0}\n",
    "        self.blocknumlist = list(self.blocknums)\n",
    "        self.colors = colors\n",
    "\n",
    "      def __repr__(self):\n",
    "        return( str( self.blockstate ))\n",
    "\n",
    "      # Find the cells occupied by a given number\n",
    "      def blockcells( self, blocknum ):\n",
    "          blockcells = []\n",
    "          for row in range(self.nrows):\n",
    "            for col in range(self.ncols):\n",
    "              if self.blockstate[row][col] == blocknum:\n",
    "                blockcells.append((row,col))\n",
    "          return blockcells\n",
    "\n",
    "      # Test if a cell is free (unblocked) in a given direction\n",
    "      # Free if not blocked by edge of grid or by a cell of different colour\n",
    "      def free_cell( self, direction, cell ):\n",
    "        row, col = cell\n",
    "        offrow, offcol = BlockState.neighbour_offset[direction]\n",
    "        neighrow, neighcol = (row + offrow, col + offcol)\n",
    "        if not (0 <= neighrow < self.nrows): return False #at top or bottom\n",
    "        if not (0 <= neighcol < self.ncols): return False #at left or right\n",
    "        neighval = self.blockstate[neighrow][neighcol]\n",
    "        # Neighboring cell must be empty or part of the same coloured block\n",
    "        return  (neighval==0 or neighval==self.blockstate[row][col])\n",
    "\n",
    "      def free_block( self, direction, blockn ):\n",
    "          blockcells = self.blockcells(blockn)\n",
    "          for cell in blockcells:\n",
    "            if not self.free_cell(direction, cell):\n",
    "              return False\n",
    "          return True\n",
    "\n",
    "      def possible_moves(self):\n",
    "        moves = []\n",
    "        for blocknum in self.blocknumlist:\n",
    "          for direction in [\"left\", \"right\", \"down\", \"up\"]:\n",
    "              if self.free_block(direction, blocknum):\n",
    "                  moves.append((blocknum, direction))\n",
    "        return moves\n",
    "\n",
    "      def next_state(self, move):\n",
    "          next_blockstate = deepcopy(self.blockstate)\n",
    "          blockno, direction = move\n",
    "          cells = self.blockcells(blockno)\n",
    "          ## first clear all cells of the block (set to 0)\n",
    "          for cell in cells:\n",
    "            row, col = cell\n",
    "            next_blockstate[row][col] = 0\n",
    "          rowoff, coloff = BlockState.neighbour_offset[direction]\n",
    "          ## now set all neighbour cells (in move direction) to be\n",
    "          ## cells with the blocknumber\n",
    "          for cell in cells:\n",
    "            row, col = cell\n",
    "            next_blockstate[row+rowoff][col+coloff] = blockno\n",
    "          return BlockState(next_blockstate)\n",
    "\n",
    "      def color_key(self):\n",
    "          return {b:self.colors[b] for b in self.blocknumlist}\n",
    "\n",
    "      def figure(self, scale=0.5):\n",
    "          nrows = self.nrows\n",
    "          ncols = self.ncols\n",
    "          fig, ax = plt.subplots(figsize=(ncols*scale+0.1,nrows*scale+0.1))\n",
    "          plt.close(fig)\n",
    "          ax.set_axis_off() # Don't show border lines and coordinate values\n",
    "\n",
    "          frame = patches.Rectangle((0,0),1,1, linewidth=5, edgecolor='k', facecolor='w')\n",
    "          ax.add_patch(frame)\n",
    "\n",
    "          for row in range(nrows):\n",
    "            for col in range(ncols):\n",
    "                greyrect = patches.Rectangle( (((col*0.9)/ncols)+0.05,\n",
    "                                               (((nrows-row-1)*0.9)/nrows)+0.05 ),\n",
    "                                            0.9/ncols, 0.9/nrows,\n",
    "                                            linewidth=1, edgecolor=\"gray\", facecolor=\"lightgray\")\n",
    "                ax.add_patch(greyrect)\n",
    "\n",
    "          for row in range(nrows):\n",
    "            for col in range(ncols):\n",
    "                cellval = self.blockstate[row][col]\n",
    "                if cellval > 0:\n",
    "                  cellcol = COLORS[cellval]\n",
    "                  rect = patches.Rectangle( (((col*0.9)/ncols)+0.05,\n",
    "                                             (((nrows-row-1)*0.9)/nrows)+0.05 ),\n",
    "                                            0.9/ncols, 0.9/nrows,\n",
    "                                            linewidth=0, edgecolor=cellcol, facecolor=cellcol)\n",
    "                  ax.add_patch(rect)\n",
    "          return fig\n",
    "\n",
    "      def display(self):\n",
    "          display(self.figure())"
   ]
  },
  {
   "cell_type": "code",
   "execution_count": 3,
   "id": "b8d7cf4a",
   "metadata": {},
   "outputs": [],
   "source": [
    "from copy import deepcopy\n",
    "class SlidingBlocksPuzzle( SearchProblem ):\n",
    "\n",
    "    def __init__( self, initial_state, goal, colors=COLORS ):\n",
    "        \"\"\"\n",
    "        The __init__ method must set the initial state for the search.\n",
    "        Arguments could be added to __init__ and used to configure the\n",
    "        initial state and/or other aspects of a problem instance.\n",
    "        \"\"\"\n",
    "        self.initial_state = BlockState(initial_state, colors=colors)\n",
    "        self.colors = colors\n",
    "        self.goal = BlockState(goal)\n",
    "\n",
    "    def info(self):\n",
    "        print(\"Solve the following sliding blocks problem.\")\n",
    "        print(\"Get from this initial state:\")\n",
    "        self.initial_state.display()\n",
    "        print(\"To a state incorporating the following block position(s):\")\n",
    "        self.goal.display()\n",
    "        print(\"You need to slide the red block to cover the bottom right square.\")\n",
    "\n",
    "    def possible_actions(self, state):\n",
    "        return state.possible_moves()\n",
    "\n",
    "    def successor(self, state, action):\n",
    "        \"\"\"\n",
    "        This takes a state and an action and returns the new state resulting\n",
    "        from doing that action in that state. You can assume that the given\n",
    "        action is in the list of 'possible_actions' for that state.\n",
    "        \"\"\"\n",
    "        return state.next_state(action)\n",
    "\n",
    "    def goal_test(self, state):\n",
    "        \"\"\"\n",
    "        For the sliding blocks puzzles, the goal condition is reached when\n",
    "        all block possitions specified in the given goal state are satisfied by\n",
    "        the current state. But empty positions (ie 0s) in the goal are ignored,\n",
    "        so can be occupied by blocks in the current sate.\n",
    "        \"\"\"\n",
    "        for row in range(state.nrows):\n",
    "          for col in range(state.ncols):\n",
    "            goalnum = self.goal.blockstate[row][col]\n",
    "            if goalnum==0:\n",
    "              continue\n",
    "            if goalnum != state.blockstate[row][col]:\n",
    "              return False\n",
    "        return True\n",
    "\n",
    "\n",
    "    def cost(self, path, state):\n",
    "        \"\"\"\n",
    "        This is an optional method that you only need to define if you are using\n",
    "        a cost based algorithm such as \"uniform cost\" or \"A*\". It should return\n",
    "        the cost of reaching a given state via a given path.\n",
    "        If this is not re-defined, it will is assumed that each action costs one unit\n",
    "        of effort to perform, so it returns the length of the path.\n",
    "        \"\"\"\n",
    "        return len(path)\n",
    "\n",
    "    def display_action(self, action):\n",
    "        \"\"\"\n",
    "        You can set the way an action will be displayed in outputs.\n",
    "        \"\"\"\n",
    "        print((self.colors[action[0]], action[1]))\n",
    "\n",
    "    def display_state(self, state):\n",
    "        \"\"\"\n",
    "        You can set the way a state will be displayed in outputs.\n",
    "        \"\"\"\n",
    "        state.display()\n",
    "\n",
    "    def display_state_path( self, actions ):\n",
    "        \"\"\"\n",
    "        This defines output of a solution path when a list of actions\n",
    "        is applied to the initial state. It assumes it is a valid path\n",
    "        with all actions being possible in the preceeding state.\n",
    "        You probably don't need to override this.\n",
    "        \"\"\"\n",
    "        s = self.initial_state\n",
    "        self.display_state(s)\n",
    "        for a in actions:\n",
    "            self.display_action(a)\n",
    "            s = self.successor(s,a)\n",
    "            self.display_state(s)"
   ]
  },
  {
   "cell_type": "code",
   "execution_count": 4,
   "id": "fe28feac",
   "metadata": {},
   "outputs": [],
   "source": [
    "def compute_anchor_points(state):\n",
    "    anchor_points = {}  # 存储每个滑块的“锚点”位置\n",
    "    block_positions = {}  # 记录滑块所有单元格的位置\n",
    "\n",
    "    for r, row in enumerate(state.blockstate):\n",
    "        for c, col in enumerate(row):\n",
    "            if col != 0:  # 如果是滑块\n",
    "                if col not in block_positions:\n",
    "                    block_positions[col] = []\n",
    "                block_positions[col].append((r, c))\n",
    "\n",
    "    # 计算每个滑块的锚点\n",
    "    for block, positions in block_positions.items():\n",
    "        # 方案 1: 选择左上角作为锚点\n",
    "        r_min, c_min = min(positions)\n",
    "\n",
    "        # 方案 2: 计算几何中心（平均坐标）\n",
    "        r_avg = sum(p[0] for p in positions) // len(positions)\n",
    "        c_avg = sum(p[1] for p in positions) // len(positions)\n",
    "\n",
    "        anchor_points[block] = (r_min, c_min)  # 或者使用 `(r_avg, c_avg)`\n",
    "\n",
    "    return anchor_points"
   ]
  },
  {
   "cell_type": "code",
   "execution_count": 5,
   "id": "94703054",
   "metadata": {},
   "outputs": [],
   "source": [
    "# # 有锚点的曼哈顿\n",
    "def manhattan_heuristic(state, goal_anchors):\n",
    "    total_distance = 0\n",
    "    state_anchors = compute_anchor_points(state)  # 计算当前状态的锚点\n",
    "\n",
    "    for block, (r, c) in state_anchors.items():\n",
    "        if block in goal_anchors:\n",
    "            r_goal, c_goal = goal_anchors[block]\n",
    "            total_distance += abs(r_goal - r) + abs(c_goal - c)  # 计算曼哈顿距离\n",
    "\n",
    "    return total_distance*2  # 乘了2，因为原本的，加上cost后时间变短了，说明cost的影响过多"
   ]
  },
  {
   "cell_type": "code",
   "execution_count": 6,
   "id": "78f622cd",
   "metadata": {},
   "outputs": [],
   "source": [
    "# 欧氏距离\n",
    "def straight_line_distance(state,goal_anchors):\n",
    "    total_distance = 0\n",
    "    state_anchors = compute_anchor_points(state)\n",
    "    \n",
    "    for block, (r, c) in state_anchors.items():\n",
    "        if block in goal_anchors:\n",
    "            r_goal, c_goal = goal_anchors[block]\n",
    "            total_distance += math.sqrt((r_goal - r) ** 2 + (c_goal - c) ** 2)\n",
    "    return total_distance*2"
   ]
  },
  {
   "cell_type": "markdown",
   "id": "b9ede3bd",
   "metadata": {},
   "source": [
    "## small_puzzle"
   ]
  },
  {
   "cell_type": "code",
   "execution_count": 7,
   "id": "959f6dd0",
   "metadata": {},
   "outputs": [],
   "source": [
    "small_initial = [[0,4,1,1],\n",
    "                 [0,0,1,3],\n",
    "                 [0,2,6,0],\n",
    "                 [2,2,6,0]]\n",
    "\n",
    "small_goal    = [[0,0,0,0],\n",
    "                 [0,0,0,0],\n",
    "                 [0,0,1,1],\n",
    "                 [0,0,1,0]]\n",
    "small_puzzle =  SlidingBlocksPuzzle( small_initial, small_goal )"
   ]
  },
  {
   "cell_type": "code",
   "execution_count": 8,
   "id": "989acb4f",
   "metadata": {},
   "outputs": [
    {
     "name": "stdout",
     "output_type": "stream",
     "text": [
      "Solve the following sliding blocks problem.\n",
      "Get from this initial state:\n"
     ]
    },
    {
     "data": {
      "image/png": "[encoded data removed]",
      "text/plain": [
       "<Figure size 210x210 with 1 Axes>"
      ]
     },
     "metadata": {},
     "output_type": "display_data"
    },
    {
     "name": "stdout",
     "output_type": "stream",
     "text": [
      "To a state incorporating the following block position(s):\n"
     ]
    },
    {
     "data": {
      "image/png": "[encoded data removed]",
      "text/plain": [
       "<Figure size 210x210 with 1 Axes>"
      ]
     },
     "metadata": {},
     "output_type": "display_data"
    },
    {
     "name": "stdout",
     "output_type": "stream",
     "text": [
      "You need to slide the red block to cover the bottom right square.\n",
      "\n",
      "** Running Brandon's Search Algorithm **\n",
      "Strategy: mode=BF/FIFO, cost=None, heuristic=manhattan_heuristic\n",
      "Max search nodes: 10000000  (max number added to queue)\n",
      "Searching (will output '.' each 1000 goal_tests)\n",
      "\n",
      ":-)) *SUCCESS* ((-:\n",
      "\n",
      "Path length = 8\n",
      "Goal state is:\n"
     ]
    },
    {
     "data": {
      "image/png": "[encoded data removed]",
      "text/plain": [
       "<Figure size 210x210 with 1 Axes>"
      ]
     },
     "metadata": {},
     "output_type": "display_data"
    },
    {
     "name": "stdout",
     "output_type": "stream",
     "text": [
      "The action path to the solution is:\n",
      "('blue', 'up')\n",
      "('green', 'down')\n",
      "('yellow', 'left')\n",
      "('blue', 'up')\n",
      "('purple', 'left')\n",
      "('red', 'down')\n",
      "('green', 'down')\n",
      "('red', 'down')\n",
      "\n",
      "The state/action path to the solution is:\n"
     ]
    },
    {
     "data": {
      "image/png": "[encoded data removed]",
      "text/plain": [
       "<Figure size 210x210 with 1 Axes>"
      ]
     },
     "metadata": {},
     "output_type": "display_data"
    },
    {
     "name": "stdout",
     "output_type": "stream",
     "text": [
      "('blue', 'up')\n"
     ]
    },
    {
     "data": {
      "image/png": "[encoded data removed]",
      "text/plain": [
       "<Figure size 210x210 with 1 Axes>"
      ]
     },
     "metadata": {},
     "output_type": "display_data"
    },
    {
     "name": "stdout",
     "output_type": "stream",
     "text": [
      "('green', 'down')\n"
     ]
    },
    {
     "data": {
      "image/png": "[encoded data removed]",
      "text/plain": [
       "<Figure size 210x210 with 1 Axes>"
      ]
     },
     "metadata": {},
     "output_type": "display_data"
    },
    {
     "name": "stdout",
     "output_type": "stream",
     "text": [
      "('yellow', 'left')\n"
     ]
    },
    {
     "data": {
      "image/png": "[encoded data removed]",
      "text/plain": [
       "<Figure size 210x210 with 1 Axes>"
      ]
     },
     "metadata": {},
     "output_type": "display_data"
    },
    {
     "name": "stdout",
     "output_type": "stream",
     "text": [
      "('blue', 'up')\n"
     ]
    },
    {
     "ename": "KeyboardInterrupt",
     "evalue": "",
     "output_type": "error",
     "traceback": [
      "\u001b[1;31m---------------------------------------------------------------------------\u001b[0m",
      "\u001b[1;31mKeyboardInterrupt\u001b[0m                         Traceback (most recent call last)",
      "Cell \u001b[1;32mIn[8], line 2\u001b[0m\n\u001b[0;32m      1\u001b[0m \u001b[38;5;66;03m# greedy(Manhattan Distance) loop_check=True\u001b[39;00m\n\u001b[1;32m----> 2\u001b[0m clever_search \u001b[38;5;241m=\u001b[39m \u001b[43msearch\u001b[49m\u001b[43m(\u001b[49m\u001b[43m \u001b[49m\u001b[43msmall_puzzle\u001b[49m\u001b[43m,\u001b[49m\u001b[43m \u001b[49m\u001b[38;5;124;43m'\u001b[39;49m\u001b[38;5;124;43mBF/FIFO\u001b[39;49m\u001b[38;5;124;43m'\u001b[39;49m\u001b[43m,\u001b[49m\u001b[43m \u001b[49m\u001b[38;5;241;43m10000000\u001b[39;49m\u001b[43m,\u001b[49m\u001b[43m \u001b[49m\u001b[43mheuristic\u001b[49m\u001b[43m \u001b[49m\u001b[38;5;241;43m=\u001b[39;49m\u001b[43m \u001b[49m\u001b[43mmanhattan_heuristic\u001b[49m\u001b[43m,\u001b[49m\n\u001b[0;32m      3\u001b[0m \u001b[43m                     \u001b[49m\u001b[43mloop_check\u001b[49m\u001b[38;5;241;43m=\u001b[39;49m\u001b[38;5;28;43;01mTrue\u001b[39;49;00m\u001b[43m,\u001b[49m\u001b[43m \u001b[49m\u001b[43mrandomise\u001b[49m\u001b[38;5;241;43m=\u001b[39;49m\u001b[38;5;28;43;01mFalse\u001b[39;49;00m\u001b[43m,\u001b[49m\u001b[43m \u001b[49m\u001b[43mshow_state_path\u001b[49m\u001b[38;5;241;43m=\u001b[39;49m\u001b[38;5;28;43;01mTrue\u001b[39;49;00m\u001b[43m,\u001b[49m\u001b[43m \u001b[49m\u001b[43mreturn_info\u001b[49m\u001b[38;5;241;43m=\u001b[39;49m\u001b[38;5;28;43;01mTrue\u001b[39;49;00m\u001b[43m)\u001b[49m\n",
      "File \u001b[1;32mD:\\3\\Artificial Intelligence\\Assessment1\\code\\Search-Algorithms\\bbSearch.py:481\u001b[0m, in \u001b[0;36msearch\u001b[1;34m(problem, mode, max_nodes, loop_check, randomise, cost, heuristic, show_path, show_state_path, dots, return_info)\u001b[0m\n\u001b[0;32m    479\u001b[0m \u001b[38;5;28;01mif\u001b[39;00m show_state_path:\n\u001b[0;32m    480\u001b[0m     \u001b[38;5;28mprint\u001b[39m(\u001b[38;5;124m\"\u001b[39m\u001b[38;5;124mThe state/action path to the solution is:\u001b[39m\u001b[38;5;124m\"\u001b[39m)\n\u001b[1;32m--> 481\u001b[0m     \u001b[43mproblem\u001b[49m\u001b[38;5;241;43m.\u001b[39;49m\u001b[43mdisplay_state_path\u001b[49m\u001b[43m(\u001b[49m\u001b[43mpath\u001b[49m\u001b[43m)\u001b[49m\n\u001b[0;32m    482\u001b[0m goal_state \u001b[38;5;241m=\u001b[39m state\n\u001b[0;32m    483\u001b[0m path_length \u001b[38;5;241m=\u001b[39m \u001b[38;5;28mlen\u001b[39m(path)\n",
      "Cell \u001b[1;32mIn[3], line 84\u001b[0m, in \u001b[0;36mSlidingBlocksPuzzle.display_state_path\u001b[1;34m(self, actions)\u001b[0m\n\u001b[0;32m     82\u001b[0m \u001b[38;5;28mself\u001b[39m\u001b[38;5;241m.\u001b[39mdisplay_action(a)\n\u001b[0;32m     83\u001b[0m s \u001b[38;5;241m=\u001b[39m \u001b[38;5;28mself\u001b[39m\u001b[38;5;241m.\u001b[39msuccessor(s,a)\n\u001b[1;32m---> 84\u001b[0m \u001b[38;5;28;43mself\u001b[39;49m\u001b[38;5;241;43m.\u001b[39;49m\u001b[43mdisplay_state\u001b[49m\u001b[43m(\u001b[49m\u001b[43ms\u001b[49m\u001b[43m)\u001b[49m\n",
      "Cell \u001b[1;32mIn[3], line 70\u001b[0m, in \u001b[0;36mSlidingBlocksPuzzle.display_state\u001b[1;34m(self, state)\u001b[0m\n\u001b[0;32m     66\u001b[0m \u001b[38;5;28;01mdef\u001b[39;00m \u001b[38;5;21mdisplay_state\u001b[39m(\u001b[38;5;28mself\u001b[39m, state):\n\u001b[0;32m     67\u001b[0m     \u001b[38;5;124;03m\"\"\"\u001b[39;00m\n\u001b[0;32m     68\u001b[0m \u001b[38;5;124;03m    You can set the way a state will be displayed in outputs.\u001b[39;00m\n\u001b[0;32m     69\u001b[0m \u001b[38;5;124;03m    \"\"\"\u001b[39;00m\n\u001b[1;32m---> 70\u001b[0m     \u001b[43mstate\u001b[49m\u001b[38;5;241;43m.\u001b[39;49m\u001b[43mdisplay\u001b[49m\u001b[43m(\u001b[49m\u001b[43m)\u001b[49m\n",
      "Cell \u001b[1;32mIn[2], line 113\u001b[0m, in \u001b[0;36mBlockState.display\u001b[1;34m(self)\u001b[0m\n\u001b[0;32m    112\u001b[0m \u001b[38;5;28;01mdef\u001b[39;00m \u001b[38;5;21mdisplay\u001b[39m(\u001b[38;5;28mself\u001b[39m):\n\u001b[1;32m--> 113\u001b[0m     \u001b[43mdisplay\u001b[49m\u001b[43m(\u001b[49m\u001b[38;5;28;43mself\u001b[39;49m\u001b[38;5;241;43m.\u001b[39;49m\u001b[43mfigure\u001b[49m\u001b[43m(\u001b[49m\u001b[43m)\u001b[49m\u001b[43m)\u001b[49m\n",
      "File \u001b[1;32mD:\\anaconda\\lib\\site-packages\\IPython\\core\\display_functions.py:298\u001b[0m, in \u001b[0;36mdisplay\u001b[1;34m(include, exclude, metadata, transient, display_id, raw, clear, *objs, **kwargs)\u001b[0m\n\u001b[0;32m    296\u001b[0m     publish_display_data(data\u001b[38;5;241m=\u001b[39mobj, metadata\u001b[38;5;241m=\u001b[39mmetadata, \u001b[38;5;241m*\u001b[39m\u001b[38;5;241m*\u001b[39mkwargs)\n\u001b[0;32m    297\u001b[0m \u001b[38;5;28;01melse\u001b[39;00m:\n\u001b[1;32m--> 298\u001b[0m     format_dict, md_dict \u001b[38;5;241m=\u001b[39m \u001b[38;5;28;43mformat\u001b[39;49m\u001b[43m(\u001b[49m\u001b[43mobj\u001b[49m\u001b[43m,\u001b[49m\u001b[43m \u001b[49m\u001b[43minclude\u001b[49m\u001b[38;5;241;43m=\u001b[39;49m\u001b[43minclude\u001b[49m\u001b[43m,\u001b[49m\u001b[43m \u001b[49m\u001b[43mexclude\u001b[49m\u001b[38;5;241;43m=\u001b[39;49m\u001b[43mexclude\u001b[49m\u001b[43m)\u001b[49m\n\u001b[0;32m    299\u001b[0m     \u001b[38;5;28;01mif\u001b[39;00m \u001b[38;5;129;01mnot\u001b[39;00m format_dict:\n\u001b[0;32m    300\u001b[0m         \u001b[38;5;66;03m# nothing to display (e.g. _ipython_display_ took over)\u001b[39;00m\n\u001b[0;32m    301\u001b[0m         \u001b[38;5;28;01mcontinue\u001b[39;00m\n",
      "File \u001b[1;32mD:\\anaconda\\lib\\site-packages\\IPython\\core\\formatters.py:177\u001b[0m, in \u001b[0;36mDisplayFormatter.format\u001b[1;34m(self, obj, include, exclude)\u001b[0m\n\u001b[0;32m    175\u001b[0m md \u001b[38;5;241m=\u001b[39m \u001b[38;5;28;01mNone\u001b[39;00m\n\u001b[0;32m    176\u001b[0m \u001b[38;5;28;01mtry\u001b[39;00m:\n\u001b[1;32m--> 177\u001b[0m     data \u001b[38;5;241m=\u001b[39m \u001b[43mformatter\u001b[49m\u001b[43m(\u001b[49m\u001b[43mobj\u001b[49m\u001b[43m)\u001b[49m\n\u001b[0;32m    178\u001b[0m \u001b[38;5;28;01mexcept\u001b[39;00m:\n\u001b[0;32m    179\u001b[0m     \u001b[38;5;66;03m# FIXME: log the exception\u001b[39;00m\n\u001b[0;32m    180\u001b[0m     \u001b[38;5;28;01mraise\u001b[39;00m\n",
      "File \u001b[1;32mD:\\anaconda\\lib\\site-packages\\decorator.py:232\u001b[0m, in \u001b[0;36mdecorate.<locals>.fun\u001b[1;34m(*args, **kw)\u001b[0m\n\u001b[0;32m    230\u001b[0m \u001b[38;5;28;01mif\u001b[39;00m \u001b[38;5;129;01mnot\u001b[39;00m kwsyntax:\n\u001b[0;32m    231\u001b[0m     args, kw \u001b[38;5;241m=\u001b[39m fix(args, kw, sig)\n\u001b[1;32m--> 232\u001b[0m \u001b[38;5;28;01mreturn\u001b[39;00m caller(func, \u001b[38;5;241m*\u001b[39m(extras \u001b[38;5;241m+\u001b[39m args), \u001b[38;5;241m*\u001b[39m\u001b[38;5;241m*\u001b[39mkw)\n",
      "File \u001b[1;32mD:\\anaconda\\lib\\site-packages\\IPython\\core\\formatters.py:221\u001b[0m, in \u001b[0;36mcatch_format_error\u001b[1;34m(method, self, *args, **kwargs)\u001b[0m\n\u001b[0;32m    219\u001b[0m \u001b[38;5;124;03m\"\"\"show traceback on failed format call\"\"\"\u001b[39;00m\n\u001b[0;32m    220\u001b[0m \u001b[38;5;28;01mtry\u001b[39;00m:\n\u001b[1;32m--> 221\u001b[0m     r \u001b[38;5;241m=\u001b[39m method(\u001b[38;5;28mself\u001b[39m, \u001b[38;5;241m*\u001b[39margs, \u001b[38;5;241m*\u001b[39m\u001b[38;5;241m*\u001b[39mkwargs)\n\u001b[0;32m    222\u001b[0m \u001b[38;5;28;01mexcept\u001b[39;00m \u001b[38;5;167;01mNotImplementedError\u001b[39;00m:\n\u001b[0;32m    223\u001b[0m     \u001b[38;5;66;03m# don't warn on NotImplementedErrors\u001b[39;00m\n\u001b[0;32m    224\u001b[0m     \u001b[38;5;28;01mreturn\u001b[39;00m \u001b[38;5;28mself\u001b[39m\u001b[38;5;241m.\u001b[39m_check_return(\u001b[38;5;28;01mNone\u001b[39;00m, args[\u001b[38;5;241m0\u001b[39m])\n",
      "File \u001b[1;32mD:\\anaconda\\lib\\site-packages\\IPython\\core\\formatters.py:338\u001b[0m, in \u001b[0;36mBaseFormatter.__call__\u001b[1;34m(self, obj)\u001b[0m\n\u001b[0;32m    336\u001b[0m     \u001b[38;5;28;01mpass\u001b[39;00m\n\u001b[0;32m    337\u001b[0m \u001b[38;5;28;01melse\u001b[39;00m:\n\u001b[1;32m--> 338\u001b[0m     \u001b[38;5;28;01mreturn\u001b[39;00m \u001b[43mprinter\u001b[49m\u001b[43m(\u001b[49m\u001b[43mobj\u001b[49m\u001b[43m)\u001b[49m\n\u001b[0;32m    339\u001b[0m \u001b[38;5;66;03m# Finally look for special method names\u001b[39;00m\n\u001b[0;32m    340\u001b[0m method \u001b[38;5;241m=\u001b[39m get_real_method(obj, \u001b[38;5;28mself\u001b[39m\u001b[38;5;241m.\u001b[39mprint_method)\n",
      "File \u001b[1;32mD:\\anaconda\\lib\\site-packages\\IPython\\core\\pylabtools.py:152\u001b[0m, in \u001b[0;36mprint_figure\u001b[1;34m(fig, fmt, bbox_inches, base64, **kwargs)\u001b[0m\n\u001b[0;32m    149\u001b[0m     \u001b[38;5;28;01mfrom\u001b[39;00m \u001b[38;5;21;01mmatplotlib\u001b[39;00m\u001b[38;5;21;01m.\u001b[39;00m\u001b[38;5;21;01mbackend_bases\u001b[39;00m \u001b[38;5;28;01mimport\u001b[39;00m FigureCanvasBase\n\u001b[0;32m    150\u001b[0m     FigureCanvasBase(fig)\n\u001b[1;32m--> 152\u001b[0m fig\u001b[38;5;241m.\u001b[39mcanvas\u001b[38;5;241m.\u001b[39mprint_figure(bytes_io, \u001b[38;5;241m*\u001b[39m\u001b[38;5;241m*\u001b[39mkw)\n\u001b[0;32m    153\u001b[0m data \u001b[38;5;241m=\u001b[39m bytes_io\u001b[38;5;241m.\u001b[39mgetvalue()\n\u001b[0;32m    154\u001b[0m \u001b[38;5;28;01mif\u001b[39;00m fmt \u001b[38;5;241m==\u001b[39m \u001b[38;5;124m'\u001b[39m\u001b[38;5;124msvg\u001b[39m\u001b[38;5;124m'\u001b[39m:\n",
      "File \u001b[1;32mD:\\anaconda\\lib\\site-packages\\matplotlib\\backend_bases.py:2362\u001b[0m, in \u001b[0;36mFigureCanvasBase.print_figure\u001b[1;34m(self, filename, dpi, facecolor, edgecolor, orientation, format, bbox_inches, pad_inches, bbox_extra_artists, backend, **kwargs)\u001b[0m\n\u001b[0;32m   2358\u001b[0m \u001b[38;5;28;01mtry\u001b[39;00m:\n\u001b[0;32m   2359\u001b[0m     \u001b[38;5;66;03m# _get_renderer may change the figure dpi (as vector formats\u001b[39;00m\n\u001b[0;32m   2360\u001b[0m     \u001b[38;5;66;03m# force the figure dpi to 72), so we need to set it again here.\u001b[39;00m\n\u001b[0;32m   2361\u001b[0m     \u001b[38;5;28;01mwith\u001b[39;00m cbook\u001b[38;5;241m.\u001b[39m_setattr_cm(\u001b[38;5;28mself\u001b[39m\u001b[38;5;241m.\u001b[39mfigure, dpi\u001b[38;5;241m=\u001b[39mdpi):\n\u001b[1;32m-> 2362\u001b[0m         result \u001b[38;5;241m=\u001b[39m print_method(\n\u001b[0;32m   2363\u001b[0m             filename,\n\u001b[0;32m   2364\u001b[0m             facecolor\u001b[38;5;241m=\u001b[39mfacecolor,\n\u001b[0;32m   2365\u001b[0m             edgecolor\u001b[38;5;241m=\u001b[39medgecolor,\n\u001b[0;32m   2366\u001b[0m             orientation\u001b[38;5;241m=\u001b[39morientation,\n\u001b[0;32m   2367\u001b[0m             bbox_inches_restore\u001b[38;5;241m=\u001b[39m_bbox_inches_restore,\n\u001b[0;32m   2368\u001b[0m             \u001b[38;5;241m*\u001b[39m\u001b[38;5;241m*\u001b[39mkwargs)\n\u001b[0;32m   2369\u001b[0m \u001b[38;5;28;01mfinally\u001b[39;00m:\n\u001b[0;32m   2370\u001b[0m     \u001b[38;5;28;01mif\u001b[39;00m bbox_inches \u001b[38;5;129;01mand\u001b[39;00m restore_bbox:\n",
      "File \u001b[1;32mD:\\anaconda\\lib\\site-packages\\matplotlib\\backend_bases.py:2228\u001b[0m, in \u001b[0;36mFigureCanvasBase._switch_canvas_and_return_print_method.<locals>.<lambda>\u001b[1;34m(*args, **kwargs)\u001b[0m\n\u001b[0;32m   2224\u001b[0m     optional_kws \u001b[38;5;241m=\u001b[39m {  \u001b[38;5;66;03m# Passed by print_figure for other renderers.\u001b[39;00m\n\u001b[0;32m   2225\u001b[0m         \u001b[38;5;124m\"\u001b[39m\u001b[38;5;124mdpi\u001b[39m\u001b[38;5;124m\"\u001b[39m, \u001b[38;5;124m\"\u001b[39m\u001b[38;5;124mfacecolor\u001b[39m\u001b[38;5;124m\"\u001b[39m, \u001b[38;5;124m\"\u001b[39m\u001b[38;5;124medgecolor\u001b[39m\u001b[38;5;124m\"\u001b[39m, \u001b[38;5;124m\"\u001b[39m\u001b[38;5;124morientation\u001b[39m\u001b[38;5;124m\"\u001b[39m,\n\u001b[0;32m   2226\u001b[0m         \u001b[38;5;124m\"\u001b[39m\u001b[38;5;124mbbox_inches_restore\u001b[39m\u001b[38;5;124m\"\u001b[39m}\n\u001b[0;32m   2227\u001b[0m     skip \u001b[38;5;241m=\u001b[39m optional_kws \u001b[38;5;241m-\u001b[39m {\u001b[38;5;241m*\u001b[39minspect\u001b[38;5;241m.\u001b[39msignature(meth)\u001b[38;5;241m.\u001b[39mparameters}\n\u001b[1;32m-> 2228\u001b[0m     print_method \u001b[38;5;241m=\u001b[39m functools\u001b[38;5;241m.\u001b[39mwraps(meth)(\u001b[38;5;28;01mlambda\u001b[39;00m \u001b[38;5;241m*\u001b[39margs, \u001b[38;5;241m*\u001b[39m\u001b[38;5;241m*\u001b[39mkwargs: meth(\n\u001b[0;32m   2229\u001b[0m         \u001b[38;5;241m*\u001b[39margs, \u001b[38;5;241m*\u001b[39m\u001b[38;5;241m*\u001b[39m{k: v \u001b[38;5;28;01mfor\u001b[39;00m k, v \u001b[38;5;129;01min\u001b[39;00m kwargs\u001b[38;5;241m.\u001b[39mitems() \u001b[38;5;28;01mif\u001b[39;00m k \u001b[38;5;129;01mnot\u001b[39;00m \u001b[38;5;129;01min\u001b[39;00m skip}))\n\u001b[0;32m   2230\u001b[0m \u001b[38;5;28;01melse\u001b[39;00m:  \u001b[38;5;66;03m# Let third-parties do as they see fit.\u001b[39;00m\n\u001b[0;32m   2231\u001b[0m     print_method \u001b[38;5;241m=\u001b[39m meth\n",
      "File \u001b[1;32mD:\\anaconda\\lib\\site-packages\\matplotlib\\backends\\backend_agg.py:509\u001b[0m, in \u001b[0;36mFigureCanvasAgg.print_png\u001b[1;34m(self, filename_or_obj, metadata, pil_kwargs)\u001b[0m\n\u001b[0;32m    462\u001b[0m \u001b[38;5;28;01mdef\u001b[39;00m \u001b[38;5;21mprint_png\u001b[39m(\u001b[38;5;28mself\u001b[39m, filename_or_obj, \u001b[38;5;241m*\u001b[39m, metadata\u001b[38;5;241m=\u001b[39m\u001b[38;5;28;01mNone\u001b[39;00m, pil_kwargs\u001b[38;5;241m=\u001b[39m\u001b[38;5;28;01mNone\u001b[39;00m):\n\u001b[0;32m    463\u001b[0m     \u001b[38;5;124;03m\"\"\"\u001b[39;00m\n\u001b[0;32m    464\u001b[0m \u001b[38;5;124;03m    Write the figure to a PNG file.\u001b[39;00m\n\u001b[0;32m    465\u001b[0m \n\u001b[1;32m   (...)\u001b[0m\n\u001b[0;32m    507\u001b[0m \u001b[38;5;124;03m        *metadata*, including the default 'Software' key.\u001b[39;00m\n\u001b[0;32m    508\u001b[0m \u001b[38;5;124;03m    \"\"\"\u001b[39;00m\n\u001b[1;32m--> 509\u001b[0m     \u001b[38;5;28;43mself\u001b[39;49m\u001b[38;5;241;43m.\u001b[39;49m\u001b[43m_print_pil\u001b[49m\u001b[43m(\u001b[49m\u001b[43mfilename_or_obj\u001b[49m\u001b[43m,\u001b[49m\u001b[43m \u001b[49m\u001b[38;5;124;43m\"\u001b[39;49m\u001b[38;5;124;43mpng\u001b[39;49m\u001b[38;5;124;43m\"\u001b[39;49m\u001b[43m,\u001b[49m\u001b[43m \u001b[49m\u001b[43mpil_kwargs\u001b[49m\u001b[43m,\u001b[49m\u001b[43m \u001b[49m\u001b[43mmetadata\u001b[49m\u001b[43m)\u001b[49m\n",
      "File \u001b[1;32mD:\\anaconda\\lib\\site-packages\\matplotlib\\backends\\backend_agg.py:457\u001b[0m, in \u001b[0;36mFigureCanvasAgg._print_pil\u001b[1;34m(self, filename_or_obj, fmt, pil_kwargs, metadata)\u001b[0m\n\u001b[0;32m    452\u001b[0m \u001b[38;5;28;01mdef\u001b[39;00m \u001b[38;5;21m_print_pil\u001b[39m(\u001b[38;5;28mself\u001b[39m, filename_or_obj, fmt, pil_kwargs, metadata\u001b[38;5;241m=\u001b[39m\u001b[38;5;28;01mNone\u001b[39;00m):\n\u001b[0;32m    453\u001b[0m     \u001b[38;5;124;03m\"\"\"\u001b[39;00m\n\u001b[0;32m    454\u001b[0m \u001b[38;5;124;03m    Draw the canvas, then save it using `.image.imsave` (to which\u001b[39;00m\n\u001b[0;32m    455\u001b[0m \u001b[38;5;124;03m    *pil_kwargs* and *metadata* are forwarded).\u001b[39;00m\n\u001b[0;32m    456\u001b[0m \u001b[38;5;124;03m    \"\"\"\u001b[39;00m\n\u001b[1;32m--> 457\u001b[0m     \u001b[43mFigureCanvasAgg\u001b[49m\u001b[38;5;241;43m.\u001b[39;49m\u001b[43mdraw\u001b[49m\u001b[43m(\u001b[49m\u001b[38;5;28;43mself\u001b[39;49m\u001b[43m)\u001b[49m\n\u001b[0;32m    458\u001b[0m     mpl\u001b[38;5;241m.\u001b[39mimage\u001b[38;5;241m.\u001b[39mimsave(\n\u001b[0;32m    459\u001b[0m         filename_or_obj, \u001b[38;5;28mself\u001b[39m\u001b[38;5;241m.\u001b[39mbuffer_rgba(), \u001b[38;5;28mformat\u001b[39m\u001b[38;5;241m=\u001b[39mfmt, origin\u001b[38;5;241m=\u001b[39m\u001b[38;5;124m\"\u001b[39m\u001b[38;5;124mupper\u001b[39m\u001b[38;5;124m\"\u001b[39m,\n\u001b[0;32m    460\u001b[0m         dpi\u001b[38;5;241m=\u001b[39m\u001b[38;5;28mself\u001b[39m\u001b[38;5;241m.\u001b[39mfigure\u001b[38;5;241m.\u001b[39mdpi, metadata\u001b[38;5;241m=\u001b[39mmetadata, pil_kwargs\u001b[38;5;241m=\u001b[39mpil_kwargs)\n",
      "File \u001b[1;32mD:\\anaconda\\lib\\site-packages\\matplotlib\\backends\\backend_agg.py:400\u001b[0m, in \u001b[0;36mFigureCanvasAgg.draw\u001b[1;34m(self)\u001b[0m\n\u001b[0;32m    396\u001b[0m \u001b[38;5;66;03m# Acquire a lock on the shared font cache.\u001b[39;00m\n\u001b[0;32m    397\u001b[0m \u001b[38;5;28;01mwith\u001b[39;00m RendererAgg\u001b[38;5;241m.\u001b[39mlock, \\\n\u001b[0;32m    398\u001b[0m      (\u001b[38;5;28mself\u001b[39m\u001b[38;5;241m.\u001b[39mtoolbar\u001b[38;5;241m.\u001b[39m_wait_cursor_for_draw_cm() \u001b[38;5;28;01mif\u001b[39;00m \u001b[38;5;28mself\u001b[39m\u001b[38;5;241m.\u001b[39mtoolbar\n\u001b[0;32m    399\u001b[0m       \u001b[38;5;28;01melse\u001b[39;00m nullcontext()):\n\u001b[1;32m--> 400\u001b[0m     \u001b[38;5;28;43mself\u001b[39;49m\u001b[38;5;241;43m.\u001b[39;49m\u001b[43mfigure\u001b[49m\u001b[38;5;241;43m.\u001b[39;49m\u001b[43mdraw\u001b[49m\u001b[43m(\u001b[49m\u001b[38;5;28;43mself\u001b[39;49m\u001b[38;5;241;43m.\u001b[39;49m\u001b[43mrenderer\u001b[49m\u001b[43m)\u001b[49m\n\u001b[0;32m    401\u001b[0m     \u001b[38;5;66;03m# A GUI class may be need to update a window using this draw, so\u001b[39;00m\n\u001b[0;32m    402\u001b[0m     \u001b[38;5;66;03m# don't forget to call the superclass.\u001b[39;00m\n\u001b[0;32m    403\u001b[0m     \u001b[38;5;28msuper\u001b[39m()\u001b[38;5;241m.\u001b[39mdraw()\n",
      "File \u001b[1;32mD:\\anaconda\\lib\\site-packages\\matplotlib\\artist.py:95\u001b[0m, in \u001b[0;36m_finalize_rasterization.<locals>.draw_wrapper\u001b[1;34m(artist, renderer, *args, **kwargs)\u001b[0m\n\u001b[0;32m     93\u001b[0m \u001b[38;5;129m@wraps\u001b[39m(draw)\n\u001b[0;32m     94\u001b[0m \u001b[38;5;28;01mdef\u001b[39;00m \u001b[38;5;21mdraw_wrapper\u001b[39m(artist, renderer, \u001b[38;5;241m*\u001b[39margs, \u001b[38;5;241m*\u001b[39m\u001b[38;5;241m*\u001b[39mkwargs):\n\u001b[1;32m---> 95\u001b[0m     result \u001b[38;5;241m=\u001b[39m draw(artist, renderer, \u001b[38;5;241m*\u001b[39margs, \u001b[38;5;241m*\u001b[39m\u001b[38;5;241m*\u001b[39mkwargs)\n\u001b[0;32m     96\u001b[0m     \u001b[38;5;28;01mif\u001b[39;00m renderer\u001b[38;5;241m.\u001b[39m_rasterizing:\n\u001b[0;32m     97\u001b[0m         renderer\u001b[38;5;241m.\u001b[39mstop_rasterizing()\n",
      "File \u001b[1;32mD:\\anaconda\\lib\\site-packages\\matplotlib\\artist.py:72\u001b[0m, in \u001b[0;36mallow_rasterization.<locals>.draw_wrapper\u001b[1;34m(artist, renderer)\u001b[0m\n\u001b[0;32m     69\u001b[0m     \u001b[38;5;28;01mif\u001b[39;00m artist\u001b[38;5;241m.\u001b[39mget_agg_filter() \u001b[38;5;129;01mis\u001b[39;00m \u001b[38;5;129;01mnot\u001b[39;00m \u001b[38;5;28;01mNone\u001b[39;00m:\n\u001b[0;32m     70\u001b[0m         renderer\u001b[38;5;241m.\u001b[39mstart_filter()\n\u001b[1;32m---> 72\u001b[0m     \u001b[38;5;28;01mreturn\u001b[39;00m \u001b[43mdraw\u001b[49m\u001b[43m(\u001b[49m\u001b[43martist\u001b[49m\u001b[43m,\u001b[49m\u001b[43m \u001b[49m\u001b[43mrenderer\u001b[49m\u001b[43m)\u001b[49m\n\u001b[0;32m     73\u001b[0m \u001b[38;5;28;01mfinally\u001b[39;00m:\n\u001b[0;32m     74\u001b[0m     \u001b[38;5;28;01mif\u001b[39;00m artist\u001b[38;5;241m.\u001b[39mget_agg_filter() \u001b[38;5;129;01mis\u001b[39;00m \u001b[38;5;129;01mnot\u001b[39;00m \u001b[38;5;28;01mNone\u001b[39;00m:\n",
      "File \u001b[1;32mD:\\anaconda\\lib\\site-packages\\matplotlib\\figure.py:3125\u001b[0m, in \u001b[0;36mFigure.draw\u001b[1;34m(self, renderer)\u001b[0m\n\u001b[0;32m   3122\u001b[0m         \u001b[38;5;66;03m# ValueError can occur when resizing a window.\u001b[39;00m\n\u001b[0;32m   3124\u001b[0m \u001b[38;5;28mself\u001b[39m\u001b[38;5;241m.\u001b[39mpatch\u001b[38;5;241m.\u001b[39mdraw(renderer)\n\u001b[1;32m-> 3125\u001b[0m \u001b[43mmimage\u001b[49m\u001b[38;5;241;43m.\u001b[39;49m\u001b[43m_draw_list_compositing_images\u001b[49m\u001b[43m(\u001b[49m\n\u001b[0;32m   3126\u001b[0m \u001b[43m    \u001b[49m\u001b[43mrenderer\u001b[49m\u001b[43m,\u001b[49m\u001b[43m \u001b[49m\u001b[38;5;28;43mself\u001b[39;49m\u001b[43m,\u001b[49m\u001b[43m \u001b[49m\u001b[43martists\u001b[49m\u001b[43m,\u001b[49m\u001b[43m \u001b[49m\u001b[38;5;28;43mself\u001b[39;49m\u001b[38;5;241;43m.\u001b[39;49m\u001b[43msuppressComposite\u001b[49m\u001b[43m)\u001b[49m\n\u001b[0;32m   3128\u001b[0m \u001b[38;5;28;01mfor\u001b[39;00m sfig \u001b[38;5;129;01min\u001b[39;00m \u001b[38;5;28mself\u001b[39m\u001b[38;5;241m.\u001b[39msubfigs:\n\u001b[0;32m   3129\u001b[0m     sfig\u001b[38;5;241m.\u001b[39mdraw(renderer)\n",
      "File \u001b[1;32mD:\\anaconda\\lib\\site-packages\\matplotlib\\image.py:131\u001b[0m, in \u001b[0;36m_draw_list_compositing_images\u001b[1;34m(renderer, parent, artists, suppress_composite)\u001b[0m\n\u001b[0;32m    129\u001b[0m \u001b[38;5;28;01mif\u001b[39;00m not_composite \u001b[38;5;129;01mor\u001b[39;00m \u001b[38;5;129;01mnot\u001b[39;00m has_images:\n\u001b[0;32m    130\u001b[0m     \u001b[38;5;28;01mfor\u001b[39;00m a \u001b[38;5;129;01min\u001b[39;00m artists:\n\u001b[1;32m--> 131\u001b[0m         \u001b[43ma\u001b[49m\u001b[38;5;241;43m.\u001b[39;49m\u001b[43mdraw\u001b[49m\u001b[43m(\u001b[49m\u001b[43mrenderer\u001b[49m\u001b[43m)\u001b[49m\n\u001b[0;32m    132\u001b[0m \u001b[38;5;28;01melse\u001b[39;00m:\n\u001b[0;32m    133\u001b[0m     \u001b[38;5;66;03m# Composite any adjacent images together\u001b[39;00m\n\u001b[0;32m    134\u001b[0m     image_group \u001b[38;5;241m=\u001b[39m []\n",
      "File \u001b[1;32mD:\\anaconda\\lib\\site-packages\\matplotlib\\artist.py:72\u001b[0m, in \u001b[0;36mallow_rasterization.<locals>.draw_wrapper\u001b[1;34m(artist, renderer)\u001b[0m\n\u001b[0;32m     69\u001b[0m     \u001b[38;5;28;01mif\u001b[39;00m artist\u001b[38;5;241m.\u001b[39mget_agg_filter() \u001b[38;5;129;01mis\u001b[39;00m \u001b[38;5;129;01mnot\u001b[39;00m \u001b[38;5;28;01mNone\u001b[39;00m:\n\u001b[0;32m     70\u001b[0m         renderer\u001b[38;5;241m.\u001b[39mstart_filter()\n\u001b[1;32m---> 72\u001b[0m     \u001b[38;5;28;01mreturn\u001b[39;00m \u001b[43mdraw\u001b[49m\u001b[43m(\u001b[49m\u001b[43martist\u001b[49m\u001b[43m,\u001b[49m\u001b[43m \u001b[49m\u001b[43mrenderer\u001b[49m\u001b[43m)\u001b[49m\n\u001b[0;32m     73\u001b[0m \u001b[38;5;28;01mfinally\u001b[39;00m:\n\u001b[0;32m     74\u001b[0m     \u001b[38;5;28;01mif\u001b[39;00m artist\u001b[38;5;241m.\u001b[39mget_agg_filter() \u001b[38;5;129;01mis\u001b[39;00m \u001b[38;5;129;01mnot\u001b[39;00m \u001b[38;5;28;01mNone\u001b[39;00m:\n",
      "File \u001b[1;32mD:\\anaconda\\lib\\site-packages\\matplotlib\\axes\\_base.py:3066\u001b[0m, in \u001b[0;36m_AxesBase.draw\u001b[1;34m(self, renderer)\u001b[0m\n\u001b[0;32m   3063\u001b[0m \u001b[38;5;28;01mif\u001b[39;00m artists_rasterized:\n\u001b[0;32m   3064\u001b[0m     _draw_rasterized(\u001b[38;5;28mself\u001b[39m\u001b[38;5;241m.\u001b[39mfigure, artists_rasterized, renderer)\n\u001b[1;32m-> 3066\u001b[0m \u001b[43mmimage\u001b[49m\u001b[38;5;241;43m.\u001b[39;49m\u001b[43m_draw_list_compositing_images\u001b[49m\u001b[43m(\u001b[49m\n\u001b[0;32m   3067\u001b[0m \u001b[43m    \u001b[49m\u001b[43mrenderer\u001b[49m\u001b[43m,\u001b[49m\u001b[43m \u001b[49m\u001b[38;5;28;43mself\u001b[39;49m\u001b[43m,\u001b[49m\u001b[43m \u001b[49m\u001b[43martists\u001b[49m\u001b[43m,\u001b[49m\u001b[43m \u001b[49m\u001b[38;5;28;43mself\u001b[39;49m\u001b[38;5;241;43m.\u001b[39;49m\u001b[43mfigure\u001b[49m\u001b[38;5;241;43m.\u001b[39;49m\u001b[43msuppressComposite\u001b[49m\u001b[43m)\u001b[49m\n\u001b[0;32m   3069\u001b[0m renderer\u001b[38;5;241m.\u001b[39mclose_group(\u001b[38;5;124m'\u001b[39m\u001b[38;5;124maxes\u001b[39m\u001b[38;5;124m'\u001b[39m)\n\u001b[0;32m   3070\u001b[0m \u001b[38;5;28mself\u001b[39m\u001b[38;5;241m.\u001b[39mstale \u001b[38;5;241m=\u001b[39m \u001b[38;5;28;01mFalse\u001b[39;00m\n",
      "File \u001b[1;32mD:\\anaconda\\lib\\site-packages\\matplotlib\\image.py:131\u001b[0m, in \u001b[0;36m_draw_list_compositing_images\u001b[1;34m(renderer, parent, artists, suppress_composite)\u001b[0m\n\u001b[0;32m    129\u001b[0m \u001b[38;5;28;01mif\u001b[39;00m not_composite \u001b[38;5;129;01mor\u001b[39;00m \u001b[38;5;129;01mnot\u001b[39;00m has_images:\n\u001b[0;32m    130\u001b[0m     \u001b[38;5;28;01mfor\u001b[39;00m a \u001b[38;5;129;01min\u001b[39;00m artists:\n\u001b[1;32m--> 131\u001b[0m         \u001b[43ma\u001b[49m\u001b[38;5;241;43m.\u001b[39;49m\u001b[43mdraw\u001b[49m\u001b[43m(\u001b[49m\u001b[43mrenderer\u001b[49m\u001b[43m)\u001b[49m\n\u001b[0;32m    132\u001b[0m \u001b[38;5;28;01melse\u001b[39;00m:\n\u001b[0;32m    133\u001b[0m     \u001b[38;5;66;03m# Composite any adjacent images together\u001b[39;00m\n\u001b[0;32m    134\u001b[0m     image_group \u001b[38;5;241m=\u001b[39m []\n",
      "File \u001b[1;32mD:\\anaconda\\lib\\site-packages\\matplotlib\\artist.py:72\u001b[0m, in \u001b[0;36mallow_rasterization.<locals>.draw_wrapper\u001b[1;34m(artist, renderer)\u001b[0m\n\u001b[0;32m     69\u001b[0m     \u001b[38;5;28;01mif\u001b[39;00m artist\u001b[38;5;241m.\u001b[39mget_agg_filter() \u001b[38;5;129;01mis\u001b[39;00m \u001b[38;5;129;01mnot\u001b[39;00m \u001b[38;5;28;01mNone\u001b[39;00m:\n\u001b[0;32m     70\u001b[0m         renderer\u001b[38;5;241m.\u001b[39mstart_filter()\n\u001b[1;32m---> 72\u001b[0m     \u001b[38;5;28;01mreturn\u001b[39;00m \u001b[43mdraw\u001b[49m\u001b[43m(\u001b[49m\u001b[43martist\u001b[49m\u001b[43m,\u001b[49m\u001b[43m \u001b[49m\u001b[43mrenderer\u001b[49m\u001b[43m)\u001b[49m\n\u001b[0;32m     73\u001b[0m \u001b[38;5;28;01mfinally\u001b[39;00m:\n\u001b[0;32m     74\u001b[0m     \u001b[38;5;28;01mif\u001b[39;00m artist\u001b[38;5;241m.\u001b[39mget_agg_filter() \u001b[38;5;129;01mis\u001b[39;00m \u001b[38;5;129;01mnot\u001b[39;00m \u001b[38;5;28;01mNone\u001b[39;00m:\n",
      "File \u001b[1;32mD:\\anaconda\\lib\\site-packages\\matplotlib\\patches.py:591\u001b[0m, in \u001b[0;36mPatch.draw\u001b[1;34m(self, renderer)\u001b[0m\n\u001b[0;32m    589\u001b[0m tpath \u001b[38;5;241m=\u001b[39m transform\u001b[38;5;241m.\u001b[39mtransform_path_non_affine(path)\n\u001b[0;32m    590\u001b[0m affine \u001b[38;5;241m=\u001b[39m transform\u001b[38;5;241m.\u001b[39mget_affine()\n\u001b[1;32m--> 591\u001b[0m \u001b[38;5;28;43mself\u001b[39;49m\u001b[38;5;241;43m.\u001b[39;49m\u001b[43m_draw_paths_with_artist_properties\u001b[49m\u001b[43m(\u001b[49m\n\u001b[0;32m    592\u001b[0m \u001b[43m    \u001b[49m\u001b[43mrenderer\u001b[49m\u001b[43m,\u001b[49m\n\u001b[0;32m    593\u001b[0m \u001b[43m    \u001b[49m\u001b[43m[\u001b[49m\u001b[43m(\u001b[49m\u001b[43mtpath\u001b[49m\u001b[43m,\u001b[49m\u001b[43m \u001b[49m\u001b[43maffine\u001b[49m\u001b[43m,\u001b[49m\n\u001b[0;32m    594\u001b[0m \u001b[43m      \u001b[49m\u001b[38;5;66;43;03m# Work around a bug in the PDF and SVG renderers, which\u001b[39;49;00m\n\u001b[0;32m    595\u001b[0m \u001b[43m      \u001b[49m\u001b[38;5;66;43;03m# do not draw the hatches if the facecolor is fully\u001b[39;49;00m\n\u001b[0;32m    596\u001b[0m \u001b[43m      \u001b[49m\u001b[38;5;66;43;03m# transparent, but do if it is None.\u001b[39;49;00m\n\u001b[0;32m    597\u001b[0m \u001b[43m      \u001b[49m\u001b[38;5;28;43mself\u001b[39;49m\u001b[38;5;241;43m.\u001b[39;49m\u001b[43m_facecolor\u001b[49m\u001b[43m \u001b[49m\u001b[38;5;28;43;01mif\u001b[39;49;00m\u001b[43m \u001b[49m\u001b[38;5;28;43mself\u001b[39;49m\u001b[38;5;241;43m.\u001b[39;49m\u001b[43m_facecolor\u001b[49m\u001b[43m[\u001b[49m\u001b[38;5;241;43m3\u001b[39;49m\u001b[43m]\u001b[49m\u001b[43m \u001b[49m\u001b[38;5;28;43;01melse\u001b[39;49;00m\u001b[43m \u001b[49m\u001b[38;5;28;43;01mNone\u001b[39;49;00m\u001b[43m)\u001b[49m\u001b[43m]\u001b[49m\u001b[43m)\u001b[49m\n",
      "File \u001b[1;32mD:\\anaconda\\lib\\site-packages\\matplotlib\\patches.py:576\u001b[0m, in \u001b[0;36mPatch._draw_paths_with_artist_properties\u001b[1;34m(self, renderer, draw_path_args_list)\u001b[0m\n\u001b[0;32m    573\u001b[0m     renderer \u001b[38;5;241m=\u001b[39m PathEffectRenderer(\u001b[38;5;28mself\u001b[39m\u001b[38;5;241m.\u001b[39mget_path_effects(), renderer)\n\u001b[0;32m    575\u001b[0m \u001b[38;5;28;01mfor\u001b[39;00m draw_path_args \u001b[38;5;129;01min\u001b[39;00m draw_path_args_list:\n\u001b[1;32m--> 576\u001b[0m     \u001b[43mrenderer\u001b[49m\u001b[38;5;241;43m.\u001b[39;49m\u001b[43mdraw_path\u001b[49m\u001b[43m(\u001b[49m\u001b[43mgc\u001b[49m\u001b[43m,\u001b[49m\u001b[43m \u001b[49m\u001b[38;5;241;43m*\u001b[39;49m\u001b[43mdraw_path_args\u001b[49m\u001b[43m)\u001b[49m\n\u001b[0;32m    578\u001b[0m gc\u001b[38;5;241m.\u001b[39mrestore()\n\u001b[0;32m    579\u001b[0m renderer\u001b[38;5;241m.\u001b[39mclose_group(\u001b[38;5;124m'\u001b[39m\u001b[38;5;124mpatch\u001b[39m\u001b[38;5;124m'\u001b[39m)\n",
      "File \u001b[1;32mD:\\anaconda\\lib\\site-packages\\matplotlib\\backends\\backend_agg.py:146\u001b[0m, in \u001b[0;36mRendererAgg.draw_path\u001b[1;34m(self, gc, path, transform, rgbFace)\u001b[0m\n\u001b[0;32m    144\u001b[0m \u001b[38;5;28;01melse\u001b[39;00m:\n\u001b[0;32m    145\u001b[0m     \u001b[38;5;28;01mtry\u001b[39;00m:\n\u001b[1;32m--> 146\u001b[0m         \u001b[38;5;28;43mself\u001b[39;49m\u001b[38;5;241;43m.\u001b[39;49m\u001b[43m_renderer\u001b[49m\u001b[38;5;241;43m.\u001b[39;49m\u001b[43mdraw_path\u001b[49m\u001b[43m(\u001b[49m\u001b[43mgc\u001b[49m\u001b[43m,\u001b[49m\u001b[43m \u001b[49m\u001b[43mpath\u001b[49m\u001b[43m,\u001b[49m\u001b[43m \u001b[49m\u001b[43mtransform\u001b[49m\u001b[43m,\u001b[49m\u001b[43m \u001b[49m\u001b[43mrgbFace\u001b[49m\u001b[43m)\u001b[49m\n\u001b[0;32m    147\u001b[0m     \u001b[38;5;28;01mexcept\u001b[39;00m \u001b[38;5;167;01mOverflowError\u001b[39;00m:\n\u001b[0;32m    148\u001b[0m         cant_chunk \u001b[38;5;241m=\u001b[39m \u001b[38;5;124m'\u001b[39m\u001b[38;5;124m'\u001b[39m\n",
      "File \u001b[1;32mD:\\anaconda\\lib\\site-packages\\matplotlib\\transforms.py:251\u001b[0m, in \u001b[0;36mBboxBase.__array__\u001b[1;34m(self, *args, **kwargs)\u001b[0m\n\u001b[0;32m    250\u001b[0m \u001b[38;5;28;01mdef\u001b[39;00m \u001b[38;5;21m__array__\u001b[39m(\u001b[38;5;28mself\u001b[39m, \u001b[38;5;241m*\u001b[39margs, \u001b[38;5;241m*\u001b[39m\u001b[38;5;241m*\u001b[39mkwargs):\n\u001b[1;32m--> 251\u001b[0m     \u001b[38;5;28;01mreturn\u001b[39;00m \u001b[38;5;28;43mself\u001b[39;49m\u001b[38;5;241;43m.\u001b[39;49m\u001b[43mget_points\u001b[49m\u001b[43m(\u001b[49m\u001b[43m)\u001b[49m\n",
      "File \u001b[1;32mD:\\anaconda\\lib\\site-packages\\matplotlib\\transforms.py:1116\u001b[0m, in \u001b[0;36mTransformedBbox.get_points\u001b[1;34m(self)\u001b[0m\n\u001b[0;32m   1112\u001b[0m p \u001b[38;5;241m=\u001b[39m \u001b[38;5;28mself\u001b[39m\u001b[38;5;241m.\u001b[39m_bbox\u001b[38;5;241m.\u001b[39mget_points()\n\u001b[0;32m   1113\u001b[0m \u001b[38;5;66;03m# Transform all four points, then make a new bounding box\u001b[39;00m\n\u001b[0;32m   1114\u001b[0m \u001b[38;5;66;03m# from the result, taking care to make the orientation the\u001b[39;00m\n\u001b[0;32m   1115\u001b[0m \u001b[38;5;66;03m# same.\u001b[39;00m\n\u001b[1;32m-> 1116\u001b[0m points \u001b[38;5;241m=\u001b[39m \u001b[38;5;28;43mself\u001b[39;49m\u001b[38;5;241;43m.\u001b[39;49m\u001b[43m_transform\u001b[49m\u001b[38;5;241;43m.\u001b[39;49m\u001b[43mtransform\u001b[49m\u001b[43m(\u001b[49m\n\u001b[0;32m   1117\u001b[0m \u001b[43m    \u001b[49m\u001b[43m[\u001b[49m\u001b[43m[\u001b[49m\u001b[43mp\u001b[49m\u001b[43m[\u001b[49m\u001b[38;5;241;43m0\u001b[39;49m\u001b[43m,\u001b[49m\u001b[43m \u001b[49m\u001b[38;5;241;43m0\u001b[39;49m\u001b[43m]\u001b[49m\u001b[43m,\u001b[49m\u001b[43m \u001b[49m\u001b[43mp\u001b[49m\u001b[43m[\u001b[49m\u001b[38;5;241;43m0\u001b[39;49m\u001b[43m,\u001b[49m\u001b[43m \u001b[49m\u001b[38;5;241;43m1\u001b[39;49m\u001b[43m]\u001b[49m\u001b[43m]\u001b[49m\u001b[43m,\u001b[49m\n\u001b[0;32m   1118\u001b[0m \u001b[43m     \u001b[49m\u001b[43m[\u001b[49m\u001b[43mp\u001b[49m\u001b[43m[\u001b[49m\u001b[38;5;241;43m1\u001b[39;49m\u001b[43m,\u001b[49m\u001b[43m \u001b[49m\u001b[38;5;241;43m0\u001b[39;49m\u001b[43m]\u001b[49m\u001b[43m,\u001b[49m\u001b[43m \u001b[49m\u001b[43mp\u001b[49m\u001b[43m[\u001b[49m\u001b[38;5;241;43m0\u001b[39;49m\u001b[43m,\u001b[49m\u001b[43m \u001b[49m\u001b[38;5;241;43m1\u001b[39;49m\u001b[43m]\u001b[49m\u001b[43m]\u001b[49m\u001b[43m,\u001b[49m\n\u001b[0;32m   1119\u001b[0m \u001b[43m     \u001b[49m\u001b[43m[\u001b[49m\u001b[43mp\u001b[49m\u001b[43m[\u001b[49m\u001b[38;5;241;43m0\u001b[39;49m\u001b[43m,\u001b[49m\u001b[43m \u001b[49m\u001b[38;5;241;43m0\u001b[39;49m\u001b[43m]\u001b[49m\u001b[43m,\u001b[49m\u001b[43m \u001b[49m\u001b[43mp\u001b[49m\u001b[43m[\u001b[49m\u001b[38;5;241;43m1\u001b[39;49m\u001b[43m,\u001b[49m\u001b[43m \u001b[49m\u001b[38;5;241;43m1\u001b[39;49m\u001b[43m]\u001b[49m\u001b[43m]\u001b[49m\u001b[43m,\u001b[49m\n\u001b[0;32m   1120\u001b[0m \u001b[43m     \u001b[49m\u001b[43m[\u001b[49m\u001b[43mp\u001b[49m\u001b[43m[\u001b[49m\u001b[38;5;241;43m1\u001b[39;49m\u001b[43m,\u001b[49m\u001b[43m \u001b[49m\u001b[38;5;241;43m0\u001b[39;49m\u001b[43m]\u001b[49m\u001b[43m,\u001b[49m\u001b[43m \u001b[49m\u001b[43mp\u001b[49m\u001b[43m[\u001b[49m\u001b[38;5;241;43m1\u001b[39;49m\u001b[43m,\u001b[49m\u001b[43m \u001b[49m\u001b[38;5;241;43m1\u001b[39;49m\u001b[43m]\u001b[49m\u001b[43m]\u001b[49m\u001b[43m]\u001b[49m\u001b[43m)\u001b[49m\n\u001b[0;32m   1121\u001b[0m points \u001b[38;5;241m=\u001b[39m np\u001b[38;5;241m.\u001b[39mma\u001b[38;5;241m.\u001b[39mfilled(points, \u001b[38;5;241m0.0\u001b[39m)\n\u001b[0;32m   1123\u001b[0m xs \u001b[38;5;241m=\u001b[39m \u001b[38;5;28mmin\u001b[39m(points[:, \u001b[38;5;241m0\u001b[39m]), \u001b[38;5;28mmax\u001b[39m(points[:, \u001b[38;5;241m0\u001b[39m])\n",
      "File \u001b[1;32mD:\\anaconda\\lib\\site-packages\\matplotlib\\transforms.py:1490\u001b[0m, in \u001b[0;36mTransform.transform\u001b[1;34m(self, values)\u001b[0m\n\u001b[0;32m   1487\u001b[0m values \u001b[38;5;241m=\u001b[39m values\u001b[38;5;241m.\u001b[39mreshape((\u001b[38;5;241m-\u001b[39m\u001b[38;5;241m1\u001b[39m, \u001b[38;5;28mself\u001b[39m\u001b[38;5;241m.\u001b[39minput_dims))\n\u001b[0;32m   1489\u001b[0m \u001b[38;5;66;03m# Transform the values\u001b[39;00m\n\u001b[1;32m-> 1490\u001b[0m res \u001b[38;5;241m=\u001b[39m \u001b[38;5;28;43mself\u001b[39;49m\u001b[38;5;241;43m.\u001b[39;49m\u001b[43mtransform_affine\u001b[49m\u001b[43m(\u001b[49m\u001b[38;5;28;43mself\u001b[39;49m\u001b[38;5;241;43m.\u001b[39;49m\u001b[43mtransform_non_affine\u001b[49m\u001b[43m(\u001b[49m\u001b[43mvalues\u001b[49m\u001b[43m)\u001b[49m\u001b[43m)\u001b[49m\n\u001b[0;32m   1492\u001b[0m \u001b[38;5;66;03m# Convert the result back to the shape of the input values.\u001b[39;00m\n\u001b[0;32m   1493\u001b[0m \u001b[38;5;28;01mif\u001b[39;00m ndim \u001b[38;5;241m==\u001b[39m \u001b[38;5;241m0\u001b[39m:\n",
      "File \u001b[1;32mD:\\anaconda\\lib\\site-packages\\matplotlib\\transforms.py:2415\u001b[0m, in \u001b[0;36mCompositeGenericTransform.transform_affine\u001b[1;34m(self, points)\u001b[0m\n\u001b[0;32m   2413\u001b[0m \u001b[38;5;28;01mdef\u001b[39;00m \u001b[38;5;21mtransform_affine\u001b[39m(\u001b[38;5;28mself\u001b[39m, points):\n\u001b[0;32m   2414\u001b[0m     \u001b[38;5;66;03m# docstring inherited\u001b[39;00m\n\u001b[1;32m-> 2415\u001b[0m     \u001b[38;5;28;01mreturn\u001b[39;00m \u001b[38;5;28;43mself\u001b[39;49m\u001b[38;5;241;43m.\u001b[39;49m\u001b[43mget_affine\u001b[49m\u001b[43m(\u001b[49m\u001b[43m)\u001b[49m\u001b[38;5;241m.\u001b[39mtransform(points)\n",
      "File \u001b[1;32mD:\\anaconda\\lib\\site-packages\\matplotlib\\transforms.py:2441\u001b[0m, in \u001b[0;36mCompositeGenericTransform.get_affine\u001b[1;34m(self)\u001b[0m\n\u001b[0;32m   2439\u001b[0m     \u001b[38;5;28;01mreturn\u001b[39;00m \u001b[38;5;28mself\u001b[39m\u001b[38;5;241m.\u001b[39m_b\u001b[38;5;241m.\u001b[39mget_affine()\n\u001b[0;32m   2440\u001b[0m \u001b[38;5;28;01melse\u001b[39;00m:\n\u001b[1;32m-> 2441\u001b[0m     \u001b[38;5;28;01mreturn\u001b[39;00m Affine2D(\u001b[43mnp\u001b[49m\u001b[38;5;241;43m.\u001b[39;49m\u001b[43mdot\u001b[49m\u001b[43m(\u001b[49m\u001b[38;5;28;43mself\u001b[39;49m\u001b[38;5;241;43m.\u001b[39;49m\u001b[43m_b\u001b[49m\u001b[38;5;241;43m.\u001b[39;49m\u001b[43mget_affine\u001b[49m\u001b[43m(\u001b[49m\u001b[43m)\u001b[49m\u001b[38;5;241;43m.\u001b[39;49m\u001b[43mget_matrix\u001b[49m\u001b[43m(\u001b[49m\u001b[43m)\u001b[49m\u001b[43m,\u001b[49m\n\u001b[0;32m   2442\u001b[0m \u001b[43m                           \u001b[49m\u001b[38;5;28;43mself\u001b[39;49m\u001b[38;5;241;43m.\u001b[39;49m\u001b[43m_a\u001b[49m\u001b[38;5;241;43m.\u001b[39;49m\u001b[43mget_affine\u001b[49m\u001b[43m(\u001b[49m\u001b[43m)\u001b[49m\u001b[38;5;241;43m.\u001b[39;49m\u001b[43mget_matrix\u001b[49m\u001b[43m(\u001b[49m\u001b[43m)\u001b[49m\u001b[43m)\u001b[49m)\n",
      "File \u001b[1;32m<__array_function__ internals>:180\u001b[0m, in \u001b[0;36mdot\u001b[1;34m(*args, **kwargs)\u001b[0m\n",
      "\u001b[1;31mKeyboardInterrupt\u001b[0m: "
     ]
    }
   ],
   "source": [
    "# greedy(Manhattan Distance) loop_check=True\n",
    "clever_search = search( small_puzzle, 'BF/FIFO', 10000000, heuristic = manhattan_heuristic,\n",
    "                     loop_check=True, randomise=False, show_state_path=True, return_info=True)"
   ]
  },
  {
   "cell_type": "code",
   "execution_count": null,
   "id": "dd96f76c",
   "metadata": {},
   "outputs": [],
   "source": [
    "# greedy(Manhattan Distance)  loop_check=False\n",
    "clever_search = search( small_puzzle, 'BF/FIFO', 10000000, heuristic = manhattan_heuristic,\n",
    "                     loop_check=False, randomise=False, show_state_path=True, return_info=True)"
   ]
  },
  {
   "cell_type": "code",
   "execution_count": null,
   "id": "a1f6a0c8",
   "metadata": {},
   "outputs": [],
   "source": [
    "# A*(Manhattan Distance) loop_check=True\n",
    "clever_search = search( small_puzzle, 'BF/FIFO', 10000000, heuristic = manhattan_heuristic,\n",
    "                     loop_check=True, randomise=False, cost=thecost, show_state_path=True, return_info=True)"
   ]
  },
  {
   "cell_type": "code",
   "execution_count": null,
   "id": "36ee0aa9",
   "metadata": {},
   "outputs": [],
   "source": [
    "# A*(Manhattan Distance) loop_check=False\n",
    "clever_search = search( small_puzzle, 'BF/FIFO', 10000000, heuristic = manhattan_heuristic,\n",
    "                     loop_check=False, randomise=False, cost=thecost, show_state_path=True, return_info=True)"
   ]
  },
  {
   "cell_type": "code",
   "execution_count": null,
   "id": "9e5b2b19",
   "metadata": {},
   "outputs": [],
   "source": [
    "# greedy(Euclidean Distance) loop_check=True\n",
    "clever_search = search( small_puzzle, 'BF/FIFO', 10000000, heuristic = straight_line_distance,\n",
    "                     loop_check=True, randomise=False, show_state_path=True, return_info=True)"
   ]
  },
  {
   "cell_type": "code",
   "execution_count": null,
   "id": "f44e9139",
   "metadata": {},
   "outputs": [],
   "source": [
    "# greedy(Euclidean Distance) loop_check=False\n",
    "clever_search = search( small_puzzle, 'BF/FIFO', 10000000, heuristic = straight_line_distance,\n",
    "                     loop_check=False, randomise=False, show_state_path=True, return_info=True)"
   ]
  },
  {
   "cell_type": "code",
   "execution_count": null,
   "id": "f53b1149",
   "metadata": {},
   "outputs": [],
   "source": [
    "# A*(Euclidean Distance) loop_check=True\n",
    "clever_search = search( small_puzzle, 'BF/FIFO', 10000000, heuristic = straight_line_distance,\n",
    "                     loop_check=True, randomise=False,cost=thecost, show_state_path=True, return_info=True)"
   ]
  },
  {
   "cell_type": "code",
   "execution_count": null,
   "id": "6a28f2ef",
   "metadata": {},
   "outputs": [],
   "source": [
    "# A*(Euclidean Distance) loop_check=False\n",
    "clever_search = search( small_puzzle, 'BF/FIFO', 10000000, heuristic = straight_line_distance,\n",
    "                     loop_check=False, randomise=False,cost=thecost, show_state_path=True, return_info=True)"
   ]
  },
  {
   "cell_type": "markdown",
   "id": "682842bb",
   "metadata": {},
   "source": [
    "## middle"
   ]
  },
  {
   "cell_type": "code",
   "execution_count": null,
   "id": "c620ada0",
   "metadata": {},
   "outputs": [],
   "source": [
    "big   = [[1,3,0,0,0,6,6],\n",
    "         [1,3,4,4,0,0,0],\n",
    "         [3,3,4,0,0,0,0],\n",
    "         [0,4,4,2,2,5,0],\n",
    "         [0,0,2,2,5,5,0]]\n",
    "\n",
    "hard_goal   = [[6,6,2,2,0,0,0],\n",
    "               [0,2,2,0,0,0,0],\n",
    "               [0,0,0,0,0,0,0],\n",
    "               [0,0,0,0,0,0,1],\n",
    "               [0,0,0,0,0,0,1]]\n",
    "\n",
    "hard_puzzle =  SlidingBlocksPuzzle( big, hard_goal )"
   ]
  },
  {
   "cell_type": "code",
   "execution_count": null,
   "id": "6bd87c77",
   "metadata": {},
   "outputs": [],
   "source": [
    "# 1.greedy(Manhattan Distance) loop_check=True\n",
    "clever_search = search( hard_puzzle, 'BF/FIFO', 10000000, heuristic = manhattan_heuristic,\n",
    "                     loop_check=True, randomise=False, show_state_path=True, return_info=True)"
   ]
  },
  {
   "cell_type": "code",
   "execution_count": null,
   "id": "c26e4067",
   "metadata": {},
   "outputs": [],
   "source": [
    "# 2.greedy(Manhattan Distance) loop_check=False\n",
    "clever_search = search( hard_puzzle, 'BF/FIFO', 10000000, heuristic = manhattan_heuristic,\n",
    "                     loop_check=False, randomise=False, show_state_path=True, return_info=True)"
   ]
  },
  {
   "cell_type": "code",
   "execution_count": null,
   "id": "3d5cbbb9",
   "metadata": {},
   "outputs": [],
   "source": [
    "# 3A*(Manhattan Distance) loop_check=True\n",
    "clever_search = search( hard_puzzle, 'BF/FIFO', 10000000, heuristic = manhattan_heuristic,\n",
    "                     loop_check=True, randomise=False,cost=thecost, show_state_path=True, return_info=True)"
   ]
  },
  {
   "cell_type": "code",
   "execution_count": null,
   "id": "1ece5a9b",
   "metadata": {},
   "outputs": [],
   "source": [
    "# 4A*(Manhattan Distance) loop_check=False\n",
    "clever_search = search( hard_puzzle, 'BF/FIFO', 10000000, heuristic = manhattan_heuristic,\n",
    "                     loop_check=False, randomise=False,cost=thecost, show_state_path=True, return_info=True)"
   ]
  },
  {
   "cell_type": "code",
   "execution_count": null,
   "id": "11967b6d",
   "metadata": {},
   "outputs": [],
   "source": [
    "# 5greedy(Euclidean Distance) loop_check=True\n",
    "clever_search = search( hard_puzzle, 'BF/FIFO', 10000000, heuristic = straight_line_distance,\n",
    "                     loop_check=True, randomise=False, show_state_path=True, return_info=True)"
   ]
  },
  {
   "cell_type": "code",
   "execution_count": null,
   "id": "721f6bdd",
   "metadata": {},
   "outputs": [],
   "source": [
    "# 6greedy(Euclidean Distance) loop_check=False\n",
    "clever_search = search( hard_puzzle, 'BF/FIFO', 10000000, heuristic = straight_line_distance,\n",
    "                     loop_check=False, randomise=False, show_state_path=True, return_info=True)"
   ]
  },
  {
   "cell_type": "code",
   "execution_count": null,
   "id": "1b47f44c",
   "metadata": {},
   "outputs": [],
   "source": [
    "# 7A*(欧式Distance) loop_check=True\n",
    "clever_search = search( hard_puzzle, 'BF/FIFO', 10000000, heuristic = straight_line_distance,\n",
    "                     loop_check=True, randomise=False,cost=thecost, show_state_path=True, return_info=True)"
   ]
  },
  {
   "cell_type": "code",
   "execution_count": null,
   "id": "527367f5",
   "metadata": {},
   "outputs": [],
   "source": [
    "# 5A*(欧式Distance) loop_check=False\n",
    "clever_search = search( hard_puzzle, 'BF/FIFO', 10000000, heuristic = straight_line_distance,\n",
    "                     loop_check=False, randomise=False,cost=thecost, show_state_path=True, return_info=True)"
   ]
  },
  {
   "cell_type": "markdown",
   "id": "1159bc47",
   "metadata": {},
   "source": [
    "## hard"
   ]
  },
  {
   "cell_type": "code",
   "execution_count": null,
   "id": "cdbb25ce",
   "metadata": {},
   "outputs": [],
   "source": [
    "most_big = [\n",
    "    [1, 3, 0, 0, 0, 0, 0, 7],\n",
    "    [1, 3, 4, 4, 0, 0, 6, 7],\n",
    "    [3, 3, 4, 0, 8, 8, 6, 0],\n",
    "    [0, 4, 4, 0, 0, 8, 0, 0],\n",
    "    [0, 5, 0, 0, 0, 3, 0, 5],\n",
    "    [0, 5, 2, 2, 3, 3, 3, 5],\n",
    "    [5, 5, 0, 2, 0, 0, 0, 0],\n",
    "    [0, 0, 0, 2, 0, 0, 0, 0]\n",
    "]\n",
    "\n",
    "most_big_goal = [\n",
    "    [5, 0, 0, 0, 0, 0, 0, 0],\n",
    "    [5, 0, 0, 0, 0, 0, 0, 0],\n",
    "    [0, 0, 0, 0, 0, 0, 0, 0],\n",
    "    [0, 0, 0, 0, 0, 0, 0, 0],\n",
    "    [0, 0, 0, 0, 0, 0, 0, 0],\n",
    "    [0, 0, 0, 0, 0, 0, 0, 0],\n",
    "    [0, 0, 0, 0, 0, 0, 0, 1],\n",
    "    [0, 0, 0, 0, 0, 0, 0, 1]\n",
    "]\n",
    "\n",
    "most_big_puzzle = SlidingBlocksPuzzle(most_big, most_big_goal)"
   ]
  },
  {
   "cell_type": "code",
   "execution_count": null,
   "id": "416f6dcb",
   "metadata": {},
   "outputs": [],
   "source": [
    "clever_search_hardest = search( most_big_puzzle, 'BF/FIFO', 1000000, heuristic=manhattan_heuristic,\n",
    "                     loop_check=True, randomise=False, show_state_path=True, return_info=True)"
   ]
  },
  {
   "cell_type": "code",
   "execution_count": null,
   "id": "700ca179",
   "metadata": {
    "scrolled": true
   },
   "outputs": [],
   "source": [
    "clever_search_hardest = search( most_big_puzzle, 'BF/FIFO', 10000000, heuristic = manhattan_heuristic,\n",
    "                     loop_check=True, randomise=False,cost=thecost, show_state_path=True, return_info=True)"
   ]
  },
  {
   "cell_type": "code",
   "execution_count": null,
   "id": "af64cfc6",
   "metadata": {},
   "outputs": [],
   "source": [
    "clever_search_hardest = search( most_big_puzzle, 'BF/FIFO', 10000000, heuristic = straight_line_distance,\n",
    "                     loop_check=True, randomise=False, show_state_path=True, return_info=True)"
   ]
  },
  {
   "cell_type": "code",
   "execution_count": null,
   "id": "0fd02027",
   "metadata": {},
   "outputs": [],
   "source": [
    "clever_search_hardest = search( most_big_puzzle, 'BF/FIFO', 10000000, heuristic = straight_line_distance,\n",
    "                     loop_check=True, randomise=False,cost=thecost, show_state_path=True, return_info=True)"
   ]
  },
  {
   "cell_type": "code",
   "execution_count": null,
   "id": "b5f176e2",
   "metadata": {},
   "outputs": [],
   "source": [
    "import threading\n",
    "def target():\n",
    "        result[0] = clever_search_hardest = search( most_big_puzzle, 'BF/FIFO', 10000000, heuristic = straight_line_distance,\n",
    "                     loop_check=True, randomise=False,cost=thecost, show_state_path=True, return_info=True)\n",
    "thread = threading.Thread(target=target)\n",
    "thread.start()\n",
    "thread.join(timeout=300) \n",
    "if thread.is_alive():  \n",
    "    print(\"The search times out\")\n",
    "else \n",
    "    result[0]"
   ]
  },
  {
   "cell_type": "code",
   "execution_count": null,
   "id": "e58b7e2d",
   "metadata": {},
   "outputs": [],
   "source": []
  }
 ],
 "metadata": {
  "kernelspec": {
   "display_name": "Python 3 (ipykernel)",
   "language": "python",
   "name": "python3"
  },
  "language_info": {
   "codemirror_mode": {
    "name": "ipython",
    "version": 3
   },
   "file_extension": ".py",
   "mimetype": "text/x-python",
   "name": "python",
   "nbconvert_exporter": "python",
   "pygments_lexer": "ipython3",
   "version": "3.10.9"
  }
 },
 "nbformat": 4,
 "nbformat_minor": 5
}
